{
 "cells": [
  {
   "cell_type": "code",
   "execution_count": 1,
   "id": "7f9aa561",
   "metadata": {
    "ExecuteTime": {
     "end_time": "2022-12-23T00:10:16.281392Z",
     "start_time": "2022-12-23T00:10:15.655936Z"
    }
   },
   "outputs": [],
   "source": [
    "import pandas as pd"
   ]
  },
  {
   "cell_type": "code",
   "execution_count": 2,
   "id": "bfa2b7fc",
   "metadata": {
    "ExecuteTime": {
     "end_time": "2022-12-23T00:10:18.920316Z",
     "start_time": "2022-12-23T00:10:16.286377Z"
    }
   },
   "outputs": [],
   "source": [
    "brfss = pd.read_csv(\"./temp/edit_brfss.csv\")\n",
    "checkup = pd.read_csv(\"./temp/건강검진.csv\", encoding=\"cp949\")\n",
    "regionheart = pd.read_csv(\"./temp/지역별 심장질환.csv\", encoding=\"cp949\")\n",
    "medical = pd.read_csv(\"./temp/hos_all.csv\")"
   ]
  },
  {
   "cell_type": "code",
   "execution_count": 3,
   "id": "434d5baf",
   "metadata": {
    "ExecuteTime": {
     "end_time": "2022-12-23T00:10:18.935961Z",
     "start_time": "2022-12-23T00:10:18.922441Z"
    },
    "scrolled": false
   },
   "outputs": [],
   "source": [
    "def check_dataframe(df):\n",
    "    print(df.head())\n",
    "    print(df.info())\n",
    "    \n",
    "    for col in df.columns:\n",
    "        if len(df[col].unique()) <= 10:\n",
    "            print(df[col].value_counts())\n",
    "            print(\"*\"*20)"
   ]
  },
  {
   "cell_type": "markdown",
   "id": "103cff0e",
   "metadata": {},
   "source": [
    "## brfss\n",
    "1. CHOLESTEROL, LIVER1, LIVER2 열 제거\n",
    "2. SMOKE를 제외한 열 중 하나라도 결측값이 있는 행 제거\n",
    "3. HEIGHT, WEIGHT 열 5 단위로 변경"
   ]
  },
  {
   "cell_type": "code",
   "execution_count": 4,
   "id": "9af0b658",
   "metadata": {
    "ExecuteTime": {
     "end_time": "2022-12-23T00:10:19.205694Z",
     "start_time": "2022-12-23T00:10:18.939950Z"
    },
    "scrolled": false
   },
   "outputs": [
    {
     "name": "stdout",
     "output_type": "stream",
     "text": [
      "   HEARTDISEASE SEX  HEIGHT     WEIGHT  BLIND  DEAF  DIABETE  CHOLESTEROL  \\\n",
      "0           0.0   F  149.86  32.658651    0.0   0.0      0.0          1.0   \n",
      "1           0.0   F  167.64        NaN    1.0   0.0      1.0          1.0   \n",
      "2           0.0   F  165.10  77.110703    0.0   0.0      1.0          2.0   \n",
      "3           0.0   F  162.56  88.450512    0.0   0.0      1.0          1.0   \n",
      "4           1.0   M  180.34  93.440028    0.0   1.0      1.0          1.0   \n",
      "\n",
      "   HYPERTENSION  KIDNEY  LIVER1  LIVER2  ALCOHOL  SMOKE  \n",
      "0           0.0     0.0     NaN     NaN      0.0    1.0  \n",
      "1           1.0     1.0     NaN     NaN      0.0    0.0  \n",
      "2           1.0     0.0     NaN     NaN      0.0    0.0  \n",
      "3           1.0     0.0     NaN     NaN      1.0    0.0  \n",
      "4           0.0     0.0     NaN     NaN      0.0    0.0  \n",
      "<class 'pandas.core.frame.DataFrame'>\n",
      "RangeIndex: 438693 entries, 0 to 438692\n",
      "Data columns (total 14 columns):\n",
      " #   Column        Non-Null Count   Dtype  \n",
      "---  ------        --------------   -----  \n",
      " 0   HEARTDISEASE  436038 non-null  float64\n",
      " 1   SEX           438693 non-null  object \n",
      " 2   HEIGHT        414134 non-null  float64\n",
      " 3   WEIGHT        398118 non-null  float64\n",
      " 4   BLIND         421342 non-null  float64\n",
      " 5   DEAF          422295 non-null  float64\n",
      " 6   DIABETE       437708 non-null  float64\n",
      " 7   CHOLESTEROL   377857 non-null  float64\n",
      " 8   HYPERTENSION  436781 non-null  float64\n",
      " 9   KIDNEY        436880 non-null  float64\n",
      " 10  LIVER1        10743 non-null   float64\n",
      " 11  LIVER2        10697 non-null   float64\n",
      " 12  ALCOHOL       408104 non-null  float64\n",
      " 13  SMOKE         414232 non-null  float64\n",
      "dtypes: float64(13), object(1)\n",
      "memory usage: 46.9+ MB\n",
      "None\n",
      "0.0    413207\n",
      "1.0     22831\n",
      "Name: HEARTDISEASE, dtype: int64\n",
      "********************\n",
      "F    234883\n",
      "M    203810\n",
      "Name: SEX, dtype: int64\n",
      "********************\n",
      "0.0    399597\n",
      "1.0     21745\n",
      "Name: BLIND, dtype: int64\n",
      "********************\n",
      "0.0    384717\n",
      "1.0     37578\n",
      "Name: DEAF, dtype: int64\n",
      "********************\n",
      "0.0    380092\n",
      "1.0     57616\n",
      "Name: DIABETE, dtype: int64\n",
      "********************\n",
      "2.0    224989\n",
      "1.0    149724\n",
      "7.0      2689\n",
      "9.0       455\n",
      "Name: CHOLESTEROL, dtype: int64\n",
      "********************\n",
      "0.0    264648\n",
      "1.0    172133\n",
      "Name: HYPERTENSION, dtype: int64\n",
      "********************\n",
      "0.0    419779\n",
      "1.0     17101\n",
      "Name: KIDNEY, dtype: int64\n",
      "********************\n",
      "0.0    10580\n",
      "1.0      163\n",
      "Name: LIVER1, dtype: int64\n",
      "********************\n",
      "0.0    10602\n",
      "1.0       95\n",
      "Name: LIVER2, dtype: int64\n",
      "********************\n",
      "1.0    211232\n",
      "0.0    196872\n",
      "Name: ALCOHOL, dtype: int64\n",
      "********************\n",
      "0.0    246644\n",
      "1.0    167588\n",
      "Name: SMOKE, dtype: int64\n",
      "********************\n"
     ]
    }
   ],
   "source": [
    "check_dataframe(brfss)"
   ]
  },
  {
   "cell_type": "markdown",
   "id": "73066a9d",
   "metadata": {},
   "source": [
    "### 열 제거\n",
    "- CHOLESTEROL, LIVER 제거"
   ]
  },
  {
   "cell_type": "code",
   "execution_count": 5,
   "id": "efb16f11",
   "metadata": {
    "ExecuteTime": {
     "end_time": "2022-12-23T00:10:19.250506Z",
     "start_time": "2022-12-23T00:10:19.211613Z"
    }
   },
   "outputs": [],
   "source": [
    "brfss.drop([\"CHOLESTEROL\", \"LIVER1\", \"LIVER2\"], axis=1, inplace=True)"
   ]
  },
  {
   "cell_type": "code",
   "execution_count": 6,
   "id": "be981bba",
   "metadata": {
    "ExecuteTime": {
     "end_time": "2022-12-23T00:10:19.370187Z",
     "start_time": "2022-12-23T00:10:19.252501Z"
    }
   },
   "outputs": [],
   "source": [
    "brfss[\"SEX\"].replace({\"M\": 1, \"F\": 0}, inplace=True)"
   ]
  },
  {
   "cell_type": "markdown",
   "id": "68c56f86",
   "metadata": {
    "ExecuteTime": {
     "end_time": "2022-12-22T00:48:25.211100Z",
     "start_time": "2022-12-22T00:48:25.200799Z"
    }
   },
   "source": [
    "### 결측치 처리\n",
    "- ALCOHOL 제외한 열 중에서 하나라도 결측치가 있는 행 제거"
   ]
  },
  {
   "cell_type": "code",
   "execution_count": 7,
   "id": "ea8ed6b0",
   "metadata": {
    "ExecuteTime": {
     "end_time": "2022-12-23T00:10:19.400109Z",
     "start_time": "2022-12-23T00:10:19.373177Z"
    }
   },
   "outputs": [
    {
     "data": {
      "text/plain": [
       "HEARTDISEASE     2655\n",
       "SEX                 0\n",
       "HEIGHT          24559\n",
       "WEIGHT          40575\n",
       "BLIND           17351\n",
       "DEAF            16398\n",
       "DIABETE           985\n",
       "HYPERTENSION     1912\n",
       "KIDNEY           1813\n",
       "ALCOHOL         30589\n",
       "SMOKE           24461\n",
       "dtype: int64"
      ]
     },
     "execution_count": 7,
     "metadata": {},
     "output_type": "execute_result"
    }
   ],
   "source": [
    "brfss.isnull().sum()"
   ]
  },
  {
   "cell_type": "code",
   "execution_count": 8,
   "id": "43052b65",
   "metadata": {
    "ExecuteTime": {
     "end_time": "2022-12-23T00:10:19.430245Z",
     "start_time": "2022-12-23T00:10:19.402105Z"
    }
   },
   "outputs": [
    {
     "data": {
      "text/plain": [
       "HEARTDISEASE    0.006052\n",
       "SEX             0.000000\n",
       "HEIGHT          0.055982\n",
       "WEIGHT          0.092491\n",
       "BLIND           0.039552\n",
       "DEAF            0.037379\n",
       "DIABETE         0.002245\n",
       "HYPERTENSION    0.004358\n",
       "KIDNEY          0.004133\n",
       "ALCOHOL         0.069728\n",
       "SMOKE           0.055759\n",
       "dtype: float64"
      ]
     },
     "execution_count": 8,
     "metadata": {},
     "output_type": "execute_result"
    }
   ],
   "source": [
    "brfss.isnull().sum() / len(brfss)"
   ]
  },
  {
   "cell_type": "code",
   "execution_count": 9,
   "id": "05ff5f15",
   "metadata": {
    "ExecuteTime": {
     "end_time": "2022-12-23T00:10:19.505909Z",
     "start_time": "2022-12-23T00:10:19.437224Z"
    }
   },
   "outputs": [],
   "source": [
    "col_list = list(brfss.columns)\n",
    "col_list.remove(\"ALCOHOL\")\n",
    "\n",
    "brfss.dropna(how=\"any\", subset=col_list, inplace=True)"
   ]
  },
  {
   "cell_type": "code",
   "execution_count": 10,
   "id": "4ede8a7f",
   "metadata": {
    "ExecuteTime": {
     "end_time": "2022-12-23T00:10:19.520848Z",
     "start_time": "2022-12-23T00:10:19.509859Z"
    }
   },
   "outputs": [],
   "source": [
    "brfss[\"SMOKE\"].fillna(9, inplace=True)"
   ]
  },
  {
   "cell_type": "markdown",
   "id": "6b876371",
   "metadata": {},
   "source": [
    "### HEIGHT, WEIGHT\n",
    "- 검진자의 키(5CM 단위)\n",
    "    - 예) 100-104CM --> 100CM\n",
    "- 검진자의 몸무게(5KG 단위)\n",
    "    - 예) 25~29KG -> 25KG"
   ]
  },
  {
   "cell_type": "code",
   "execution_count": 11,
   "id": "df1a47e0",
   "metadata": {
    "ExecuteTime": {
     "end_time": "2022-12-23T00:10:19.565730Z",
     "start_time": "2022-12-23T00:10:19.522843Z"
    }
   },
   "outputs": [
    {
     "data": {
      "text/plain": [
       "0         145.0\n",
       "2         165.0\n",
       "3         160.0\n",
       "4         180.0\n",
       "5         190.0\n",
       "          ...  \n",
       "438687    180.0\n",
       "438688    155.0\n",
       "438690    180.0\n",
       "438691    180.0\n",
       "438692    160.0\n",
       "Name: HEIGHT, Length: 378646, dtype: float64"
      ]
     },
     "execution_count": 11,
     "metadata": {},
     "output_type": "execute_result"
    }
   ],
   "source": [
    "brfss[\"HEIGHT\"] // 5 * 5"
   ]
  },
  {
   "cell_type": "code",
   "execution_count": 12,
   "id": "9aa98239",
   "metadata": {
    "ExecuteTime": {
     "end_time": "2022-12-23T00:10:19.610688Z",
     "start_time": "2022-12-23T00:10:19.567725Z"
    }
   },
   "outputs": [],
   "source": [
    "brfss[\"HEIGHT\"] = brfss[\"HEIGHT\"] // 5 * 5"
   ]
  },
  {
   "cell_type": "code",
   "execution_count": 13,
   "id": "4b3ca2a9",
   "metadata": {
    "ExecuteTime": {
     "end_time": "2022-12-23T00:10:19.656279Z",
     "start_time": "2022-12-23T00:10:19.612603Z"
    }
   },
   "outputs": [],
   "source": [
    "brfss[\"WEIGHT\"] = brfss[\"WEIGHT\"] // 5 * 5"
   ]
  },
  {
   "cell_type": "markdown",
   "id": "152f44dd",
   "metadata": {},
   "source": [
    "### 확인 및 저장"
   ]
  },
  {
   "cell_type": "code",
   "execution_count": 14,
   "id": "74dac91c",
   "metadata": {
    "ExecuteTime": {
     "end_time": "2022-12-23T00:10:19.820562Z",
     "start_time": "2022-12-23T00:10:19.659135Z"
    }
   },
   "outputs": [
    {
     "name": "stdout",
     "output_type": "stream",
     "text": [
      "   HEARTDISEASE  SEX  HEIGHT  WEIGHT  BLIND  DEAF  DIABETE  HYPERTENSION  \\\n",
      "0           0.0    0   145.0    30.0    0.0   0.0      0.0           0.0   \n",
      "2           0.0    0   165.0    75.0    0.0   0.0      1.0           1.0   \n",
      "3           0.0    0   160.0    85.0    0.0   0.0      1.0           1.0   \n",
      "4           1.0    1   180.0    90.0    0.0   1.0      1.0           0.0   \n",
      "5           0.0    1   190.0    85.0    0.0   0.0      0.0           0.0   \n",
      "\n",
      "   KIDNEY  ALCOHOL  SMOKE  \n",
      "0     0.0      0.0    1.0  \n",
      "2     0.0      0.0    0.0  \n",
      "3     0.0      1.0    0.0  \n",
      "4     0.0      0.0    0.0  \n",
      "5     0.0      0.0    1.0  \n",
      "<class 'pandas.core.frame.DataFrame'>\n",
      "Int64Index: 378646 entries, 0 to 438692\n",
      "Data columns (total 11 columns):\n",
      " #   Column        Non-Null Count   Dtype  \n",
      "---  ------        --------------   -----  \n",
      " 0   HEARTDISEASE  378646 non-null  float64\n",
      " 1   SEX           378646 non-null  int64  \n",
      " 2   HEIGHT        378646 non-null  float64\n",
      " 3   WEIGHT        378646 non-null  float64\n",
      " 4   BLIND         378646 non-null  float64\n",
      " 5   DEAF          378646 non-null  float64\n",
      " 6   DIABETE       378646 non-null  float64\n",
      " 7   HYPERTENSION  378646 non-null  float64\n",
      " 8   KIDNEY        378646 non-null  float64\n",
      " 9   ALCOHOL       372010 non-null  float64\n",
      " 10  SMOKE         378646 non-null  float64\n",
      "dtypes: float64(10), int64(1)\n",
      "memory usage: 34.7 MB\n",
      "None\n",
      "0.0    358424\n",
      "1.0     20222\n",
      "Name: HEARTDISEASE, dtype: int64\n",
      "********************\n",
      "0    196705\n",
      "1    181941\n",
      "Name: SEX, dtype: int64\n",
      "********************\n",
      "0.0    359617\n",
      "1.0     19029\n",
      "Name: BLIND, dtype: int64\n",
      "********************\n",
      "0.0    344861\n",
      "1.0     33785\n",
      "Name: DEAF, dtype: int64\n",
      "********************\n",
      "0.0    329192\n",
      "1.0     49454\n",
      "Name: DIABETE, dtype: int64\n",
      "********************\n",
      "0.0    229621\n",
      "1.0    149025\n",
      "Name: HYPERTENSION, dtype: int64\n",
      "********************\n",
      "0.0    363773\n",
      "1.0     14873\n",
      "Name: KIDNEY, dtype: int64\n",
      "********************\n",
      "1.0    196836\n",
      "0.0    175174\n",
      "Name: ALCOHOL, dtype: int64\n",
      "********************\n",
      "0.0    223592\n",
      "1.0    155054\n",
      "Name: SMOKE, dtype: int64\n",
      "********************\n"
     ]
    }
   ],
   "source": [
    "check_dataframe(brfss)"
   ]
  },
  {
   "cell_type": "code",
   "execution_count": 15,
   "id": "c651f395",
   "metadata": {
    "ExecuteTime": {
     "end_time": "2022-12-23T00:10:21.947081Z",
     "start_time": "2022-12-23T00:10:19.823519Z"
    }
   },
   "outputs": [],
   "source": [
    "brfss.to_csv(\"../data/brfss.csv\", index=False)"
   ]
  },
  {
   "cell_type": "markdown",
   "id": "7c9b0cf6",
   "metadata": {},
   "source": [
    "## 건강검진\n",
    "1. LIVER 열 제거\n",
    "2. SEX 열 F, M으로 변경\n",
    "3. 지역 열 긴 이름으로 변경(서울 -> 서울특별시)\n",
    "4. encoding 변경(cp949 -> utf-8)"
   ]
  },
  {
   "cell_type": "code",
   "execution_count": 16,
   "id": "bd03492f",
   "metadata": {
    "ExecuteTime": {
     "end_time": "2022-12-23T00:10:22.457787Z",
     "start_time": "2022-12-23T00:10:21.949075Z"
    }
   },
   "outputs": [
    {
     "name": "stdout",
     "output_type": "stream",
     "text": [
      "   지역  SEX  HEIGHT  WEIGHT  BLIND  DEAF  DIABETE  HYPERTENSION  KIDNEY  LIVER  \\\n",
      "0  세종    1     165      60      0     0        0             0       0      0   \n",
      "1  대구    2     150      65      0     0        0             0       1      0   \n",
      "2  서울    2     155      55      0     0        0             0       1      0   \n",
      "3  울산    1     160      70      0     1        1             0       0      1   \n",
      "4  경기    2     155      50      0     0        0             1       1      0   \n",
      "\n",
      "   ALCOHOL  SMOKE  \n",
      "0      0.0      0  \n",
      "1      0.0      0  \n",
      "2      0.0      0  \n",
      "3      0.0      0  \n",
      "4      0.0      0  \n",
      "<class 'pandas.core.frame.DataFrame'>\n",
      "RangeIndex: 2039244 entries, 0 to 2039243\n",
      "Data columns (total 12 columns):\n",
      " #   Column        Dtype  \n",
      "---  ------        -----  \n",
      " 0   지역            object \n",
      " 1   SEX           int64  \n",
      " 2   HEIGHT        int64  \n",
      " 3   WEIGHT        int64  \n",
      " 4   BLIND         int64  \n",
      " 5   DEAF          int64  \n",
      " 6   DIABETE       int64  \n",
      " 7   HYPERTENSION  int64  \n",
      " 8   KIDNEY        int64  \n",
      " 9   LIVER         int64  \n",
      " 10  ALCOHOL       float64\n",
      " 11  SMOKE         int64  \n",
      "dtypes: float64(1), int64(10), object(1)\n",
      "memory usage: 186.7+ MB\n",
      "None\n",
      "1    1054132\n",
      "2     985112\n",
      "Name: SEX, dtype: int64\n",
      "********************\n",
      "0    2027149\n",
      "1      12095\n",
      "Name: BLIND, dtype: int64\n",
      "********************\n",
      "0    1933707\n",
      "1     105537\n",
      "Name: DEAF, dtype: int64\n",
      "********************\n",
      "0    1852671\n",
      "1     186573\n",
      "Name: DIABETE, dtype: int64\n",
      "********************\n",
      "0    1732168\n",
      "1     307076\n",
      "Name: HYPERTENSION, dtype: int64\n",
      "********************\n",
      "0    1295062\n",
      "1     744182\n",
      "Name: KIDNEY, dtype: int64\n",
      "********************\n",
      "0    1726996\n",
      "1     312248\n",
      "Name: LIVER, dtype: int64\n",
      "********************\n",
      "1.0    1262142\n",
      "0.0     406418\n",
      "9.0     370684\n",
      "Name: ALCOHOL, dtype: int64\n",
      "********************\n",
      "0    1279087\n",
      "1     760157\n",
      "Name: SMOKE, dtype: int64\n",
      "********************\n"
     ]
    }
   ],
   "source": [
    "check_dataframe(checkup)"
   ]
  },
  {
   "cell_type": "code",
   "execution_count": 17,
   "id": "1242f2e9",
   "metadata": {
    "ExecuteTime": {
     "end_time": "2022-12-23T00:10:22.548477Z",
     "start_time": "2022-12-23T00:10:22.459747Z"
    }
   },
   "outputs": [],
   "source": [
    "# LIVER 제거\n",
    "checkup.drop([\"LIVER\"], axis=1, inplace=True)"
   ]
  },
  {
   "cell_type": "code",
   "execution_count": 18,
   "id": "05981407",
   "metadata": {
    "ExecuteTime": {
     "end_time": "2022-12-23T00:10:23.522123Z",
     "start_time": "2022-12-23T00:10:22.549473Z"
    }
   },
   "outputs": [],
   "source": [
    "region = {\"강원\": \"강원도\", \"경기\": \"경기도\", \"경남\": \"경상남도\", \"경북\": \"경상북도\", \n",
    "          \"전남\": \"전라남도\", \"전북\": \"전라북도\", \"충남\": \"충청남도\", \"충북\": \"충청북도\", \n",
    "          \"광주\": \"광주광역시\", \"대구\": \"대구광역시\", \"대전\": \"대전광역시\", \"부산\": \"부산광역시\", \n",
    "          \"서울\": \"서울특별시\", \"울산\": \"울산광역시\", \"인천\": \"인천광역시\", \n",
    "          \"세종\": \"세종특별자치시\", \"제주\": \"제주특별자치도\"}\n",
    "\n",
    "checkup[\"SEX\"].replace({1: 1, 2: 0}, inplace=True)\n",
    "checkup[\"지역\"].replace(region, inplace=True)"
   ]
  },
  {
   "cell_type": "code",
   "execution_count": 19,
   "id": "ec0ed18e",
   "metadata": {
    "ExecuteTime": {
     "end_time": "2022-12-23T00:10:23.806363Z",
     "start_time": "2022-12-23T00:10:23.524117Z"
    },
    "scrolled": true
   },
   "outputs": [
    {
     "data": {
      "text/plain": [
       "지역              0\n",
       "SEX             0\n",
       "HEIGHT          0\n",
       "WEIGHT          0\n",
       "BLIND           0\n",
       "DEAF            0\n",
       "DIABETE         0\n",
       "HYPERTENSION    0\n",
       "KIDNEY          0\n",
       "ALCOHOL         0\n",
       "SMOKE           0\n",
       "dtype: int64"
      ]
     },
     "execution_count": 19,
     "metadata": {},
     "output_type": "execute_result"
    }
   ],
   "source": [
    "checkup.isnull().sum()"
   ]
  },
  {
   "cell_type": "code",
   "execution_count": 20,
   "id": "06501eb4",
   "metadata": {
    "ExecuteTime": {
     "end_time": "2022-12-23T00:10:24.270951Z",
     "start_time": "2022-12-23T00:10:23.808398Z"
    }
   },
   "outputs": [
    {
     "name": "stdout",
     "output_type": "stream",
     "text": [
      "        지역  SEX  HEIGHT  WEIGHT  BLIND  DEAF  DIABETE  HYPERTENSION  KIDNEY  \\\n",
      "0  세종특별자치시    1     165      60      0     0        0             0       0   \n",
      "1    대구광역시    0     150      65      0     0        0             0       1   \n",
      "2    서울특별시    0     155      55      0     0        0             0       1   \n",
      "3    울산광역시    1     160      70      0     1        1             0       0   \n",
      "4      경기도    0     155      50      0     0        0             1       1   \n",
      "\n",
      "   ALCOHOL  SMOKE  \n",
      "0      0.0      0  \n",
      "1      0.0      0  \n",
      "2      0.0      0  \n",
      "3      0.0      0  \n",
      "4      0.0      0  \n",
      "<class 'pandas.core.frame.DataFrame'>\n",
      "RangeIndex: 2039244 entries, 0 to 2039243\n",
      "Data columns (total 11 columns):\n",
      " #   Column        Dtype  \n",
      "---  ------        -----  \n",
      " 0   지역            object \n",
      " 1   SEX           int64  \n",
      " 2   HEIGHT        int64  \n",
      " 3   WEIGHT        int64  \n",
      " 4   BLIND         int64  \n",
      " 5   DEAF          int64  \n",
      " 6   DIABETE       int64  \n",
      " 7   HYPERTENSION  int64  \n",
      " 8   KIDNEY        int64  \n",
      " 9   ALCOHOL       float64\n",
      " 10  SMOKE         int64  \n",
      "dtypes: float64(1), int64(9), object(1)\n",
      "memory usage: 171.1+ MB\n",
      "None\n",
      "1    1054132\n",
      "0     985112\n",
      "Name: SEX, dtype: int64\n",
      "********************\n",
      "0    2027149\n",
      "1      12095\n",
      "Name: BLIND, dtype: int64\n",
      "********************\n",
      "0    1933707\n",
      "1     105537\n",
      "Name: DEAF, dtype: int64\n",
      "********************\n",
      "0    1852671\n",
      "1     186573\n",
      "Name: DIABETE, dtype: int64\n",
      "********************\n",
      "0    1732168\n",
      "1     307076\n",
      "Name: HYPERTENSION, dtype: int64\n",
      "********************\n",
      "0    1295062\n",
      "1     744182\n",
      "Name: KIDNEY, dtype: int64\n",
      "********************\n",
      "1.0    1262142\n",
      "0.0     406418\n",
      "9.0     370684\n",
      "Name: ALCOHOL, dtype: int64\n",
      "********************\n",
      "0    1279087\n",
      "1     760157\n",
      "Name: SMOKE, dtype: int64\n",
      "********************\n"
     ]
    }
   ],
   "source": [
    "check_dataframe(checkup)"
   ]
  },
  {
   "cell_type": "code",
   "execution_count": 21,
   "id": "bbca931d",
   "metadata": {
    "ExecuteTime": {
     "end_time": "2022-12-23T00:10:30.247107Z",
     "start_time": "2022-12-23T00:10:24.273904Z"
    }
   },
   "outputs": [],
   "source": [
    "checkup.to_csv(\"../data/checkup.csv\", index=False, encoding=\"utf-8\")"
   ]
  },
  {
   "cell_type": "markdown",
   "id": "16526e78",
   "metadata": {},
   "source": [
    "## 지역별 심장환자 현황\n",
    "1. encoding 변경(cp949 -> utf-8)"
   ]
  },
  {
   "cell_type": "code",
   "execution_count": 22,
   "id": "b8dff107",
   "metadata": {
    "ExecuteTime": {
     "end_time": "2022-12-23T00:10:30.277732Z",
     "start_time": "2022-12-23T00:10:30.249117Z"
    }
   },
   "outputs": [
    {
     "name": "stdout",
     "output_type": "stream",
     "text": [
      "      지역  심장질환사망자  심장장애      주민등록인구\n",
      "0    강원도   4900.0   121   1538492.0\n",
      "1    경기도  25708.0  1295  13565450.0\n",
      "2   경상남도  10312.0   268   3314183.0\n",
      "3   경상북도   9880.0   311   2626609.0\n",
      "4  광주광역시   2712.0   140   1441611.0\n",
      "<class 'pandas.core.frame.DataFrame'>\n",
      "RangeIndex: 17 entries, 0 to 16\n",
      "Data columns (total 4 columns):\n",
      " #   Column   Non-Null Count  Dtype  \n",
      "---  ------   --------------  -----  \n",
      " 0   지역       17 non-null     object \n",
      " 1   심장질환사망자  17 non-null     float64\n",
      " 2   심장장애     17 non-null     int64  \n",
      " 3   주민등록인구   17 non-null     float64\n",
      "dtypes: float64(2), int64(1), object(1)\n",
      "memory usage: 672.0+ bytes\n",
      "None\n"
     ]
    }
   ],
   "source": [
    "check_dataframe(regionheart)"
   ]
  },
  {
   "cell_type": "code",
   "execution_count": 23,
   "id": "911950e5",
   "metadata": {
    "ExecuteTime": {
     "end_time": "2022-12-23T00:10:30.292906Z",
     "start_time": "2022-12-23T00:10:30.278729Z"
    }
   },
   "outputs": [
    {
     "data": {
      "text/plain": [
       "지역         0\n",
       "심장질환사망자    0\n",
       "심장장애       0\n",
       "주민등록인구     0\n",
       "dtype: int64"
      ]
     },
     "execution_count": 23,
     "metadata": {},
     "output_type": "execute_result"
    }
   ],
   "source": [
    "regionheart.isnull().sum()"
   ]
  },
  {
   "cell_type": "code",
   "execution_count": 24,
   "id": "9339ea7a",
   "metadata": {
    "ExecuteTime": {
     "end_time": "2022-12-23T00:10:30.307652Z",
     "start_time": "2022-12-23T00:10:30.294687Z"
    }
   },
   "outputs": [
    {
     "data": {
      "text/plain": [
       "Index(['지역', '심장질환사망자', '심장장애', '주민등록인구'], dtype='object')"
      ]
     },
     "execution_count": 24,
     "metadata": {},
     "output_type": "execute_result"
    }
   ],
   "source": [
    "regionheart.columns"
   ]
  },
  {
   "cell_type": "code",
   "execution_count": 25,
   "id": "5ba2006c",
   "metadata": {
    "ExecuteTime": {
     "end_time": "2022-12-23T00:10:30.322649Z",
     "start_time": "2022-12-23T00:10:30.309648Z"
    }
   },
   "outputs": [],
   "source": [
    "regionheart = regionheart[['지역', '주민등록인구', '심장질환사망자', '심장장애']]"
   ]
  },
  {
   "cell_type": "code",
   "execution_count": 26,
   "id": "caf82491",
   "metadata": {
    "ExecuteTime": {
     "end_time": "2022-12-23T00:10:30.337573Z",
     "start_time": "2022-12-23T00:10:30.325607Z"
    }
   },
   "outputs": [],
   "source": [
    "regionheart.to_csv(\"./temp/region_heart.csv\", index=False, encoding=\"utf-8\")"
   ]
  },
  {
   "cell_type": "markdown",
   "id": "123de9fc",
   "metadata": {},
   "source": [
    "## 의료수준\n",
    "1. 첫 번째 열 삭제\n",
    "2. 일반의, 전문의, 간호사, 임상병리사 열 데이터 타입 변경(object -> int)\n",
    "3. 지역 열 긴 이름으로 변경"
   ]
  },
  {
   "cell_type": "code",
   "execution_count": 27,
   "id": "bb93c151",
   "metadata": {
    "ExecuteTime": {
     "end_time": "2022-12-23T00:10:30.352561Z",
     "start_time": "2022-12-23T00:10:30.339568Z"
    }
   },
   "outputs": [],
   "source": [
    "def change_to_int(x):\n",
    "    return x.str.replace(\",\",\"\").replace(\"-\", \"0\").astype(\"int64\")"
   ]
  },
  {
   "cell_type": "code",
   "execution_count": 28,
   "id": "131327f6",
   "metadata": {
    "ExecuteTime": {
     "end_time": "2022-12-23T00:10:30.412772Z",
     "start_time": "2022-12-23T00:10:30.368491Z"
    }
   },
   "outputs": [],
   "source": [
    "hospital = pd.read_excel(\"./rawdata/1_지역별종별요양기관수현황.xls\")\n",
    "df = hospital[[\"시도\", \"상급종합병원\", \"종합병원\", \"병원\"]]"
   ]
  },
  {
   "cell_type": "code",
   "execution_count": 29,
   "id": "b3f7d436",
   "metadata": {
    "ExecuteTime": {
     "end_time": "2022-12-23T00:10:30.443084Z",
     "start_time": "2022-12-23T00:10:30.414741Z"
    }
   },
   "outputs": [],
   "source": [
    "heart_hospital = pd.read_excel(\"./rawdata/1_지역별의원표시과목별현황.xls\")\n",
    "heart_hospital.drop([0], axis=0, inplace=True)\n",
    "df = pd.merge(left=df, right=heart_hospital[[\"시도\", \"심장혈관흉부외과\"]], on=\"시도\", how=\"outer\")"
   ]
  },
  {
   "cell_type": "code",
   "execution_count": 30,
   "id": "f0578c9f",
   "metadata": {
    "ExecuteTime": {
     "end_time": "2022-12-23T00:10:30.473006Z",
     "start_time": "2022-12-23T00:10:30.445079Z"
    }
   },
   "outputs": [],
   "source": [
    "doctor = pd.read_excel(\"./rawdata/1_지역별종별의료인력현황1.xls\")\n",
    "df = pd.merge(left=df, right=doctor[[\"시도\", \"일반의\", \"전문의\"]], on=\"시도\", how=\"outer\")"
   ]
  },
  {
   "cell_type": "code",
   "execution_count": 31,
   "id": "518f9379",
   "metadata": {
    "ExecuteTime": {
     "end_time": "2022-12-23T00:10:30.502926Z",
     "start_time": "2022-12-23T00:10:30.475998Z"
    }
   },
   "outputs": [],
   "source": [
    "nurse = pd.read_excel(\"./rawdata/1_지역별종별의료인력현황2.xls\")\n",
    "df = pd.merge(left=df, right=nurse[[\"시도\", \"간호사\", \"임상병리사\"]], on=\"시도\", how=\"outer\")"
   ]
  },
  {
   "cell_type": "code",
   "execution_count": 32,
   "id": "19019fee",
   "metadata": {
    "ExecuteTime": {
     "end_time": "2022-12-23T00:10:30.547804Z",
     "start_time": "2022-12-23T00:10:30.505917Z"
    }
   },
   "outputs": [],
   "source": [
    "heart_doctor = pd.read_excel(\"./rawdata/1_지역별종별전문과목별전문의현황.xls\")\n",
    "df = pd.merge(left=df, right=heart_doctor[[\"시도\", \"심장혈관흉부외과\"]], on=\"시도\", how=\"outer\")\n",
    "df.rename({\"심장혈관흉부외과_x\": \"심장혈관흉부외과의원\", \"심장혈관흉부외과_y\": \"심장혈관흉부외과전문의\"}, axis=1, inplace=True)"
   ]
  },
  {
   "cell_type": "code",
   "execution_count": 33,
   "id": "f778dbbc",
   "metadata": {
    "ExecuteTime": {
     "end_time": "2022-12-23T00:10:30.668481Z",
     "start_time": "2022-12-23T00:10:30.551794Z"
    }
   },
   "outputs": [
    {
     "name": "stderr",
     "output_type": "stream",
     "text": [
      "C:\\Users\\ParkMinjeong\\AppData\\Local\\Temp\\ipykernel_25980\\2978542024.py:24: SettingWithCopyWarning: \n",
      "A value is trying to be set on a copy of a slice from a DataFrame\n",
      "\n",
      "See the caveats in the documentation: https://pandas.pydata.org/pandas-docs/stable/user_guide/indexing.html#returning-a-view-versus-a-copy\n",
      "  room_final.rename({\"Unnamed: 0\": \"시도\"}, axis=1, inplace=True)\n"
     ]
    }
   ],
   "source": [
    "room = pd.read_excel(\"./rawdata/1_지역별종별입원실현황.xls\", skiprows=1)\n",
    "room = room[['Unnamed: 0', '구분', '일반입원실(상급)', '일반입원실(상급).1', '일반입원실(일반)',\n",
    "             '일반입원실(일반).1', '중환자실_신생아', '중환자실_신생아.1', '중환자실_성인',\n",
    "             '중환자실_성인.1', '중환자실_소아', '중환자실_소아.1']]\n",
    "\n",
    "# 구분\n",
    "room = room[(room[\"구분\"] == \"상급종합병원\") | (room[\"구분\"] == \"종합병원\") | (room[\"구분\"] == \"병원\") | (room[\"구분\"] == \"요양기관종별\")]\n",
    "room.drop([\"구분\"], axis=1, inplace=True)\n",
    "room.drop([0], axis=0, inplace=True)\n",
    "room.reset_index(drop=True, inplace=True)\n",
    "\n",
    "col_list = list(room.columns)[1:]\n",
    "room[col_list] = room[col_list].apply(change_to_int, axis=1)\n",
    "\n",
    "# groupby\n",
    "temp = room.groupby(\"Unnamed: 0\").sum()\n",
    "temp[\"입원병상\"] = temp[\"일반입원실(상급)\"] + temp[\"일반입원실(일반)\"]\n",
    "temp[\"입원병실\"] = temp[\"일반입원실(상급).1\"] + temp[\"일반입원실(일반).1\"]\n",
    "temp[\"중환병상\"] = temp[\"중환자실_신생아\"] + temp[\"중환자실_성인\"] + temp[\"중환자실_소아\"]\n",
    "temp[\"중환병실\"] = temp[\"중환자실_신생아.1\"] + temp[\"중환자실_성인.1\"] + temp[\"중환자실_소아.1\"]\n",
    "\n",
    "room_final = temp[[\"입원병상\", \"입원병실\", \"중환병상\", \"중환병실\"]]\n",
    "room_final.reset_index(inplace=True)\n",
    "room_final.rename({\"Unnamed: 0\": \"시도\"}, axis=1, inplace=True)\n",
    "df = pd.merge(left=df, right=room_final, on=\"시도\", how=\"outer\")"
   ]
  },
  {
   "cell_type": "code",
   "execution_count": 34,
   "id": "796eee95",
   "metadata": {
    "ExecuteTime": {
     "end_time": "2022-12-23T00:10:30.713361Z",
     "start_time": "2022-12-23T00:10:30.671473Z"
    }
   },
   "outputs": [],
   "source": [
    "medical = df.copy()\n",
    "\n",
    "medical.rename({\"시도\": \"지역\"}, axis=1, inplace=True)\n",
    "medical[[\"일반의\", \"전문의\", \"간호사\", \"임상병리사\"]] = medical[[\"일반의\", \"전문의\", \"간호사\", \"임상병리사\"]].apply(change_to_int, axis=1)\n",
    "\n",
    "region = {\"강원\": \"강원도\", \"경기\": \"경기도\", \"경남\": \"경상남도\", \"경북\": \"경상북도\", \n",
    "          \"전남\": \"전라남도\", \"전북\": \"전라북도\", \"충남\": \"충청남도\", \"충북\": \"충청북도\", \n",
    "          \"광주\": \"광주광역시\", \"대구\": \"대구광역시\", \"대전\": \"대전광역시\", \"부산\": \"부산광역시\", \n",
    "          \"서울\": \"서울특별시\", \"울산\": \"울산광역시\", \"인천\": \"인천광역시\", \n",
    "          \"세종\": \"세종특별자치시\", \"제주\": \"제주특별자치도\"}\n",
    "\n",
    "medical[\"지역\"].replace(region, inplace=True)"
   ]
  },
  {
   "cell_type": "code",
   "execution_count": 35,
   "id": "74f30ba8",
   "metadata": {
    "ExecuteTime": {
     "end_time": "2022-12-23T00:10:30.774199Z",
     "start_time": "2022-12-23T00:10:30.719345Z"
    }
   },
   "outputs": [],
   "source": [
    "df = pd.read_excel(\"./rawdata/119_구급대_현황_20221220173712.xls\", skiprows=1)\n",
    "\n",
    "temp = df[[\"본부별(1)\", \"운영구급차 (대)\", \"구급대원 (명)\"]].drop([0, 1, 2, 21, 22], axis=0)\n",
    "\n",
    "# 타입 변환\n",
    "temp[[\"운영구급차 (대)\", \"구급대원 (명)\"]] = temp[[\"운영구급차 (대)\", \"구급대원 (명)\"]].astype(\"int64\")\n",
    "\n",
    "# 컬럼명 변환\n",
    "temp.columns = [\"지역\", \"구급차\", \"구급대원\"]\n",
    "\n",
    "# reset index\n",
    "temp.reset_index(drop=True, inplace=True)\n",
    "\n",
    "# 창원 + 경남 -> 경남\n",
    "temp.iloc[15, 1:] = temp.iloc[15, 1:] + temp.iloc[17, 1:]\n",
    "temp.drop([17], axis=0, inplace=True)\n",
    "\n",
    "# 제주도 -> 제주특별자치도\n",
    "temp[\"지역\"].replace({\"제주도\": \"제주특별자치도\"}, inplace=True)"
   ]
  },
  {
   "cell_type": "code",
   "execution_count": 36,
   "id": "e3d6f6ef",
   "metadata": {
    "ExecuteTime": {
     "end_time": "2022-12-23T00:10:30.804120Z",
     "start_time": "2022-12-23T00:10:30.778188Z"
    }
   },
   "outputs": [],
   "source": [
    "medical = pd.merge(left=medical, right=temp, on=\"지역\")"
   ]
  },
  {
   "cell_type": "code",
   "execution_count": 37,
   "id": "0f8204fe",
   "metadata": {
    "ExecuteTime": {
     "end_time": "2022-12-23T00:10:30.819079Z",
     "start_time": "2022-12-23T00:10:30.809108Z"
    }
   },
   "outputs": [],
   "source": [
    "medical.fillna(0, inplace=True)"
   ]
  },
  {
   "cell_type": "markdown",
   "id": "159ba504",
   "metadata": {
    "ExecuteTime": {
     "end_time": "2022-12-22T05:07:54.283996Z",
     "start_time": "2022-12-22T05:07:54.275371Z"
    }
   },
   "source": [
    "### 확인 및 저장"
   ]
  },
  {
   "cell_type": "code",
   "execution_count": 38,
   "id": "65d78fee",
   "metadata": {
    "ExecuteTime": {
     "end_time": "2022-12-23T00:10:30.865952Z",
     "start_time": "2022-12-23T00:10:30.823068Z"
    },
    "scrolled": false
   },
   "outputs": [
    {
     "name": "stdout",
     "output_type": "stream",
     "text": [
      "      지역  상급종합병원  종합병원   병원  심장혈관흉부외과의원   일반의    전문의    간호사  임상병리사  \\\n",
      "0  서울특별시      14    42  222        10.0  1287  25109  58475   6831   \n",
      "1  부산광역시       3    25  136         8.0   377   6966  19705   1982   \n",
      "2  인천광역시       3    17   56         1.0   260   4433  12551   1343   \n",
      "3  대구광역시       5    13   88         3.0   184   5060  13948   1578   \n",
      "4  광주광역시       2    21   84         0.0   148   3092   9414    941   \n",
      "\n",
      "   심장혈관흉부외과전문의   입원병상   입원병실  중환병상  중환병실  구급차  구급대원  \n",
      "0          305  13846  45730   250  2660  177  1473  \n",
      "1           83   7646  24605    64   860   70   633  \n",
      "2           55   3249  12248    47   610   72   592  \n",
      "3           51   4580  16622    60   584   55   495  \n",
      "4           33   4427  13894    27   408   30   270  \n",
      "<class 'pandas.core.frame.DataFrame'>\n",
      "Int64Index: 17 entries, 0 to 16\n",
      "Data columns (total 16 columns):\n",
      " #   Column       Non-Null Count  Dtype  \n",
      "---  ------       --------------  -----  \n",
      " 0   지역           17 non-null     object \n",
      " 1   상급종합병원       17 non-null     int64  \n",
      " 2   종합병원         17 non-null     int64  \n",
      " 3   병원           17 non-null     int64  \n",
      " 4   심장혈관흉부외과의원   17 non-null     float64\n",
      " 5   일반의          17 non-null     int64  \n",
      " 6   전문의          17 non-null     int64  \n",
      " 7   간호사          17 non-null     int64  \n",
      " 8   임상병리사        17 non-null     int64  \n",
      " 9   심장혈관흉부외과전문의  17 non-null     int64  \n",
      " 10  입원병상         17 non-null     int64  \n",
      " 11  입원병실         17 non-null     int64  \n",
      " 12  중환병상         17 non-null     int64  \n",
      " 13  중환병실         17 non-null     int64  \n",
      " 14  구급차          17 non-null     int64  \n",
      " 15  구급대원         17 non-null     int64  \n",
      "dtypes: float64(1), int64(14), object(1)\n",
      "memory usage: 2.3+ KB\n",
      "None\n",
      "2     4\n",
      "1     4\n",
      "3     3\n",
      "0     3\n",
      "5     2\n",
      "14    1\n",
      "Name: 상급종합병원, dtype: int64\n",
      "********************\n",
      "1.0     4\n",
      "4.0     3\n",
      "2.0     3\n",
      "0.0     2\n",
      "10.0    1\n",
      "8.0     1\n",
      "3.0     1\n",
      "5.0     1\n",
      "9.0     1\n",
      "Name: 심장혈관흉부외과의원, dtype: int64\n",
      "********************\n"
     ]
    }
   ],
   "source": [
    "check_dataframe(medical)"
   ]
  },
  {
   "cell_type": "code",
   "execution_count": 39,
   "id": "c59b6c00",
   "metadata": {
    "ExecuteTime": {
     "end_time": "2022-12-23T00:10:30.880913Z",
     "start_time": "2022-12-23T00:10:30.869943Z"
    }
   },
   "outputs": [],
   "source": [
    "medical.to_csv(\"./temp/medical.csv\", index=False, encoding=\"utf-8\")"
   ]
  },
  {
   "cell_type": "markdown",
   "id": "779921d0",
   "metadata": {
    "ExecuteTime": {
     "end_time": "2022-12-22T04:19:03.134789Z",
     "start_time": "2022-12-22T04:19:03.116840Z"
    }
   },
   "source": [
    "## 지역별 심장질환 + 의료수준"
   ]
  },
  {
   "cell_type": "code",
   "execution_count": 40,
   "id": "edfeb93c",
   "metadata": {
    "ExecuteTime": {
     "end_time": "2022-12-23T00:10:30.911830Z",
     "start_time": "2022-12-23T00:10:30.885901Z"
    }
   },
   "outputs": [],
   "source": [
    "region = pd.merge(left=regionheart, right=medical, on=\"지역\")"
   ]
  },
  {
   "cell_type": "code",
   "execution_count": 41,
   "id": "23fc11c8",
   "metadata": {
    "ExecuteTime": {
     "end_time": "2022-12-23T00:10:30.958705Z",
     "start_time": "2022-12-23T00:10:30.915819Z"
    }
   },
   "outputs": [
    {
     "name": "stdout",
     "output_type": "stream",
     "text": [
      "      지역      주민등록인구  심장질환사망자  심장장애  상급종합병원  종합병원   병원  심장혈관흉부외과의원   일반의  \\\n",
      "0    강원도   1538492.0   4900.0   121       2    13   37         1.0   220   \n",
      "1    경기도  13565450.0  25708.0  1295       5    62  277         9.0  1039   \n",
      "2   경상남도   3314183.0  10312.0   268       3    23  134         2.0   420   \n",
      "3   경상북도   2626609.0   9880.0   311       0    20   55         2.0   404   \n",
      "4  광주광역시   1441611.0   2712.0   140       2    21   84         0.0   148   \n",
      "\n",
      "     전문의    간호사  임상병리사  심장혈관흉부외과전문의   입원병상   입원병실  중환병상  중환병실  구급차  구급대원  \n",
      "0   2211   6622    661           36   2398   8403    53   438  128  1014  \n",
      "1  19686  46768   5526          209  13890  48092   226  2209  261  1896  \n",
      "2   4856  14959   1829           72   6636  22556    50   555  139  1194  \n",
      "3   3167  10143    988           51   3458  11404    49   495  146  1279  \n",
      "4   3092   9414    941           33   4427  13894    27   408   30   270  \n",
      "<class 'pandas.core.frame.DataFrame'>\n",
      "Int64Index: 17 entries, 0 to 16\n",
      "Data columns (total 19 columns):\n",
      " #   Column       Non-Null Count  Dtype  \n",
      "---  ------       --------------  -----  \n",
      " 0   지역           17 non-null     object \n",
      " 1   주민등록인구       17 non-null     float64\n",
      " 2   심장질환사망자      17 non-null     float64\n",
      " 3   심장장애         17 non-null     int64  \n",
      " 4   상급종합병원       17 non-null     int64  \n",
      " 5   종합병원         17 non-null     int64  \n",
      " 6   병원           17 non-null     int64  \n",
      " 7   심장혈관흉부외과의원   17 non-null     float64\n",
      " 8   일반의          17 non-null     int64  \n",
      " 9   전문의          17 non-null     int64  \n",
      " 10  간호사          17 non-null     int64  \n",
      " 11  임상병리사        17 non-null     int64  \n",
      " 12  심장혈관흉부외과전문의  17 non-null     int64  \n",
      " 13  입원병상         17 non-null     int64  \n",
      " 14  입원병실         17 non-null     int64  \n",
      " 15  중환병상         17 non-null     int64  \n",
      " 16  중환병실         17 non-null     int64  \n",
      " 17  구급차          17 non-null     int64  \n",
      " 18  구급대원         17 non-null     int64  \n",
      "dtypes: float64(3), int64(15), object(1)\n",
      "memory usage: 2.7+ KB\n",
      "None\n",
      "2     4\n",
      "1     4\n",
      "3     3\n",
      "0     3\n",
      "5     2\n",
      "14    1\n",
      "Name: 상급종합병원, dtype: int64\n",
      "********************\n",
      "1.0     4\n",
      "2.0     3\n",
      "4.0     3\n",
      "0.0     2\n",
      "9.0     1\n",
      "3.0     1\n",
      "8.0     1\n",
      "10.0    1\n",
      "5.0     1\n",
      "Name: 심장혈관흉부외과의원, dtype: int64\n",
      "********************\n"
     ]
    }
   ],
   "source": [
    "check_dataframe(region)"
   ]
  },
  {
   "cell_type": "code",
   "execution_count": 42,
   "id": "0e664708",
   "metadata": {
    "ExecuteTime": {
     "end_time": "2022-12-23T00:10:30.991617Z",
     "start_time": "2022-12-23T00:10:30.966686Z"
    }
   },
   "outputs": [],
   "source": [
    "region.to_csv(\"../data/region.csv\", index=False, encoding=\"utf-8\")"
   ]
  }
 ],
 "metadata": {
  "kernelspec": {
   "display_name": "eduvenv",
   "language": "python",
   "name": "eduvenv"
  },
  "language_info": {
   "codemirror_mode": {
    "name": "ipython",
    "version": 3
   },
   "file_extension": ".py",
   "mimetype": "text/x-python",
   "name": "python",
   "nbconvert_exporter": "python",
   "pygments_lexer": "ipython3",
   "version": "3.9.15"
  },
  "varInspector": {
   "cols": {
    "lenName": 16,
    "lenType": 16,
    "lenVar": 40
   },
   "kernels_config": {
    "python": {
     "delete_cmd_postfix": "",
     "delete_cmd_prefix": "del ",
     "library": "var_list.py",
     "varRefreshCmd": "print(var_dic_list())"
    },
    "r": {
     "delete_cmd_postfix": ") ",
     "delete_cmd_prefix": "rm(",
     "library": "var_list.r",
     "varRefreshCmd": "cat(var_dic_list()) "
    }
   },
   "types_to_exclude": [
    "module",
    "function",
    "builtin_function_or_method",
    "instance",
    "_Feature"
   ],
   "window_display": false
  }
 },
 "nbformat": 4,
 "nbformat_minor": 5
}
