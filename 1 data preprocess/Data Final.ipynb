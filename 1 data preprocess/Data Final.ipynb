{
 "cells": [
  {
   "cell_type": "code",
   "execution_count": 1,
   "id": "7f9aa561",
   "metadata": {
    "ExecuteTime": {
     "end_time": "2022-12-22T02:29:51.958761Z",
     "start_time": "2022-12-22T02:29:51.314745Z"
    }
   },
   "outputs": [],
   "source": [
    "import pandas as pd"
   ]
  },
  {
   "cell_type": "code",
   "execution_count": 2,
   "id": "bfa2b7fc",
   "metadata": {
    "ExecuteTime": {
     "end_time": "2022-12-22T02:29:54.523200Z",
     "start_time": "2022-12-22T02:29:51.962717Z"
    }
   },
   "outputs": [],
   "source": [
    "brfss = pd.read_csv(\"./temp/edit_brfss.csv\")\n",
    "checkup = pd.read_csv(\"./temp/건강검진.csv\", encoding=\"cp949\")\n",
    "regionheart = pd.read_csv(\"./temp/지역별 심장질환.csv\", encoding=\"cp949\")\n",
    "medical = pd.read_csv(\"./temp/hos_all.csv\")"
   ]
  },
  {
   "cell_type": "code",
   "execution_count": 3,
   "id": "434d5baf",
   "metadata": {
    "ExecuteTime": {
     "end_time": "2022-12-22T02:29:54.537992Z",
     "start_time": "2022-12-22T02:29:54.526170Z"
    },
    "scrolled": false
   },
   "outputs": [],
   "source": [
    "def check_dataframe(df):\n",
    "    print(df.head())\n",
    "    print(df.info())\n",
    "    \n",
    "    for col in df.columns:\n",
    "        if len(df[col].unique()) <= 10:\n",
    "            print(df[col].value_counts())\n",
    "            print(\"*\"*20)"
   ]
  },
  {
   "cell_type": "markdown",
   "id": "103cff0e",
   "metadata": {},
   "source": [
    "## brfss"
   ]
  },
  {
   "cell_type": "code",
   "execution_count": 4,
   "id": "9af0b658",
   "metadata": {
    "ExecuteTime": {
     "end_time": "2022-12-22T02:29:54.794044Z",
     "start_time": "2022-12-22T02:29:54.541982Z"
    }
   },
   "outputs": [
    {
     "name": "stdout",
     "output_type": "stream",
     "text": [
      "   HEARTDISEASE SEX  HEIGHT     WEIGHT  BLIND  DEAF  DIABETE  CHOLESTEROL  \\\n",
      "0           0.0   F  149.86  32.658651    0.0   0.0      0.0          1.0   \n",
      "1           0.0   F  167.64        NaN    1.0   0.0      1.0          1.0   \n",
      "2           0.0   F  165.10  77.110703    0.0   0.0      1.0          2.0   \n",
      "3           0.0   F  162.56  88.450512    0.0   0.0      1.0          1.0   \n",
      "4           1.0   M  180.34  93.440028    0.0   1.0      1.0          1.0   \n",
      "\n",
      "   HYPERTENSION  KIDNEY  LIVER1  LIVER2  ALCOHOL  SMOKE  \n",
      "0           0.0     0.0     NaN     NaN      0.0    1.0  \n",
      "1           1.0     1.0     NaN     NaN      0.0    0.0  \n",
      "2           1.0     0.0     NaN     NaN      0.0    0.0  \n",
      "3           1.0     0.0     NaN     NaN      1.0    0.0  \n",
      "4           0.0     0.0     NaN     NaN      0.0    0.0  \n",
      "<class 'pandas.core.frame.DataFrame'>\n",
      "RangeIndex: 438693 entries, 0 to 438692\n",
      "Data columns (total 14 columns):\n",
      " #   Column        Non-Null Count   Dtype  \n",
      "---  ------        --------------   -----  \n",
      " 0   HEARTDISEASE  436038 non-null  float64\n",
      " 1   SEX           438693 non-null  object \n",
      " 2   HEIGHT        414134 non-null  float64\n",
      " 3   WEIGHT        398118 non-null  float64\n",
      " 4   BLIND         421342 non-null  float64\n",
      " 5   DEAF          422295 non-null  float64\n",
      " 6   DIABETE       437708 non-null  float64\n",
      " 7   CHOLESTEROL   377857 non-null  float64\n",
      " 8   HYPERTENSION  436781 non-null  float64\n",
      " 9   KIDNEY        436880 non-null  float64\n",
      " 10  LIVER1        10743 non-null   float64\n",
      " 11  LIVER2        10697 non-null   float64\n",
      " 12  ALCOHOL       408104 non-null  float64\n",
      " 13  SMOKE         414232 non-null  float64\n",
      "dtypes: float64(13), object(1)\n",
      "memory usage: 46.9+ MB\n",
      "None\n",
      "0.0    413207\n",
      "1.0     22831\n",
      "Name: HEARTDISEASE, dtype: int64\n",
      "********************\n",
      "F    234883\n",
      "M    203810\n",
      "Name: SEX, dtype: int64\n",
      "********************\n",
      "0.0    399597\n",
      "1.0     21745\n",
      "Name: BLIND, dtype: int64\n",
      "********************\n",
      "0.0    384717\n",
      "1.0     37578\n",
      "Name: DEAF, dtype: int64\n",
      "********************\n",
      "0.0    380092\n",
      "1.0     57616\n",
      "Name: DIABETE, dtype: int64\n",
      "********************\n",
      "2.0    224989\n",
      "1.0    149724\n",
      "7.0      2689\n",
      "9.0       455\n",
      "Name: CHOLESTEROL, dtype: int64\n",
      "********************\n",
      "0.0    264648\n",
      "1.0    172133\n",
      "Name: HYPERTENSION, dtype: int64\n",
      "********************\n",
      "0.0    419779\n",
      "1.0     17101\n",
      "Name: KIDNEY, dtype: int64\n",
      "********************\n",
      "0.0    10580\n",
      "1.0      163\n",
      "Name: LIVER1, dtype: int64\n",
      "********************\n",
      "0.0    10602\n",
      "1.0       95\n",
      "Name: LIVER2, dtype: int64\n",
      "********************\n",
      "1.0    211232\n",
      "0.0    196872\n",
      "Name: ALCOHOL, dtype: int64\n",
      "********************\n",
      "0.0    246644\n",
      "1.0    167588\n",
      "Name: SMOKE, dtype: int64\n",
      "********************\n"
     ]
    }
   ],
   "source": [
    "check_dataframe(brfss)"
   ]
  },
  {
   "cell_type": "markdown",
   "id": "73066a9d",
   "metadata": {},
   "source": [
    "### 열 제거\n",
    "- CHOLESTEROL, LIVER 제거"
   ]
  },
  {
   "cell_type": "code",
   "execution_count": 5,
   "id": "efb16f11",
   "metadata": {
    "ExecuteTime": {
     "end_time": "2022-12-22T02:29:54.839869Z",
     "start_time": "2022-12-22T02:29:54.798756Z"
    }
   },
   "outputs": [],
   "source": [
    "brfss.drop([\"CHOLESTEROL\", \"LIVER1\", \"LIVER2\"], axis=1, inplace=True)"
   ]
  },
  {
   "cell_type": "markdown",
   "id": "68c56f86",
   "metadata": {
    "ExecuteTime": {
     "end_time": "2022-12-22T00:48:25.211100Z",
     "start_time": "2022-12-22T00:48:25.200799Z"
    }
   },
   "source": [
    "### 결측치 처리\n",
    "- SMOKE 제외한 열 중에서 하나라도 결측치가 있는 행 제거"
   ]
  },
  {
   "cell_type": "code",
   "execution_count": 6,
   "id": "ea8ed6b0",
   "metadata": {
    "ExecuteTime": {
     "end_time": "2022-12-22T02:29:54.929854Z",
     "start_time": "2022-12-22T02:29:54.842814Z"
    }
   },
   "outputs": [
    {
     "data": {
      "text/plain": [
       "HEARTDISEASE     2655\n",
       "SEX                 0\n",
       "HEIGHT          24559\n",
       "WEIGHT          40575\n",
       "BLIND           17351\n",
       "DEAF            16398\n",
       "DIABETE           985\n",
       "HYPERTENSION     1912\n",
       "KIDNEY           1813\n",
       "ALCOHOL         30589\n",
       "SMOKE           24461\n",
       "dtype: int64"
      ]
     },
     "execution_count": 6,
     "metadata": {},
     "output_type": "execute_result"
    }
   ],
   "source": [
    "brfss.isnull().sum()"
   ]
  },
  {
   "cell_type": "code",
   "execution_count": 7,
   "id": "43052b65",
   "metadata": {
    "ExecuteTime": {
     "end_time": "2022-12-22T02:29:55.019919Z",
     "start_time": "2022-12-22T02:29:54.933851Z"
    }
   },
   "outputs": [
    {
     "data": {
      "text/plain": [
       "HEARTDISEASE    0.006052\n",
       "SEX             0.000000\n",
       "HEIGHT          0.055982\n",
       "WEIGHT          0.092491\n",
       "BLIND           0.039552\n",
       "DEAF            0.037379\n",
       "DIABETE         0.002245\n",
       "HYPERTENSION    0.004358\n",
       "KIDNEY          0.004133\n",
       "ALCOHOL         0.069728\n",
       "SMOKE           0.055759\n",
       "dtype: float64"
      ]
     },
     "execution_count": 7,
     "metadata": {},
     "output_type": "execute_result"
    }
   ],
   "source": [
    "brfss.isnull().sum() / len(brfss)"
   ]
  },
  {
   "cell_type": "code",
   "execution_count": 8,
   "id": "05ff5f15",
   "metadata": {
    "ExecuteTime": {
     "end_time": "2022-12-22T02:29:55.139516Z",
     "start_time": "2022-12-22T02:29:55.022911Z"
    }
   },
   "outputs": [],
   "source": [
    "col_list = list(brfss.columns)\n",
    "col_list.remove(\"SMOKE\")\n",
    "\n",
    "brfss.dropna(how=\"any\", subset=col_list, inplace=True)"
   ]
  },
  {
   "cell_type": "code",
   "execution_count": 9,
   "id": "4ede8a7f",
   "metadata": {
    "ExecuteTime": {
     "end_time": "2022-12-22T02:29:55.154769Z",
     "start_time": "2022-12-22T02:29:55.141261Z"
    }
   },
   "outputs": [],
   "source": [
    "brfss[\"SMOKE\"].fillna(9, inplace=True)"
   ]
  },
  {
   "cell_type": "markdown",
   "id": "6b876371",
   "metadata": {},
   "source": [
    "### HEIGHT, WEIGHT\n",
    "- 검진자의 키(5CM 단위)\n",
    "    - 예) 100-104CM --> 100CM\n",
    "- 검진자의 몸무게(5KG 단위)\n",
    "    - 예) 25~29KG -> 25KG"
   ]
  },
  {
   "cell_type": "code",
   "execution_count": 10,
   "id": "9aa98239",
   "metadata": {
    "ExecuteTime": {
     "end_time": "2022-12-22T02:29:55.200402Z",
     "start_time": "2022-12-22T02:29:55.161474Z"
    }
   },
   "outputs": [],
   "source": [
    "brfss[\"HEIGHT\"] = brfss[\"HEIGHT\"] // 5 * 5"
   ]
  },
  {
   "cell_type": "code",
   "execution_count": 11,
   "id": "4b3ca2a9",
   "metadata": {
    "ExecuteTime": {
     "end_time": "2022-12-22T02:29:55.245712Z",
     "start_time": "2022-12-22T02:29:55.206352Z"
    }
   },
   "outputs": [],
   "source": [
    "brfss[\"WEIGHT\"] = brfss[\"WEIGHT\"] // 5 * 5"
   ]
  },
  {
   "cell_type": "markdown",
   "id": "152f44dd",
   "metadata": {},
   "source": [
    "### 확인 및 저장"
   ]
  },
  {
   "cell_type": "code",
   "execution_count": 12,
   "id": "74dac91c",
   "metadata": {
    "ExecuteTime": {
     "end_time": "2022-12-22T02:29:55.471113Z",
     "start_time": "2022-12-22T02:29:55.249706Z"
    }
   },
   "outputs": [
    {
     "name": "stdout",
     "output_type": "stream",
     "text": [
      "   HEARTDISEASE SEX  HEIGHT  WEIGHT  BLIND  DEAF  DIABETE  HYPERTENSION  \\\n",
      "0           0.0   F   145.0    30.0    0.0   0.0      0.0           0.0   \n",
      "2           0.0   F   165.0    75.0    0.0   0.0      1.0           1.0   \n",
      "3           0.0   F   160.0    85.0    0.0   0.0      1.0           1.0   \n",
      "4           1.0   M   180.0    90.0    0.0   1.0      1.0           0.0   \n",
      "5           0.0   M   190.0    85.0    0.0   0.0      0.0           0.0   \n",
      "\n",
      "   KIDNEY  ALCOHOL  SMOKE  \n",
      "0     0.0      0.0    1.0  \n",
      "2     0.0      0.0    0.0  \n",
      "3     0.0      1.0    0.0  \n",
      "4     0.0      0.0    0.0  \n",
      "5     0.0      0.0    1.0  \n",
      "<class 'pandas.core.frame.DataFrame'>\n",
      "Int64Index: 373951 entries, 0 to 438692\n",
      "Data columns (total 11 columns):\n",
      " #   Column        Non-Null Count   Dtype  \n",
      "---  ------        --------------   -----  \n",
      " 0   HEARTDISEASE  373951 non-null  float64\n",
      " 1   SEX           373951 non-null  object \n",
      " 2   HEIGHT        373951 non-null  float64\n",
      " 3   WEIGHT        373951 non-null  float64\n",
      " 4   BLIND         373951 non-null  float64\n",
      " 5   DEAF          373951 non-null  float64\n",
      " 6   DIABETE       373951 non-null  float64\n",
      " 7   HYPERTENSION  373951 non-null  float64\n",
      " 8   KIDNEY        373951 non-null  float64\n",
      " 9   ALCOHOL       373951 non-null  float64\n",
      " 10  SMOKE         373951 non-null  float64\n",
      "dtypes: float64(10), object(1)\n",
      "memory usage: 34.2+ MB\n",
      "None\n",
      "0.0    353960\n",
      "1.0     19991\n",
      "Name: HEARTDISEASE, dtype: int64\n",
      "********************\n",
      "F    194646\n",
      "M    179305\n",
      "Name: SEX, dtype: int64\n",
      "********************\n",
      "0.0    355164\n",
      "1.0     18787\n",
      "Name: BLIND, dtype: int64\n",
      "********************\n",
      "0.0    340542\n",
      "1.0     33409\n",
      "Name: DEAF, dtype: int64\n",
      "********************\n",
      "0.0    324917\n",
      "1.0     49034\n",
      "Name: DIABETE, dtype: int64\n",
      "********************\n",
      "0.0    226678\n",
      "1.0    147273\n",
      "Name: HYPERTENSION, dtype: int64\n",
      "********************\n",
      "0.0    359205\n",
      "1.0     14746\n",
      "Name: KIDNEY, dtype: int64\n",
      "********************\n",
      "1.0    197820\n",
      "0.0    176131\n",
      "Name: ALCOHOL, dtype: int64\n",
      "********************\n",
      "0.0    220025\n",
      "1.0    151985\n",
      "9.0      1941\n",
      "Name: SMOKE, dtype: int64\n",
      "********************\n"
     ]
    }
   ],
   "source": [
    "check_dataframe(brfss)"
   ]
  },
  {
   "cell_type": "code",
   "execution_count": 13,
   "id": "c651f395",
   "metadata": {
    "ExecuteTime": {
     "end_time": "2022-12-22T02:29:57.508046Z",
     "start_time": "2022-12-22T02:29:55.474076Z"
    }
   },
   "outputs": [],
   "source": [
    "brfss.to_csv(\"../data/brfss.csv\", index=False)"
   ]
  },
  {
   "cell_type": "markdown",
   "id": "7c9b0cf6",
   "metadata": {},
   "source": [
    "## 건강검진"
   ]
  },
  {
   "cell_type": "code",
   "execution_count": 14,
   "id": "bd03492f",
   "metadata": {
    "ExecuteTime": {
     "end_time": "2022-12-22T02:29:57.956623Z",
     "start_time": "2022-12-22T02:29:57.510044Z"
    }
   },
   "outputs": [
    {
     "name": "stdout",
     "output_type": "stream",
     "text": [
      "   지역  SEX  HEIGHT  WEIGHT  BLIND  DEAF  DIABETE  HYPERTENSION  KIDNEY  LIVER  \\\n",
      "0  세종    1     165      60      0     0        0             0       0      0   \n",
      "1  대구    2     150      65      0     0        0             0       1      0   \n",
      "2  서울    2     155      55      0     0        0             0       1      0   \n",
      "3  울산    1     160      70      0     1        1             0       0      1   \n",
      "4  경기    2     155      50      0     0        0             1       1      0   \n",
      "\n",
      "   ALCOHOL  SMOKE  \n",
      "0      0.0      0  \n",
      "1      0.0      0  \n",
      "2      0.0      0  \n",
      "3      0.0      0  \n",
      "4      0.0      0  \n",
      "<class 'pandas.core.frame.DataFrame'>\n",
      "RangeIndex: 2039244 entries, 0 to 2039243\n",
      "Data columns (total 12 columns):\n",
      " #   Column        Dtype  \n",
      "---  ------        -----  \n",
      " 0   지역            object \n",
      " 1   SEX           int64  \n",
      " 2   HEIGHT        int64  \n",
      " 3   WEIGHT        int64  \n",
      " 4   BLIND         int64  \n",
      " 5   DEAF          int64  \n",
      " 6   DIABETE       int64  \n",
      " 7   HYPERTENSION  int64  \n",
      " 8   KIDNEY        int64  \n",
      " 9   LIVER         int64  \n",
      " 10  ALCOHOL       float64\n",
      " 11  SMOKE         int64  \n",
      "dtypes: float64(1), int64(10), object(1)\n",
      "memory usage: 186.7+ MB\n",
      "None\n",
      "1    1054132\n",
      "2     985112\n",
      "Name: SEX, dtype: int64\n",
      "********************\n",
      "0    2027149\n",
      "1      12095\n",
      "Name: BLIND, dtype: int64\n",
      "********************\n",
      "0    1933707\n",
      "1     105537\n",
      "Name: DEAF, dtype: int64\n",
      "********************\n",
      "0    1852671\n",
      "1     186573\n",
      "Name: DIABETE, dtype: int64\n",
      "********************\n",
      "0    1732168\n",
      "1     307076\n",
      "Name: HYPERTENSION, dtype: int64\n",
      "********************\n",
      "0    1295062\n",
      "1     744182\n",
      "Name: KIDNEY, dtype: int64\n",
      "********************\n",
      "0    1726996\n",
      "1     312248\n",
      "Name: LIVER, dtype: int64\n",
      "********************\n",
      "1.0    1262142\n",
      "0.0     406418\n",
      "9.0     370684\n",
      "Name: ALCOHOL, dtype: int64\n",
      "********************\n",
      "0    1279087\n",
      "1     760157\n",
      "Name: SMOKE, dtype: int64\n",
      "********************\n"
     ]
    }
   ],
   "source": [
    "check_dataframe(checkup)"
   ]
  },
  {
   "cell_type": "code",
   "execution_count": 15,
   "id": "1242f2e9",
   "metadata": {
    "ExecuteTime": {
     "end_time": "2022-12-22T02:29:58.047034Z",
     "start_time": "2022-12-22T02:29:57.958280Z"
    }
   },
   "outputs": [],
   "source": [
    "# LIVER 제거\n",
    "checkup.drop([\"LIVER\"], axis=1, inplace=True)"
   ]
  },
  {
   "cell_type": "code",
   "execution_count": 16,
   "id": "05981407",
   "metadata": {
    "ExecuteTime": {
     "end_time": "2022-12-22T02:29:58.151756Z",
     "start_time": "2022-12-22T02:29:58.049029Z"
    }
   },
   "outputs": [],
   "source": [
    "checkup[\"SEX\"].replace({1:\"M\", 2:\"F\"}, inplace=True)"
   ]
  },
  {
   "cell_type": "code",
   "execution_count": 17,
   "id": "ec0ed18e",
   "metadata": {
    "ExecuteTime": {
     "end_time": "2022-12-22T02:29:58.660025Z",
     "start_time": "2022-12-22T02:29:58.153750Z"
    },
    "scrolled": true
   },
   "outputs": [
    {
     "data": {
      "text/plain": [
       "지역              0\n",
       "SEX             0\n",
       "HEIGHT          0\n",
       "WEIGHT          0\n",
       "BLIND           0\n",
       "DEAF            0\n",
       "DIABETE         0\n",
       "HYPERTENSION    0\n",
       "KIDNEY          0\n",
       "ALCOHOL         0\n",
       "SMOKE           0\n",
       "dtype: int64"
      ]
     },
     "execution_count": 17,
     "metadata": {},
     "output_type": "execute_result"
    }
   ],
   "source": [
    "checkup.isnull().sum()"
   ]
  },
  {
   "cell_type": "code",
   "execution_count": 18,
   "id": "06501eb4",
   "metadata": {
    "ExecuteTime": {
     "end_time": "2022-12-22T02:29:59.199096Z",
     "start_time": "2022-12-22T02:29:58.663022Z"
    }
   },
   "outputs": [
    {
     "name": "stdout",
     "output_type": "stream",
     "text": [
      "   지역 SEX  HEIGHT  WEIGHT  BLIND  DEAF  DIABETE  HYPERTENSION  KIDNEY  \\\n",
      "0  세종   M     165      60      0     0        0             0       0   \n",
      "1  대구   F     150      65      0     0        0             0       1   \n",
      "2  서울   F     155      55      0     0        0             0       1   \n",
      "3  울산   M     160      70      0     1        1             0       0   \n",
      "4  경기   F     155      50      0     0        0             1       1   \n",
      "\n",
      "   ALCOHOL  SMOKE  \n",
      "0      0.0      0  \n",
      "1      0.0      0  \n",
      "2      0.0      0  \n",
      "3      0.0      0  \n",
      "4      0.0      0  \n",
      "<class 'pandas.core.frame.DataFrame'>\n",
      "RangeIndex: 2039244 entries, 0 to 2039243\n",
      "Data columns (total 11 columns):\n",
      " #   Column        Dtype  \n",
      "---  ------        -----  \n",
      " 0   지역            object \n",
      " 1   SEX           object \n",
      " 2   HEIGHT        int64  \n",
      " 3   WEIGHT        int64  \n",
      " 4   BLIND         int64  \n",
      " 5   DEAF          int64  \n",
      " 6   DIABETE       int64  \n",
      " 7   HYPERTENSION  int64  \n",
      " 8   KIDNEY        int64  \n",
      " 9   ALCOHOL       float64\n",
      " 10  SMOKE         int64  \n",
      "dtypes: float64(1), int64(8), object(2)\n",
      "memory usage: 171.1+ MB\n",
      "None\n",
      "M    1054132\n",
      "F     985112\n",
      "Name: SEX, dtype: int64\n",
      "********************\n",
      "0    2027149\n",
      "1      12095\n",
      "Name: BLIND, dtype: int64\n",
      "********************\n",
      "0    1933707\n",
      "1     105537\n",
      "Name: DEAF, dtype: int64\n",
      "********************\n",
      "0    1852671\n",
      "1     186573\n",
      "Name: DIABETE, dtype: int64\n",
      "********************\n",
      "0    1732168\n",
      "1     307076\n",
      "Name: HYPERTENSION, dtype: int64\n",
      "********************\n",
      "0    1295062\n",
      "1     744182\n",
      "Name: KIDNEY, dtype: int64\n",
      "********************\n",
      "1.0    1262142\n",
      "0.0     406418\n",
      "9.0     370684\n",
      "Name: ALCOHOL, dtype: int64\n",
      "********************\n",
      "0    1279087\n",
      "1     760157\n",
      "Name: SMOKE, dtype: int64\n",
      "********************\n"
     ]
    }
   ],
   "source": [
    "check_dataframe(checkup)"
   ]
  },
  {
   "cell_type": "code",
   "execution_count": 19,
   "id": "bbca931d",
   "metadata": {
    "ExecuteTime": {
     "end_time": "2022-12-22T02:30:05.085438Z",
     "start_time": "2022-12-22T02:29:59.201091Z"
    }
   },
   "outputs": [],
   "source": [
    "checkup.to_csv(\"../data/checkup.csv\", index=False, encoding=\"utf-8\")"
   ]
  },
  {
   "cell_type": "markdown",
   "id": "16526e78",
   "metadata": {},
   "source": [
    "## 지역별 심장환자 현황"
   ]
  },
  {
   "cell_type": "code",
   "execution_count": 20,
   "id": "b8dff107",
   "metadata": {
    "ExecuteTime": {
     "end_time": "2022-12-22T02:30:05.100708Z",
     "start_time": "2022-12-22T02:30:05.087391Z"
    }
   },
   "outputs": [
    {
     "name": "stdout",
     "output_type": "stream",
     "text": [
      "      지역      사망자  심장장애\n",
      "0    강원도   4858.0   130\n",
      "1    경기도  25068.0  1312\n",
      "2   경상남도   9972.0   262\n",
      "3   경상북도  10292.0   306\n",
      "4  광주광역시   2742.0   142\n",
      "<class 'pandas.core.frame.DataFrame'>\n",
      "RangeIndex: 17 entries, 0 to 16\n",
      "Data columns (total 3 columns):\n",
      " #   Column  Non-Null Count  Dtype  \n",
      "---  ------  --------------  -----  \n",
      " 0   지역      17 non-null     object \n",
      " 1   사망자     17 non-null     float64\n",
      " 2   심장장애    17 non-null     int64  \n",
      "dtypes: float64(1), int64(1), object(1)\n",
      "memory usage: 536.0+ bytes\n",
      "None\n"
     ]
    }
   ],
   "source": [
    "check_dataframe(regionheart)"
   ]
  },
  {
   "cell_type": "code",
   "execution_count": 21,
   "id": "911950e5",
   "metadata": {
    "ExecuteTime": {
     "end_time": "2022-12-22T02:30:05.115533Z",
     "start_time": "2022-12-22T02:30:05.103706Z"
    }
   },
   "outputs": [
    {
     "data": {
      "text/plain": [
       "지역      0\n",
       "사망자     0\n",
       "심장장애    0\n",
       "dtype: int64"
      ]
     },
     "execution_count": 21,
     "metadata": {},
     "output_type": "execute_result"
    }
   ],
   "source": [
    "regionheart.isnull().sum()"
   ]
  },
  {
   "cell_type": "code",
   "execution_count": 22,
   "id": "caf82491",
   "metadata": {
    "ExecuteTime": {
     "end_time": "2022-12-22T02:30:05.130608Z",
     "start_time": "2022-12-22T02:30:05.119524Z"
    }
   },
   "outputs": [],
   "source": [
    "regionheart.to_csv(\"../data/region_heart.csv\", index=False, encoding=\"utf-8\")"
   ]
  },
  {
   "cell_type": "markdown",
   "id": "123de9fc",
   "metadata": {},
   "source": [
    "## 의료수준"
   ]
  },
  {
   "cell_type": "code",
   "execution_count": 23,
   "id": "38a4f6f5",
   "metadata": {
    "ExecuteTime": {
     "end_time": "2022-12-22T02:30:05.160824Z",
     "start_time": "2022-12-22T02:30:05.132489Z"
    }
   },
   "outputs": [
    {
     "name": "stdout",
     "output_type": "stream",
     "text": [
      "   Unnamed: 0  지역  상급종합병원  종합병원   병원  심장혈관흉부외과  심장혈관흉부외과.1    일반의     전문의  \\\n",
      "0           0  서울      14    42  222      57.0         305  1,287  25,109   \n",
      "1           1  부산       3    25  136      10.0          83    377   6,966   \n",
      "2           2  인천       3    17   56       8.0          55    260   4,433   \n",
      "3           3  대구       5    13   88       1.0          51    184   5,060   \n",
      "4           4  광주       2    21   84       3.0          33    148   3,092   \n",
      "\n",
      "      간호사  임상병리사  심장혈관흉부외과.2  심장혈관흉부외과.3   일반병실   일반병상  중환병실  중환병상  구급차 (대)  \\\n",
      "0  58,475  6,831        57.0         305  13846  45730   250  2660      177   \n",
      "1  19,705  1,982        10.0          83   7646  24605    64   860       70   \n",
      "2  12,551  1,343         8.0          55   3249  12248    47   610       55   \n",
      "3  13,948  1,578         1.0          51   4580  16622    60   584       72   \n",
      "4   9,414    941         3.0          33   4427  13894    27   408       30   \n",
      "\n",
      "   구급대원수  \n",
      "0   1473  \n",
      "1    633  \n",
      "2    495  \n",
      "3    592  \n",
      "4    270  \n",
      "<class 'pandas.core.frame.DataFrame'>\n",
      "RangeIndex: 17 entries, 0 to 16\n",
      "Data columns (total 19 columns):\n",
      " #   Column      Non-Null Count  Dtype  \n",
      "---  ------      --------------  -----  \n",
      " 0   Unnamed: 0  17 non-null     int64  \n",
      " 1   지역          17 non-null     object \n",
      " 2   상급종합병원      17 non-null     int64  \n",
      " 3   종합병원        17 non-null     int64  \n",
      " 4   병원          17 non-null     int64  \n",
      " 5   심장혈관흉부외과    16 non-null     float64\n",
      " 6   심장혈관흉부외과.1  17 non-null     int64  \n",
      " 7   일반의         17 non-null     object \n",
      " 8   전문의         17 non-null     object \n",
      " 9   간호사         17 non-null     object \n",
      " 10  임상병리사       17 non-null     object \n",
      " 11  심장혈관흉부외과.2  16 non-null     float64\n",
      " 12  심장혈관흉부외과.3  17 non-null     int64  \n",
      " 13  일반병실        17 non-null     int64  \n",
      " 14  일반병상        17 non-null     int64  \n",
      " 15  중환병실        17 non-null     int64  \n",
      " 16  중환병상        17 non-null     int64  \n",
      " 17  구급차 (대)     17 non-null     int64  \n",
      " 18  구급대원수       17 non-null     int64  \n",
      "dtypes: float64(2), int64(12), object(5)\n",
      "memory usage: 2.6+ KB\n",
      "None\n",
      "2     4\n",
      "1     4\n",
      "3     3\n",
      "0     3\n",
      "5     2\n",
      "14    1\n",
      "Name: 상급종합병원, dtype: int64\n",
      "********************\n",
      "1.0     4\n",
      "4.0     3\n",
      "2.0     3\n",
      "57.0    1\n",
      "10.0    1\n",
      "8.0     1\n",
      "3.0     1\n",
      "5.0     1\n",
      "9.0     1\n",
      "Name: 심장혈관흉부외과, dtype: int64\n",
      "********************\n",
      "1.0     4\n",
      "4.0     3\n",
      "2.0     3\n",
      "57.0    1\n",
      "10.0    1\n",
      "8.0     1\n",
      "3.0     1\n",
      "5.0     1\n",
      "9.0     1\n",
      "Name: 심장혈관흉부외과.2, dtype: int64\n",
      "********************\n"
     ]
    }
   ],
   "source": [
    "check_dataframe(medical)"
   ]
  },
  {
   "cell_type": "code",
   "execution_count": 24,
   "id": "5e7912d5",
   "metadata": {
    "ExecuteTime": {
     "end_time": "2022-12-22T02:30:05.175827Z",
     "start_time": "2022-12-22T02:30:05.162818Z"
    }
   },
   "outputs": [],
   "source": [
    "# 첫 번째 열 삭제\n",
    "medical = medical.iloc[:, 1:]"
   ]
  },
  {
   "cell_type": "code",
   "execution_count": 25,
   "id": "ae53b08e",
   "metadata": {
    "ExecuteTime": {
     "end_time": "2022-12-22T02:30:05.206448Z",
     "start_time": "2022-12-22T02:30:05.178777Z"
    }
   },
   "outputs": [],
   "source": [
    "# 데이터 타입 변환\n",
    "def change_to_int(x):\n",
    "    return x.str.replace(\",\",\"\").replace(\"-\", \"0\").astype(\"int64\")\n",
    "\n",
    "medical[[\"일반의\", \"전문의\", \"간호사\", \"임상병리사\"]] = medical[[\"일반의\", \"전문의\", \"간호사\", \"임상병리사\"]].apply(change_to_int, axis=1)"
   ]
  },
  {
   "cell_type": "code",
   "execution_count": 26,
   "id": "f85accb8",
   "metadata": {
    "ExecuteTime": {
     "end_time": "2022-12-22T02:30:05.237401Z",
     "start_time": "2022-12-22T02:30:05.213429Z"
    }
   },
   "outputs": [
    {
     "data": {
      "text/plain": [
       "지역             object\n",
       "상급종합병원          int64\n",
       "종합병원            int64\n",
       "병원              int64\n",
       "심장혈관흉부외과      float64\n",
       "심장혈관흉부외과.1      int64\n",
       "일반의             int64\n",
       "전문의             int64\n",
       "간호사             int64\n",
       "임상병리사           int64\n",
       "심장혈관흉부외과.2    float64\n",
       "심장혈관흉부외과.3      int64\n",
       "일반병실            int64\n",
       "일반병상            int64\n",
       "중환병실            int64\n",
       "중환병상            int64\n",
       "구급차 (대)         int64\n",
       "구급대원수           int64\n",
       "dtype: object"
      ]
     },
     "execution_count": 26,
     "metadata": {},
     "output_type": "execute_result"
    }
   ],
   "source": [
    "medical.dtypes"
   ]
  },
  {
   "cell_type": "code",
   "execution_count": 27,
   "id": "c59b6c00",
   "metadata": {
    "ExecuteTime": {
     "end_time": "2022-12-22T02:30:05.252326Z",
     "start_time": "2022-12-22T02:30:05.240355Z"
    }
   },
   "outputs": [],
   "source": [
    "medical.to_csv(\"../data/medical.csv\", index=False, encoding=\"utf-8\")"
   ]
  }
 ],
 "metadata": {
  "kernelspec": {
   "display_name": "eduvenv",
   "language": "python",
   "name": "eduvenv"
  },
  "language_info": {
   "codemirror_mode": {
    "name": "ipython",
    "version": 3
   },
   "file_extension": ".py",
   "mimetype": "text/x-python",
   "name": "python",
   "nbconvert_exporter": "python",
   "pygments_lexer": "ipython3",
   "version": "3.9.15"
  },
  "varInspector": {
   "cols": {
    "lenName": 16,
    "lenType": 16,
    "lenVar": 40
   },
   "kernels_config": {
    "python": {
     "delete_cmd_postfix": "",
     "delete_cmd_prefix": "del ",
     "library": "var_list.py",
     "varRefreshCmd": "print(var_dic_list())"
    },
    "r": {
     "delete_cmd_postfix": ") ",
     "delete_cmd_prefix": "rm(",
     "library": "var_list.r",
     "varRefreshCmd": "cat(var_dic_list()) "
    }
   },
   "types_to_exclude": [
    "module",
    "function",
    "builtin_function_or_method",
    "instance",
    "_Feature"
   ],
   "window_display": false
  }
 },
 "nbformat": 4,
 "nbformat_minor": 5
}
