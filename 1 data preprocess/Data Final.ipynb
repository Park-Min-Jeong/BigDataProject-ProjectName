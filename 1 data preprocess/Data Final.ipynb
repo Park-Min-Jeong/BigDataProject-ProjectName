{
 "cells": [
  {
   "cell_type": "code",
   "execution_count": 1,
   "id": "7f9aa561",
   "metadata": {
    "ExecuteTime": {
     "end_time": "2022-12-22T05:12:49.957819Z",
     "start_time": "2022-12-22T05:12:49.395296Z"
    }
   },
   "outputs": [],
   "source": [
    "import pandas as pd"
   ]
  },
  {
   "cell_type": "code",
   "execution_count": 2,
   "id": "bfa2b7fc",
   "metadata": {
    "ExecuteTime": {
     "end_time": "2022-12-22T05:12:52.699382Z",
     "start_time": "2022-12-22T05:12:49.962807Z"
    }
   },
   "outputs": [],
   "source": [
    "brfss = pd.read_csv(\"./temp/edit_brfss.csv\")\n",
    "checkup = pd.read_csv(\"./temp/건강검진.csv\", encoding=\"cp949\")\n",
    "regionheart = pd.read_csv(\"./temp/지역별 심장질환.csv\", encoding=\"cp949\")\n",
    "medical = pd.read_csv(\"./temp/hos_all.csv\")"
   ]
  },
  {
   "cell_type": "code",
   "execution_count": 3,
   "id": "434d5baf",
   "metadata": {
    "ExecuteTime": {
     "end_time": "2022-12-22T05:12:52.714342Z",
     "start_time": "2022-12-22T05:12:52.702375Z"
    },
    "scrolled": false
   },
   "outputs": [],
   "source": [
    "def check_dataframe(df):\n",
    "    print(df.head())\n",
    "    print(df.info())\n",
    "    \n",
    "    for col in df.columns:\n",
    "        if len(df[col].unique()) <= 10:\n",
    "            print(df[col].value_counts())\n",
    "            print(\"*\"*20)"
   ]
  },
  {
   "cell_type": "markdown",
   "id": "103cff0e",
   "metadata": {},
   "source": [
    "## brfss\n",
    "1. CHOLESTEROL, LIVER1, LIVER2 열 제거\n",
    "2. SMOKE를 제외한 열 중 하나라도 결측값이 있는 행 제거\n",
    "3. HEIGHT, WEIGHT 열 5 단위로 변경"
   ]
  },
  {
   "cell_type": "code",
   "execution_count": 4,
   "id": "9af0b658",
   "metadata": {
    "ExecuteTime": {
     "end_time": "2022-12-22T05:12:53.076373Z",
     "start_time": "2022-12-22T05:12:52.719329Z"
    }
   },
   "outputs": [
    {
     "name": "stdout",
     "output_type": "stream",
     "text": [
      "   HEARTDISEASE SEX  HEIGHT     WEIGHT  BLIND  DEAF  DIABETE  CHOLESTEROL  \\\n",
      "0           0.0   F  149.86  32.658651    0.0   0.0      0.0          1.0   \n",
      "1           0.0   F  167.64        NaN    1.0   0.0      1.0          1.0   \n",
      "2           0.0   F  165.10  77.110703    0.0   0.0      1.0          2.0   \n",
      "3           0.0   F  162.56  88.450512    0.0   0.0      1.0          1.0   \n",
      "4           1.0   M  180.34  93.440028    0.0   1.0      1.0          1.0   \n",
      "\n",
      "   HYPERTENSION  KIDNEY  LIVER1  LIVER2  ALCOHOL  SMOKE  \n",
      "0           0.0     0.0     NaN     NaN      0.0    1.0  \n",
      "1           1.0     1.0     NaN     NaN      0.0    0.0  \n",
      "2           1.0     0.0     NaN     NaN      0.0    0.0  \n",
      "3           1.0     0.0     NaN     NaN      1.0    0.0  \n",
      "4           0.0     0.0     NaN     NaN      0.0    0.0  \n",
      "<class 'pandas.core.frame.DataFrame'>\n",
      "RangeIndex: 438693 entries, 0 to 438692\n",
      "Data columns (total 14 columns):\n",
      " #   Column        Non-Null Count   Dtype  \n",
      "---  ------        --------------   -----  \n",
      " 0   HEARTDISEASE  436038 non-null  float64\n",
      " 1   SEX           438693 non-null  object \n",
      " 2   HEIGHT        414134 non-null  float64\n",
      " 3   WEIGHT        398118 non-null  float64\n",
      " 4   BLIND         421342 non-null  float64\n",
      " 5   DEAF          422295 non-null  float64\n",
      " 6   DIABETE       437708 non-null  float64\n",
      " 7   CHOLESTEROL   377857 non-null  float64\n",
      " 8   HYPERTENSION  436781 non-null  float64\n",
      " 9   KIDNEY        436880 non-null  float64\n",
      " 10  LIVER1        10743 non-null   float64\n",
      " 11  LIVER2        10697 non-null   float64\n",
      " 12  ALCOHOL       408104 non-null  float64\n",
      " 13  SMOKE         414232 non-null  float64\n",
      "dtypes: float64(13), object(1)\n",
      "memory usage: 46.9+ MB\n",
      "None\n",
      "0.0    413207\n",
      "1.0     22831\n",
      "Name: HEARTDISEASE, dtype: int64\n",
      "********************\n",
      "F    234883\n",
      "M    203810\n",
      "Name: SEX, dtype: int64\n",
      "********************\n",
      "0.0    399597\n",
      "1.0     21745\n",
      "Name: BLIND, dtype: int64\n",
      "********************\n",
      "0.0    384717\n",
      "1.0     37578\n",
      "Name: DEAF, dtype: int64\n",
      "********************\n",
      "0.0    380092\n",
      "1.0     57616\n",
      "Name: DIABETE, dtype: int64\n",
      "********************\n",
      "2.0    224989\n",
      "1.0    149724\n",
      "7.0      2689\n",
      "9.0       455\n",
      "Name: CHOLESTEROL, dtype: int64\n",
      "********************\n",
      "0.0    264648\n",
      "1.0    172133\n",
      "Name: HYPERTENSION, dtype: int64\n",
      "********************\n",
      "0.0    419779\n",
      "1.0     17101\n",
      "Name: KIDNEY, dtype: int64\n",
      "********************\n",
      "0.0    10580\n",
      "1.0      163\n",
      "Name: LIVER1, dtype: int64\n",
      "********************\n",
      "0.0    10602\n",
      "1.0       95\n",
      "Name: LIVER2, dtype: int64\n",
      "********************\n",
      "1.0    211232\n",
      "0.0    196872\n",
      "Name: ALCOHOL, dtype: int64\n",
      "********************\n",
      "0.0    246644\n",
      "1.0    167588\n",
      "Name: SMOKE, dtype: int64\n",
      "********************\n"
     ]
    }
   ],
   "source": [
    "check_dataframe(brfss)"
   ]
  },
  {
   "cell_type": "markdown",
   "id": "73066a9d",
   "metadata": {},
   "source": [
    "### 열 제거\n",
    "- CHOLESTEROL, LIVER 제거"
   ]
  },
  {
   "cell_type": "code",
   "execution_count": 5,
   "id": "efb16f11",
   "metadata": {
    "ExecuteTime": {
     "end_time": "2022-12-22T05:12:53.122250Z",
     "start_time": "2022-12-22T05:12:53.081371Z"
    }
   },
   "outputs": [],
   "source": [
    "brfss.drop([\"CHOLESTEROL\", \"LIVER1\", \"LIVER2\"], axis=1, inplace=True)"
   ]
  },
  {
   "cell_type": "markdown",
   "id": "68c56f86",
   "metadata": {
    "ExecuteTime": {
     "end_time": "2022-12-22T00:48:25.211100Z",
     "start_time": "2022-12-22T00:48:25.200799Z"
    }
   },
   "source": [
    "### 결측치 처리\n",
    "- SMOKE 제외한 열 중에서 하나라도 결측치가 있는 행 제거"
   ]
  },
  {
   "cell_type": "code",
   "execution_count": 6,
   "id": "ea8ed6b0",
   "metadata": {
    "ExecuteTime": {
     "end_time": "2022-12-22T05:12:53.241931Z",
     "start_time": "2022-12-22T05:12:53.126247Z"
    }
   },
   "outputs": [
    {
     "data": {
      "text/plain": [
       "HEARTDISEASE     2655\n",
       "SEX                 0\n",
       "HEIGHT          24559\n",
       "WEIGHT          40575\n",
       "BLIND           17351\n",
       "DEAF            16398\n",
       "DIABETE           985\n",
       "HYPERTENSION     1912\n",
       "KIDNEY           1813\n",
       "ALCOHOL         30589\n",
       "SMOKE           24461\n",
       "dtype: int64"
      ]
     },
     "execution_count": 6,
     "metadata": {},
     "output_type": "execute_result"
    }
   ],
   "source": [
    "brfss.isnull().sum()"
   ]
  },
  {
   "cell_type": "code",
   "execution_count": 7,
   "id": "43052b65",
   "metadata": {
    "ExecuteTime": {
     "end_time": "2022-12-22T05:12:53.363421Z",
     "start_time": "2022-12-22T05:12:53.247921Z"
    }
   },
   "outputs": [
    {
     "data": {
      "text/plain": [
       "HEARTDISEASE    0.006052\n",
       "SEX             0.000000\n",
       "HEIGHT          0.055982\n",
       "WEIGHT          0.092491\n",
       "BLIND           0.039552\n",
       "DEAF            0.037379\n",
       "DIABETE         0.002245\n",
       "HYPERTENSION    0.004358\n",
       "KIDNEY          0.004133\n",
       "ALCOHOL         0.069728\n",
       "SMOKE           0.055759\n",
       "dtype: float64"
      ]
     },
     "execution_count": 7,
     "metadata": {},
     "output_type": "execute_result"
    }
   ],
   "source": [
    "brfss.isnull().sum() / len(brfss)"
   ]
  },
  {
   "cell_type": "code",
   "execution_count": 8,
   "id": "05ff5f15",
   "metadata": {
    "ExecuteTime": {
     "end_time": "2022-12-22T05:12:53.499050Z",
     "start_time": "2022-12-22T05:12:53.365416Z"
    }
   },
   "outputs": [],
   "source": [
    "col_list = list(brfss.columns)\n",
    "col_list.remove(\"SMOKE\")\n",
    "\n",
    "brfss.dropna(how=\"any\", subset=col_list, inplace=True)"
   ]
  },
  {
   "cell_type": "code",
   "execution_count": 9,
   "id": "4ede8a7f",
   "metadata": {
    "ExecuteTime": {
     "end_time": "2022-12-22T05:12:53.514014Z",
     "start_time": "2022-12-22T05:12:53.501089Z"
    }
   },
   "outputs": [],
   "source": [
    "brfss[\"SMOKE\"].fillna(9, inplace=True)"
   ]
  },
  {
   "cell_type": "markdown",
   "id": "6b876371",
   "metadata": {},
   "source": [
    "### HEIGHT, WEIGHT\n",
    "- 검진자의 키(5CM 단위)\n",
    "    - 예) 100-104CM --> 100CM\n",
    "- 검진자의 몸무게(5KG 단위)\n",
    "    - 예) 25~29KG -> 25KG"
   ]
  },
  {
   "cell_type": "code",
   "execution_count": 10,
   "id": "9aa98239",
   "metadata": {
    "ExecuteTime": {
     "end_time": "2022-12-22T05:12:53.560244Z",
     "start_time": "2022-12-22T05:12:53.515011Z"
    }
   },
   "outputs": [],
   "source": [
    "brfss[\"HEIGHT\"] = brfss[\"HEIGHT\"] // 5 * 5"
   ]
  },
  {
   "cell_type": "code",
   "execution_count": 11,
   "id": "4b3ca2a9",
   "metadata": {
    "ExecuteTime": {
     "end_time": "2022-12-22T05:12:53.605123Z",
     "start_time": "2022-12-22T05:12:53.564234Z"
    }
   },
   "outputs": [],
   "source": [
    "brfss[\"WEIGHT\"] = brfss[\"WEIGHT\"] // 5 * 5"
   ]
  },
  {
   "cell_type": "markdown",
   "id": "152f44dd",
   "metadata": {},
   "source": [
    "### 확인 및 저장"
   ]
  },
  {
   "cell_type": "code",
   "execution_count": 12,
   "id": "74dac91c",
   "metadata": {
    "ExecuteTime": {
     "end_time": "2022-12-22T05:12:53.830103Z",
     "start_time": "2022-12-22T05:12:53.607117Z"
    }
   },
   "outputs": [
    {
     "name": "stdout",
     "output_type": "stream",
     "text": [
      "   HEARTDISEASE SEX  HEIGHT  WEIGHT  BLIND  DEAF  DIABETE  HYPERTENSION  \\\n",
      "0           0.0   F   145.0    30.0    0.0   0.0      0.0           0.0   \n",
      "2           0.0   F   165.0    75.0    0.0   0.0      1.0           1.0   \n",
      "3           0.0   F   160.0    85.0    0.0   0.0      1.0           1.0   \n",
      "4           1.0   M   180.0    90.0    0.0   1.0      1.0           0.0   \n",
      "5           0.0   M   190.0    85.0    0.0   0.0      0.0           0.0   \n",
      "\n",
      "   KIDNEY  ALCOHOL  SMOKE  \n",
      "0     0.0      0.0    1.0  \n",
      "2     0.0      0.0    0.0  \n",
      "3     0.0      1.0    0.0  \n",
      "4     0.0      0.0    0.0  \n",
      "5     0.0      0.0    1.0  \n",
      "<class 'pandas.core.frame.DataFrame'>\n",
      "Int64Index: 373951 entries, 0 to 438692\n",
      "Data columns (total 11 columns):\n",
      " #   Column        Non-Null Count   Dtype  \n",
      "---  ------        --------------   -----  \n",
      " 0   HEARTDISEASE  373951 non-null  float64\n",
      " 1   SEX           373951 non-null  object \n",
      " 2   HEIGHT        373951 non-null  float64\n",
      " 3   WEIGHT        373951 non-null  float64\n",
      " 4   BLIND         373951 non-null  float64\n",
      " 5   DEAF          373951 non-null  float64\n",
      " 6   DIABETE       373951 non-null  float64\n",
      " 7   HYPERTENSION  373951 non-null  float64\n",
      " 8   KIDNEY        373951 non-null  float64\n",
      " 9   ALCOHOL       373951 non-null  float64\n",
      " 10  SMOKE         373951 non-null  float64\n",
      "dtypes: float64(10), object(1)\n",
      "memory usage: 34.2+ MB\n",
      "None\n",
      "0.0    353960\n",
      "1.0     19991\n",
      "Name: HEARTDISEASE, dtype: int64\n",
      "********************\n",
      "F    194646\n",
      "M    179305\n",
      "Name: SEX, dtype: int64\n",
      "********************\n",
      "0.0    355164\n",
      "1.0     18787\n",
      "Name: BLIND, dtype: int64\n",
      "********************\n",
      "0.0    340542\n",
      "1.0     33409\n",
      "Name: DEAF, dtype: int64\n",
      "********************\n",
      "0.0    324917\n",
      "1.0     49034\n",
      "Name: DIABETE, dtype: int64\n",
      "********************\n",
      "0.0    226678\n",
      "1.0    147273\n",
      "Name: HYPERTENSION, dtype: int64\n",
      "********************\n",
      "0.0    359205\n",
      "1.0     14746\n",
      "Name: KIDNEY, dtype: int64\n",
      "********************\n",
      "1.0    197820\n",
      "0.0    176131\n",
      "Name: ALCOHOL, dtype: int64\n",
      "********************\n",
      "0.0    220025\n",
      "1.0    151985\n",
      "9.0      1941\n",
      "Name: SMOKE, dtype: int64\n",
      "********************\n"
     ]
    }
   ],
   "source": [
    "check_dataframe(brfss)"
   ]
  },
  {
   "cell_type": "code",
   "execution_count": 13,
   "id": "c651f395",
   "metadata": {
    "ExecuteTime": {
     "end_time": "2022-12-22T05:12:56.108171Z",
     "start_time": "2022-12-22T05:12:53.833095Z"
    }
   },
   "outputs": [],
   "source": [
    "brfss.to_csv(\"../data/brfss.csv\", index=False)"
   ]
  },
  {
   "cell_type": "markdown",
   "id": "7c9b0cf6",
   "metadata": {},
   "source": [
    "## 건강검진\n",
    "1. LIVER 열 제거\n",
    "2. SEX 열 F, M으로 변경\n",
    "3. 지역 열 긴 이름으로 변경(서울 -> 서울특별시)\n",
    "4. encoding 변경(cp949 -> utf-8)"
   ]
  },
  {
   "cell_type": "code",
   "execution_count": 14,
   "id": "bd03492f",
   "metadata": {
    "ExecuteTime": {
     "end_time": "2022-12-22T05:12:56.602274Z",
     "start_time": "2022-12-22T05:12:56.113234Z"
    }
   },
   "outputs": [
    {
     "name": "stdout",
     "output_type": "stream",
     "text": [
      "   지역  SEX  HEIGHT  WEIGHT  BLIND  DEAF  DIABETE  HYPERTENSION  KIDNEY  LIVER  \\\n",
      "0  세종    1     165      60      0     0        0             0       0      0   \n",
      "1  대구    2     150      65      0     0        0             0       1      0   \n",
      "2  서울    2     155      55      0     0        0             0       1      0   \n",
      "3  울산    1     160      70      0     1        1             0       0      1   \n",
      "4  경기    2     155      50      0     0        0             1       1      0   \n",
      "\n",
      "   ALCOHOL  SMOKE  \n",
      "0      0.0      0  \n",
      "1      0.0      0  \n",
      "2      0.0      0  \n",
      "3      0.0      0  \n",
      "4      0.0      0  \n",
      "<class 'pandas.core.frame.DataFrame'>\n",
      "RangeIndex: 2039244 entries, 0 to 2039243\n",
      "Data columns (total 12 columns):\n",
      " #   Column        Dtype  \n",
      "---  ------        -----  \n",
      " 0   지역            object \n",
      " 1   SEX           int64  \n",
      " 2   HEIGHT        int64  \n",
      " 3   WEIGHT        int64  \n",
      " 4   BLIND         int64  \n",
      " 5   DEAF          int64  \n",
      " 6   DIABETE       int64  \n",
      " 7   HYPERTENSION  int64  \n",
      " 8   KIDNEY        int64  \n",
      " 9   LIVER         int64  \n",
      " 10  ALCOHOL       float64\n",
      " 11  SMOKE         int64  \n",
      "dtypes: float64(1), int64(10), object(1)\n",
      "memory usage: 186.7+ MB\n",
      "None\n",
      "1    1054132\n",
      "2     985112\n",
      "Name: SEX, dtype: int64\n",
      "********************\n",
      "0    2027149\n",
      "1      12095\n",
      "Name: BLIND, dtype: int64\n",
      "********************\n",
      "0    1933707\n",
      "1     105537\n",
      "Name: DEAF, dtype: int64\n",
      "********************\n",
      "0    1852671\n",
      "1     186573\n",
      "Name: DIABETE, dtype: int64\n",
      "********************\n",
      "0    1732168\n",
      "1     307076\n",
      "Name: HYPERTENSION, dtype: int64\n",
      "********************\n",
      "0    1295062\n",
      "1     744182\n",
      "Name: KIDNEY, dtype: int64\n",
      "********************\n",
      "0    1726996\n",
      "1     312248\n",
      "Name: LIVER, dtype: int64\n",
      "********************\n",
      "1.0    1262142\n",
      "0.0     406418\n",
      "9.0     370684\n",
      "Name: ALCOHOL, dtype: int64\n",
      "********************\n",
      "0    1279087\n",
      "1     760157\n",
      "Name: SMOKE, dtype: int64\n",
      "********************\n"
     ]
    }
   ],
   "source": [
    "check_dataframe(checkup)"
   ]
  },
  {
   "cell_type": "code",
   "execution_count": 15,
   "id": "1242f2e9",
   "metadata": {
    "ExecuteTime": {
     "end_time": "2022-12-22T05:12:56.723060Z",
     "start_time": "2022-12-22T05:12:56.603232Z"
    }
   },
   "outputs": [],
   "source": [
    "# LIVER 제거\n",
    "checkup.drop([\"LIVER\"], axis=1, inplace=True)"
   ]
  },
  {
   "cell_type": "code",
   "execution_count": 16,
   "id": "05981407",
   "metadata": {
    "ExecuteTime": {
     "end_time": "2022-12-22T05:12:57.907708Z",
     "start_time": "2022-12-22T05:12:56.726049Z"
    }
   },
   "outputs": [],
   "source": [
    "region = {\"강원\": \"강원도\", \"경기\": \"경기도\", \"경남\": \"경상남도\", \"경북\": \"경상북도\", \n",
    "          \"전남\": \"전라남도\", \"전북\": \"전라북도\", \"충남\": \"충청남도\", \"충북\": \"충청북도\", \n",
    "          \"광주\": \"광주광역시\", \"대구\": \"대구광역시\", \"대전\": \"대전광역시\", \"부산\": \"부산광역시\", \n",
    "          \"서울\": \"서울특별시\", \"울산\": \"울산광역시\", \"인천\": \"인천광역시\", \n",
    "          \"세종\": \"세종특별자치시\", \"제주\": \"제주특별자치도\"}\n",
    "\n",
    "checkup[\"SEX\"].replace({1:\"M\", 2:\"F\"}, inplace=True)\n",
    "checkup[\"지역\"].replace(region, inplace=True)"
   ]
  },
  {
   "cell_type": "code",
   "execution_count": 17,
   "id": "ec0ed18e",
   "metadata": {
    "ExecuteTime": {
     "end_time": "2022-12-22T05:12:58.476854Z",
     "start_time": "2022-12-22T05:12:57.910338Z"
    },
    "scrolled": true
   },
   "outputs": [
    {
     "data": {
      "text/plain": [
       "지역              0\n",
       "SEX             0\n",
       "HEIGHT          0\n",
       "WEIGHT          0\n",
       "BLIND           0\n",
       "DEAF            0\n",
       "DIABETE         0\n",
       "HYPERTENSION    0\n",
       "KIDNEY          0\n",
       "ALCOHOL         0\n",
       "SMOKE           0\n",
       "dtype: int64"
      ]
     },
     "execution_count": 17,
     "metadata": {},
     "output_type": "execute_result"
    }
   ],
   "source": [
    "checkup.isnull().sum()"
   ]
  },
  {
   "cell_type": "code",
   "execution_count": 18,
   "id": "06501eb4",
   "metadata": {
    "ExecuteTime": {
     "end_time": "2022-12-22T05:12:59.076168Z",
     "start_time": "2022-12-22T05:12:58.478815Z"
    }
   },
   "outputs": [
    {
     "name": "stdout",
     "output_type": "stream",
     "text": [
      "        지역 SEX  HEIGHT  WEIGHT  BLIND  DEAF  DIABETE  HYPERTENSION  KIDNEY  \\\n",
      "0  세종특별자치시   M     165      60      0     0        0             0       0   \n",
      "1    대구광역시   F     150      65      0     0        0             0       1   \n",
      "2    서울특별시   F     155      55      0     0        0             0       1   \n",
      "3    울산광역시   M     160      70      0     1        1             0       0   \n",
      "4      경기도   F     155      50      0     0        0             1       1   \n",
      "\n",
      "   ALCOHOL  SMOKE  \n",
      "0      0.0      0  \n",
      "1      0.0      0  \n",
      "2      0.0      0  \n",
      "3      0.0      0  \n",
      "4      0.0      0  \n",
      "<class 'pandas.core.frame.DataFrame'>\n",
      "RangeIndex: 2039244 entries, 0 to 2039243\n",
      "Data columns (total 11 columns):\n",
      " #   Column        Dtype  \n",
      "---  ------        -----  \n",
      " 0   지역            object \n",
      " 1   SEX           object \n",
      " 2   HEIGHT        int64  \n",
      " 3   WEIGHT        int64  \n",
      " 4   BLIND         int64  \n",
      " 5   DEAF          int64  \n",
      " 6   DIABETE       int64  \n",
      " 7   HYPERTENSION  int64  \n",
      " 8   KIDNEY        int64  \n",
      " 9   ALCOHOL       float64\n",
      " 10  SMOKE         int64  \n",
      "dtypes: float64(1), int64(8), object(2)\n",
      "memory usage: 171.1+ MB\n",
      "None\n",
      "M    1054132\n",
      "F     985112\n",
      "Name: SEX, dtype: int64\n",
      "********************\n",
      "0    2027149\n",
      "1      12095\n",
      "Name: BLIND, dtype: int64\n",
      "********************\n",
      "0    1933707\n",
      "1     105537\n",
      "Name: DEAF, dtype: int64\n",
      "********************\n",
      "0    1852671\n",
      "1     186573\n",
      "Name: DIABETE, dtype: int64\n",
      "********************\n",
      "0    1732168\n",
      "1     307076\n",
      "Name: HYPERTENSION, dtype: int64\n",
      "********************\n",
      "0    1295062\n",
      "1     744182\n",
      "Name: KIDNEY, dtype: int64\n",
      "********************\n",
      "1.0    1262142\n",
      "0.0     406418\n",
      "9.0     370684\n",
      "Name: ALCOHOL, dtype: int64\n",
      "********************\n",
      "0    1279087\n",
      "1     760157\n",
      "Name: SMOKE, dtype: int64\n",
      "********************\n"
     ]
    }
   ],
   "source": [
    "check_dataframe(checkup)"
   ]
  },
  {
   "cell_type": "code",
   "execution_count": 19,
   "id": "bbca931d",
   "metadata": {
    "ExecuteTime": {
     "end_time": "2022-12-22T05:13:05.835043Z",
     "start_time": "2022-12-22T05:12:59.079162Z"
    }
   },
   "outputs": [],
   "source": [
    "checkup.to_csv(\"../data/checkup.csv\", index=False, encoding=\"utf-8\")"
   ]
  },
  {
   "cell_type": "markdown",
   "id": "16526e78",
   "metadata": {},
   "source": [
    "## 지역별 심장환자 현황\n",
    "1. encoding 변경(cp949 -> utf-8)"
   ]
  },
  {
   "cell_type": "code",
   "execution_count": 20,
   "id": "b8dff107",
   "metadata": {
    "ExecuteTime": {
     "end_time": "2022-12-22T05:13:05.864945Z",
     "start_time": "2022-12-22T05:13:05.837781Z"
    }
   },
   "outputs": [
    {
     "name": "stdout",
     "output_type": "stream",
     "text": [
      "      지역  심장질환사망자  심장장애      주민등록인구\n",
      "0    강원도   4900.0   121   1538492.0\n",
      "1    경기도  25708.0  1295  13565450.0\n",
      "2   경상남도  10312.0   268   3314183.0\n",
      "3   경상북도   9880.0   311   2626609.0\n",
      "4  광주광역시   2712.0   140   1441611.0\n",
      "<class 'pandas.core.frame.DataFrame'>\n",
      "RangeIndex: 17 entries, 0 to 16\n",
      "Data columns (total 4 columns):\n",
      " #   Column   Non-Null Count  Dtype  \n",
      "---  ------   --------------  -----  \n",
      " 0   지역       17 non-null     object \n",
      " 1   심장질환사망자  17 non-null     float64\n",
      " 2   심장장애     17 non-null     int64  \n",
      " 3   주민등록인구   17 non-null     float64\n",
      "dtypes: float64(2), int64(1), object(1)\n",
      "memory usage: 672.0+ bytes\n",
      "None\n"
     ]
    }
   ],
   "source": [
    "check_dataframe(regionheart)"
   ]
  },
  {
   "cell_type": "code",
   "execution_count": 21,
   "id": "911950e5",
   "metadata": {
    "ExecuteTime": {
     "end_time": "2022-12-22T05:13:05.879710Z",
     "start_time": "2022-12-22T05:13:05.866938Z"
    }
   },
   "outputs": [
    {
     "data": {
      "text/plain": [
       "지역         0\n",
       "심장질환사망자    0\n",
       "심장장애       0\n",
       "주민등록인구     0\n",
       "dtype: int64"
      ]
     },
     "execution_count": 21,
     "metadata": {},
     "output_type": "execute_result"
    }
   ],
   "source": [
    "regionheart.isnull().sum()"
   ]
  },
  {
   "cell_type": "code",
   "execution_count": 22,
   "id": "9339ea7a",
   "metadata": {
    "ExecuteTime": {
     "end_time": "2022-12-22T05:13:05.894645Z",
     "start_time": "2022-12-22T05:13:05.882674Z"
    }
   },
   "outputs": [
    {
     "data": {
      "text/plain": [
       "Index(['지역', '심장질환사망자', '심장장애', '주민등록인구'], dtype='object')"
      ]
     },
     "execution_count": 22,
     "metadata": {},
     "output_type": "execute_result"
    }
   ],
   "source": [
    "regionheart.columns"
   ]
  },
  {
   "cell_type": "code",
   "execution_count": 23,
   "id": "5ba2006c",
   "metadata": {
    "ExecuteTime": {
     "end_time": "2022-12-22T05:13:05.909602Z",
     "start_time": "2022-12-22T05:13:05.897636Z"
    }
   },
   "outputs": [],
   "source": [
    "regionheart = regionheart[['지역', '주민등록인구', '심장질환사망자', '심장장애']]"
   ]
  },
  {
   "cell_type": "code",
   "execution_count": 24,
   "id": "caf82491",
   "metadata": {
    "ExecuteTime": {
     "end_time": "2022-12-22T05:13:05.939760Z",
     "start_time": "2022-12-22T05:13:05.915584Z"
    }
   },
   "outputs": [],
   "source": [
    "regionheart.to_csv(\"./temp/region_heart.csv\", index=False, encoding=\"utf-8\")"
   ]
  },
  {
   "cell_type": "markdown",
   "id": "123de9fc",
   "metadata": {},
   "source": [
    "## 의료수준\n",
    "1. 첫 번째 열 삭제\n",
    "2. 일반의, 전문의, 간호사, 임상병리사 열 데이터 타입 변경(object -> int)\n",
    "3. 지역 열 긴 이름으로 변경"
   ]
  },
  {
   "cell_type": "code",
   "execution_count": 25,
   "id": "38a4f6f5",
   "metadata": {
    "ExecuteTime": {
     "end_time": "2022-12-22T05:13:05.984645Z",
     "start_time": "2022-12-22T05:13:05.942756Z"
    }
   },
   "outputs": [
    {
     "name": "stdout",
     "output_type": "stream",
     "text": [
      "   Unnamed: 0  지역  상급종합병원  종합병원   병원  심장혈관흉부외과  심장혈관흉부외과.1    일반의     전문의  \\\n",
      "0           0  서울      14    42  222      57.0         305  1,287  25,109   \n",
      "1           1  부산       3    25  136      10.0          83    377   6,966   \n",
      "2           2  인천       3    17   56       8.0          55    260   4,433   \n",
      "3           3  대구       5    13   88       1.0          51    184   5,060   \n",
      "4           4  광주       2    21   84       3.0          33    148   3,092   \n",
      "\n",
      "      간호사  임상병리사  심장혈관흉부외과.2  심장혈관흉부외과.3   일반병실   일반병상  중환병실  중환병상  구급차 (대)  \\\n",
      "0  58,475  6,831        57.0         305  13846  45730   250  2660      177   \n",
      "1  19,705  1,982        10.0          83   7646  24605    64   860       70   \n",
      "2  12,551  1,343         8.0          55   3249  12248    47   610       55   \n",
      "3  13,948  1,578         1.0          51   4580  16622    60   584       72   \n",
      "4   9,414    941         3.0          33   4427  13894    27   408       30   \n",
      "\n",
      "   구급대원수  \n",
      "0   1473  \n",
      "1    633  \n",
      "2    495  \n",
      "3    592  \n",
      "4    270  \n",
      "<class 'pandas.core.frame.DataFrame'>\n",
      "RangeIndex: 17 entries, 0 to 16\n",
      "Data columns (total 19 columns):\n",
      " #   Column      Non-Null Count  Dtype  \n",
      "---  ------      --------------  -----  \n",
      " 0   Unnamed: 0  17 non-null     int64  \n",
      " 1   지역          17 non-null     object \n",
      " 2   상급종합병원      17 non-null     int64  \n",
      " 3   종합병원        17 non-null     int64  \n",
      " 4   병원          17 non-null     int64  \n",
      " 5   심장혈관흉부외과    16 non-null     float64\n",
      " 6   심장혈관흉부외과.1  17 non-null     int64  \n",
      " 7   일반의         17 non-null     object \n",
      " 8   전문의         17 non-null     object \n",
      " 9   간호사         17 non-null     object \n",
      " 10  임상병리사       17 non-null     object \n",
      " 11  심장혈관흉부외과.2  16 non-null     float64\n",
      " 12  심장혈관흉부외과.3  17 non-null     int64  \n",
      " 13  일반병실        17 non-null     int64  \n",
      " 14  일반병상        17 non-null     int64  \n",
      " 15  중환병실        17 non-null     int64  \n",
      " 16  중환병상        17 non-null     int64  \n",
      " 17  구급차 (대)     17 non-null     int64  \n",
      " 18  구급대원수       17 non-null     int64  \n",
      "dtypes: float64(2), int64(12), object(5)\n",
      "memory usage: 2.6+ KB\n",
      "None\n",
      "2     4\n",
      "1     4\n",
      "3     3\n",
      "0     3\n",
      "5     2\n",
      "14    1\n",
      "Name: 상급종합병원, dtype: int64\n",
      "********************\n",
      "1.0     4\n",
      "4.0     3\n",
      "2.0     3\n",
      "57.0    1\n",
      "10.0    1\n",
      "8.0     1\n",
      "3.0     1\n",
      "5.0     1\n",
      "9.0     1\n",
      "Name: 심장혈관흉부외과, dtype: int64\n",
      "********************\n",
      "1.0     4\n",
      "4.0     3\n",
      "2.0     3\n",
      "57.0    1\n",
      "10.0    1\n",
      "8.0     1\n",
      "3.0     1\n",
      "5.0     1\n",
      "9.0     1\n",
      "Name: 심장혈관흉부외과.2, dtype: int64\n",
      "********************\n"
     ]
    }
   ],
   "source": [
    "check_dataframe(medical)"
   ]
  },
  {
   "cell_type": "code",
   "execution_count": 26,
   "id": "5e7912d5",
   "metadata": {
    "ExecuteTime": {
     "end_time": "2022-12-22T05:13:05.999606Z",
     "start_time": "2022-12-22T05:13:05.987637Z"
    }
   },
   "outputs": [],
   "source": [
    "# 첫 번째 열 삭제\n",
    "medical = medical.iloc[:, 1:]"
   ]
  },
  {
   "cell_type": "code",
   "execution_count": 27,
   "id": "ae53b08e",
   "metadata": {
    "ExecuteTime": {
     "end_time": "2022-12-22T05:13:06.044522Z",
     "start_time": "2022-12-22T05:13:06.005589Z"
    }
   },
   "outputs": [],
   "source": [
    "# 데이터 타입 변환\n",
    "def change_to_int(x):\n",
    "    return x.str.replace(\",\",\"\").replace(\"-\", \"0\").astype(\"int64\")\n",
    "\n",
    "medical[[\"일반의\", \"전문의\", \"간호사\", \"임상병리사\"]] = medical[[\"일반의\", \"전문의\", \"간호사\", \"임상병리사\"]].apply(change_to_int, axis=1)"
   ]
  },
  {
   "cell_type": "code",
   "execution_count": 28,
   "id": "796eee95",
   "metadata": {
    "ExecuteTime": {
     "end_time": "2022-12-22T05:13:06.059478Z",
     "start_time": "2022-12-22T05:13:06.047478Z"
    }
   },
   "outputs": [],
   "source": [
    "# 지역 이름 변환\n",
    "region = {\"강원\": \"강원도\", \"경기\": \"경기도\", \"경남\": \"경상남도\", \"경북\": \"경상북도\", \n",
    "          \"전남\": \"전라남도\", \"전북\": \"전라북도\", \"충남\": \"충청남도\", \"충북\": \"충청북도\", \n",
    "          \"광주\": \"광주광역시\", \"대구\": \"대구광역시\", \"대전\": \"대전광역시\", \"부산\": \"부산광역시\", \n",
    "          \"서울\": \"서울특별시\", \"울산\": \"울산광역시\", \"인천\": \"인천광역시\", \n",
    "          \"세종\": \"세종특별자치시\", \"제주\": \"제주특별자치도\"}\n",
    "\n",
    "medical[\"지역\"].replace(region, inplace=True)"
   ]
  },
  {
   "cell_type": "code",
   "execution_count": 29,
   "id": "f85accb8",
   "metadata": {
    "ExecuteTime": {
     "end_time": "2022-12-22T05:13:06.074405Z",
     "start_time": "2022-12-22T05:13:06.063435Z"
    }
   },
   "outputs": [
    {
     "data": {
      "text/plain": [
       "지역             object\n",
       "상급종합병원          int64\n",
       "종합병원            int64\n",
       "병원              int64\n",
       "심장혈관흉부외과      float64\n",
       "심장혈관흉부외과.1      int64\n",
       "일반의             int64\n",
       "전문의             int64\n",
       "간호사             int64\n",
       "임상병리사           int64\n",
       "심장혈관흉부외과.2    float64\n",
       "심장혈관흉부외과.3      int64\n",
       "일반병실            int64\n",
       "일반병상            int64\n",
       "중환병실            int64\n",
       "중환병상            int64\n",
       "구급차 (대)         int64\n",
       "구급대원수           int64\n",
       "dtype: object"
      ]
     },
     "execution_count": 29,
     "metadata": {},
     "output_type": "execute_result"
    }
   ],
   "source": [
    "medical.dtypes"
   ]
  },
  {
   "cell_type": "markdown",
   "id": "ab01ed78",
   "metadata": {},
   "source": [
    "### 심장혈관흉부외과"
   ]
  },
  {
   "cell_type": "code",
   "execution_count": 30,
   "id": "7de6de78",
   "metadata": {
    "ExecuteTime": {
     "end_time": "2022-12-22T05:13:06.104337Z",
     "start_time": "2022-12-22T05:13:06.078395Z"
    },
    "scrolled": false
   },
   "outputs": [
    {
     "data": {
      "text/html": [
       "<div>\n",
       "<style scoped>\n",
       "    .dataframe tbody tr th:only-of-type {\n",
       "        vertical-align: middle;\n",
       "    }\n",
       "\n",
       "    .dataframe tbody tr th {\n",
       "        vertical-align: top;\n",
       "    }\n",
       "\n",
       "    .dataframe thead th {\n",
       "        text-align: right;\n",
       "    }\n",
       "</style>\n",
       "<table border=\"1\" class=\"dataframe\">\n",
       "  <thead>\n",
       "    <tr style=\"text-align: right;\">\n",
       "      <th></th>\n",
       "      <th>심장혈관흉부외과</th>\n",
       "      <th>심장혈관흉부외과.1</th>\n",
       "      <th>심장혈관흉부외과.2</th>\n",
       "      <th>심장혈관흉부외과.3</th>\n",
       "    </tr>\n",
       "  </thead>\n",
       "  <tbody>\n",
       "    <tr>\n",
       "      <th>0</th>\n",
       "      <td>57.0</td>\n",
       "      <td>305</td>\n",
       "      <td>57.0</td>\n",
       "      <td>305</td>\n",
       "    </tr>\n",
       "    <tr>\n",
       "      <th>1</th>\n",
       "      <td>10.0</td>\n",
       "      <td>83</td>\n",
       "      <td>10.0</td>\n",
       "      <td>83</td>\n",
       "    </tr>\n",
       "    <tr>\n",
       "      <th>2</th>\n",
       "      <td>8.0</td>\n",
       "      <td>55</td>\n",
       "      <td>8.0</td>\n",
       "      <td>55</td>\n",
       "    </tr>\n",
       "    <tr>\n",
       "      <th>3</th>\n",
       "      <td>1.0</td>\n",
       "      <td>51</td>\n",
       "      <td>1.0</td>\n",
       "      <td>51</td>\n",
       "    </tr>\n",
       "    <tr>\n",
       "      <th>4</th>\n",
       "      <td>3.0</td>\n",
       "      <td>33</td>\n",
       "      <td>3.0</td>\n",
       "      <td>33</td>\n",
       "    </tr>\n",
       "    <tr>\n",
       "      <th>5</th>\n",
       "      <td>4.0</td>\n",
       "      <td>50</td>\n",
       "      <td>4.0</td>\n",
       "      <td>50</td>\n",
       "    </tr>\n",
       "    <tr>\n",
       "      <th>6</th>\n",
       "      <td>5.0</td>\n",
       "      <td>21</td>\n",
       "      <td>5.0</td>\n",
       "      <td>21</td>\n",
       "    </tr>\n",
       "    <tr>\n",
       "      <th>7</th>\n",
       "      <td>9.0</td>\n",
       "      <td>209</td>\n",
       "      <td>9.0</td>\n",
       "      <td>209</td>\n",
       "    </tr>\n",
       "    <tr>\n",
       "      <th>8</th>\n",
       "      <td>1.0</td>\n",
       "      <td>36</td>\n",
       "      <td>1.0</td>\n",
       "      <td>36</td>\n",
       "    </tr>\n",
       "    <tr>\n",
       "      <th>9</th>\n",
       "      <td>4.0</td>\n",
       "      <td>36</td>\n",
       "      <td>4.0</td>\n",
       "      <td>36</td>\n",
       "    </tr>\n",
       "    <tr>\n",
       "      <th>10</th>\n",
       "      <td>4.0</td>\n",
       "      <td>38</td>\n",
       "      <td>4.0</td>\n",
       "      <td>38</td>\n",
       "    </tr>\n",
       "    <tr>\n",
       "      <th>11</th>\n",
       "      <td>1.0</td>\n",
       "      <td>37</td>\n",
       "      <td>1.0</td>\n",
       "      <td>37</td>\n",
       "    </tr>\n",
       "    <tr>\n",
       "      <th>12</th>\n",
       "      <td>2.0</td>\n",
       "      <td>44</td>\n",
       "      <td>2.0</td>\n",
       "      <td>44</td>\n",
       "    </tr>\n",
       "    <tr>\n",
       "      <th>13</th>\n",
       "      <td>2.0</td>\n",
       "      <td>51</td>\n",
       "      <td>2.0</td>\n",
       "      <td>51</td>\n",
       "    </tr>\n",
       "    <tr>\n",
       "      <th>14</th>\n",
       "      <td>2.0</td>\n",
       "      <td>72</td>\n",
       "      <td>2.0</td>\n",
       "      <td>72</td>\n",
       "    </tr>\n",
       "    <tr>\n",
       "      <th>15</th>\n",
       "      <td>1.0</td>\n",
       "      <td>19</td>\n",
       "      <td>1.0</td>\n",
       "      <td>19</td>\n",
       "    </tr>\n",
       "    <tr>\n",
       "      <th>16</th>\n",
       "      <td>NaN</td>\n",
       "      <td>7</td>\n",
       "      <td>NaN</td>\n",
       "      <td>7</td>\n",
       "    </tr>\n",
       "  </tbody>\n",
       "</table>\n",
       "</div>"
      ],
      "text/plain": [
       "    심장혈관흉부외과  심장혈관흉부외과.1  심장혈관흉부외과.2  심장혈관흉부외과.3\n",
       "0       57.0         305        57.0         305\n",
       "1       10.0          83        10.0          83\n",
       "2        8.0          55         8.0          55\n",
       "3        1.0          51         1.0          51\n",
       "4        3.0          33         3.0          33\n",
       "5        4.0          50         4.0          50\n",
       "6        5.0          21         5.0          21\n",
       "7        9.0         209         9.0         209\n",
       "8        1.0          36         1.0          36\n",
       "9        4.0          36         4.0          36\n",
       "10       4.0          38         4.0          38\n",
       "11       1.0          37         1.0          37\n",
       "12       2.0          44         2.0          44\n",
       "13       2.0          51         2.0          51\n",
       "14       2.0          72         2.0          72\n",
       "15       1.0          19         1.0          19\n",
       "16       NaN           7         NaN           7"
      ]
     },
     "execution_count": 30,
     "metadata": {},
     "output_type": "execute_result"
    }
   ],
   "source": [
    "medical[[\"심장혈관흉부외과\", \"심장혈관흉부외과.1\", \"심장혈관흉부외과.2\", \"심장혈관흉부외과.3\"]]\n",
    "# 심장혈관흉부외과, 심장혈관흉부외과.2 동일\n",
    "# 심장혈관흉부외과.1, 심장혈관흉부외과.3 동일"
   ]
  },
  {
   "cell_type": "code",
   "execution_count": 31,
   "id": "56c467c7",
   "metadata": {
    "ExecuteTime": {
     "end_time": "2022-12-22T05:13:06.119320Z",
     "start_time": "2022-12-22T05:13:06.106320Z"
    }
   },
   "outputs": [],
   "source": [
    "medical.fillna(0, inplace=True)\n",
    "medical.drop([\"심장혈관흉부외과.2\", \"심장혈관흉부외과.3\"], axis=1, inplace=True)"
   ]
  },
  {
   "cell_type": "code",
   "execution_count": 32,
   "id": "ed2e5dde",
   "metadata": {
    "ExecuteTime": {
     "end_time": "2022-12-22T05:13:06.149208Z",
     "start_time": "2022-12-22T05:13:06.124273Z"
    }
   },
   "outputs": [
    {
     "data": {
      "text/plain": [
       "Index(['지역', '상급종합병원', '종합병원', '병원', '심장혈관흉부외과', '심장혈관흉부외과.1', '일반의', '전문의',\n",
       "       '간호사', '임상병리사', '일반병실', '일반병상', '중환병실', '중환병상', '구급차 (대)', '구급대원수'],\n",
       "      dtype='object')"
      ]
     },
     "execution_count": 32,
     "metadata": {},
     "output_type": "execute_result"
    }
   ],
   "source": [
    "medical.columns"
   ]
  },
  {
   "cell_type": "code",
   "execution_count": 33,
   "id": "32a95a81",
   "metadata": {
    "ExecuteTime": {
     "end_time": "2022-12-22T05:13:06.179127Z",
     "start_time": "2022-12-22T05:13:06.153197Z"
    }
   },
   "outputs": [],
   "source": [
    "medical.rename({\"심장혈관흉부외과\": \"심장혈관흉부외과의원\", \"심장혈관흉부외과.1\":\"심장혈관흉부외과전문의\"}, axis=1, inplace=True)"
   ]
  },
  {
   "cell_type": "markdown",
   "id": "0238c7fc",
   "metadata": {
    "ExecuteTime": {
     "end_time": "2022-12-22T05:07:12.644570Z",
     "start_time": "2022-12-22T05:07:12.634597Z"
    }
   },
   "source": [
    "### 구급대 현황 다시 "
   ]
  },
  {
   "cell_type": "code",
   "execution_count": 34,
   "id": "05bfe321",
   "metadata": {
    "ExecuteTime": {
     "end_time": "2022-12-22T05:13:06.240023Z",
     "start_time": "2022-12-22T05:13:06.184114Z"
    }
   },
   "outputs": [],
   "source": [
    "df = pd.read_excel(\"./rawdata/119_구급대_현황_20221220173712.xls\", skiprows=1)"
   ]
  },
  {
   "cell_type": "code",
   "execution_count": 35,
   "id": "74f30ba8",
   "metadata": {
    "ExecuteTime": {
     "end_time": "2022-12-22T05:13:06.299904Z",
     "start_time": "2022-12-22T05:13:06.255996Z"
    }
   },
   "outputs": [
    {
     "data": {
      "text/html": [
       "<div>\n",
       "<style scoped>\n",
       "    .dataframe tbody tr th:only-of-type {\n",
       "        vertical-align: middle;\n",
       "    }\n",
       "\n",
       "    .dataframe tbody tr th {\n",
       "        vertical-align: top;\n",
       "    }\n",
       "\n",
       "    .dataframe thead th {\n",
       "        text-align: right;\n",
       "    }\n",
       "</style>\n",
       "<table border=\"1\" class=\"dataframe\">\n",
       "  <thead>\n",
       "    <tr style=\"text-align: right;\">\n",
       "      <th></th>\n",
       "      <th>지역</th>\n",
       "      <th>구급차</th>\n",
       "      <th>구급대원</th>\n",
       "    </tr>\n",
       "  </thead>\n",
       "  <tbody>\n",
       "    <tr>\n",
       "      <th>0</th>\n",
       "      <td>서울특별시</td>\n",
       "      <td>177</td>\n",
       "      <td>1473</td>\n",
       "    </tr>\n",
       "    <tr>\n",
       "      <th>1</th>\n",
       "      <td>부산광역시</td>\n",
       "      <td>70</td>\n",
       "      <td>633</td>\n",
       "    </tr>\n",
       "    <tr>\n",
       "      <th>2</th>\n",
       "      <td>대구광역시</td>\n",
       "      <td>55</td>\n",
       "      <td>495</td>\n",
       "    </tr>\n",
       "    <tr>\n",
       "      <th>3</th>\n",
       "      <td>인천광역시</td>\n",
       "      <td>72</td>\n",
       "      <td>592</td>\n",
       "    </tr>\n",
       "    <tr>\n",
       "      <th>4</th>\n",
       "      <td>광주광역시</td>\n",
       "      <td>30</td>\n",
       "      <td>270</td>\n",
       "    </tr>\n",
       "    <tr>\n",
       "      <th>5</th>\n",
       "      <td>대전광역시</td>\n",
       "      <td>34</td>\n",
       "      <td>286</td>\n",
       "    </tr>\n",
       "    <tr>\n",
       "      <th>6</th>\n",
       "      <td>울산광역시</td>\n",
       "      <td>31</td>\n",
       "      <td>261</td>\n",
       "    </tr>\n",
       "    <tr>\n",
       "      <th>7</th>\n",
       "      <td>세종특별자치시</td>\n",
       "      <td>11</td>\n",
       "      <td>99</td>\n",
       "    </tr>\n",
       "    <tr>\n",
       "      <th>8</th>\n",
       "      <td>경기도</td>\n",
       "      <td>261</td>\n",
       "      <td>1896</td>\n",
       "    </tr>\n",
       "    <tr>\n",
       "      <th>9</th>\n",
       "      <td>강원도</td>\n",
       "      <td>128</td>\n",
       "      <td>1014</td>\n",
       "    </tr>\n",
       "    <tr>\n",
       "      <th>10</th>\n",
       "      <td>충청북도</td>\n",
       "      <td>68</td>\n",
       "      <td>612</td>\n",
       "    </tr>\n",
       "    <tr>\n",
       "      <th>11</th>\n",
       "      <td>충청남도</td>\n",
       "      <td>116</td>\n",
       "      <td>990</td>\n",
       "    </tr>\n",
       "    <tr>\n",
       "      <th>12</th>\n",
       "      <td>전라북도</td>\n",
       "      <td>99</td>\n",
       "      <td>891</td>\n",
       "    </tr>\n",
       "    <tr>\n",
       "      <th>13</th>\n",
       "      <td>전라남도</td>\n",
       "      <td>110</td>\n",
       "      <td>870</td>\n",
       "    </tr>\n",
       "    <tr>\n",
       "      <th>14</th>\n",
       "      <td>경상북도</td>\n",
       "      <td>146</td>\n",
       "      <td>1279</td>\n",
       "    </tr>\n",
       "    <tr>\n",
       "      <th>15</th>\n",
       "      <td>경상남도</td>\n",
       "      <td>139</td>\n",
       "      <td>1194</td>\n",
       "    </tr>\n",
       "    <tr>\n",
       "      <th>16</th>\n",
       "      <td>제주특별자치도</td>\n",
       "      <td>32</td>\n",
       "      <td>278</td>\n",
       "    </tr>\n",
       "  </tbody>\n",
       "</table>\n",
       "</div>"
      ],
      "text/plain": [
       "         지역  구급차  구급대원\n",
       "0     서울특별시  177  1473\n",
       "1     부산광역시   70   633\n",
       "2     대구광역시   55   495\n",
       "3     인천광역시   72   592\n",
       "4     광주광역시   30   270\n",
       "5     대전광역시   34   286\n",
       "6     울산광역시   31   261\n",
       "7   세종특별자치시   11    99\n",
       "8       경기도  261  1896\n",
       "9       강원도  128  1014\n",
       "10     충청북도   68   612\n",
       "11     충청남도  116   990\n",
       "12     전라북도   99   891\n",
       "13     전라남도  110   870\n",
       "14     경상북도  146  1279\n",
       "15     경상남도  139  1194\n",
       "16  제주특별자치도   32   278"
      ]
     },
     "execution_count": 35,
     "metadata": {},
     "output_type": "execute_result"
    }
   ],
   "source": [
    "temp = df[[\"본부별(1)\", \"운영구급차 (대)\", \"구급대원 (명)\"]].drop([0, 1, 2, 21, 22], axis=0)\n",
    "\n",
    "# 타입 변환\n",
    "temp[[\"운영구급차 (대)\", \"구급대원 (명)\"]] = temp[[\"운영구급차 (대)\", \"구급대원 (명)\"]].astype(\"int64\")\n",
    "\n",
    "# 컬럼명 변환\n",
    "temp.columns = [\"지역\", \"구급차\", \"구급대원\"]\n",
    "\n",
    "# reset index\n",
    "temp.reset_index(drop=True, inplace=True)\n",
    "\n",
    "# 창원 + 경남 -> 경남\n",
    "temp.iloc[15, 1:] = temp.iloc[15, 1:] + temp.iloc[17, 1:]\n",
    "temp.drop([17], axis=0, inplace=True)\n",
    "\n",
    "# 제주도 -> 제주특별자치도\n",
    "temp[\"지역\"].replace({\"제주도\": \"제주특별자치도\"}, inplace=True)\n",
    "\n",
    "temp"
   ]
  },
  {
   "cell_type": "code",
   "execution_count": 36,
   "id": "21276145",
   "metadata": {
    "ExecuteTime": {
     "end_time": "2022-12-22T05:13:06.314863Z",
     "start_time": "2022-12-22T05:13:06.303857Z"
    }
   },
   "outputs": [],
   "source": [
    "medical.drop(['구급차 (대)', '구급대원수'], axis=1, inplace=True)"
   ]
  },
  {
   "cell_type": "code",
   "execution_count": 37,
   "id": "e3d6f6ef",
   "metadata": {
    "ExecuteTime": {
     "end_time": "2022-12-22T05:13:06.345293Z",
     "start_time": "2022-12-22T05:13:06.318818Z"
    }
   },
   "outputs": [],
   "source": [
    "medical = pd.merge(left=medical, right=temp, on=\"지역\")"
   ]
  },
  {
   "cell_type": "markdown",
   "id": "159ba504",
   "metadata": {
    "ExecuteTime": {
     "end_time": "2022-12-22T05:07:54.283996Z",
     "start_time": "2022-12-22T05:07:54.275371Z"
    }
   },
   "source": [
    "### 확인 및 저장"
   ]
  },
  {
   "cell_type": "code",
   "execution_count": 38,
   "id": "65d78fee",
   "metadata": {
    "ExecuteTime": {
     "end_time": "2022-12-22T05:13:06.390171Z",
     "start_time": "2022-12-22T05:13:06.348284Z"
    },
    "scrolled": false
   },
   "outputs": [
    {
     "name": "stdout",
     "output_type": "stream",
     "text": [
      "      지역  상급종합병원  종합병원   병원  심장혈관흉부외과의원  심장혈관흉부외과전문의   일반의    전문의    간호사  \\\n",
      "0  서울특별시      14    42  222        57.0          305  1287  25109  58475   \n",
      "1  부산광역시       3    25  136        10.0           83   377   6966  19705   \n",
      "2  인천광역시       3    17   56         8.0           55   260   4433  12551   \n",
      "3  대구광역시       5    13   88         1.0           51   184   5060  13948   \n",
      "4  광주광역시       2    21   84         3.0           33   148   3092   9414   \n",
      "\n",
      "   임상병리사   일반병실   일반병상  중환병실  중환병상  구급차  구급대원  \n",
      "0   6831  13846  45730   250  2660  177  1473  \n",
      "1   1982   7646  24605    64   860   70   633  \n",
      "2   1343   3249  12248    47   610   72   592  \n",
      "3   1578   4580  16622    60   584   55   495  \n",
      "4    941   4427  13894    27   408   30   270  \n",
      "<class 'pandas.core.frame.DataFrame'>\n",
      "Int64Index: 17 entries, 0 to 16\n",
      "Data columns (total 16 columns):\n",
      " #   Column       Non-Null Count  Dtype  \n",
      "---  ------       --------------  -----  \n",
      " 0   지역           17 non-null     object \n",
      " 1   상급종합병원       17 non-null     int64  \n",
      " 2   종합병원         17 non-null     int64  \n",
      " 3   병원           17 non-null     int64  \n",
      " 4   심장혈관흉부외과의원   17 non-null     float64\n",
      " 5   심장혈관흉부외과전문의  17 non-null     int64  \n",
      " 6   일반의          17 non-null     int64  \n",
      " 7   전문의          17 non-null     int64  \n",
      " 8   간호사          17 non-null     int64  \n",
      " 9   임상병리사        17 non-null     int64  \n",
      " 10  일반병실         17 non-null     int64  \n",
      " 11  일반병상         17 non-null     int64  \n",
      " 12  중환병실         17 non-null     int64  \n",
      " 13  중환병상         17 non-null     int64  \n",
      " 14  구급차          17 non-null     int64  \n",
      " 15  구급대원         17 non-null     int64  \n",
      "dtypes: float64(1), int64(14), object(1)\n",
      "memory usage: 2.3+ KB\n",
      "None\n",
      "2     4\n",
      "1     4\n",
      "3     3\n",
      "0     3\n",
      "5     2\n",
      "14    1\n",
      "Name: 상급종합병원, dtype: int64\n",
      "********************\n",
      "1.0     4\n",
      "4.0     3\n",
      "2.0     3\n",
      "57.0    1\n",
      "10.0    1\n",
      "8.0     1\n",
      "3.0     1\n",
      "5.0     1\n",
      "9.0     1\n",
      "0.0     1\n",
      "Name: 심장혈관흉부외과의원, dtype: int64\n",
      "********************\n"
     ]
    }
   ],
   "source": [
    "check_dataframe(medical)"
   ]
  },
  {
   "cell_type": "code",
   "execution_count": 39,
   "id": "c59b6c00",
   "metadata": {
    "ExecuteTime": {
     "end_time": "2022-12-22T05:13:06.405132Z",
     "start_time": "2022-12-22T05:13:06.394162Z"
    }
   },
   "outputs": [],
   "source": [
    "medical.to_csv(\"./temp/medical.csv\", index=False, encoding=\"utf-8\")"
   ]
  },
  {
   "cell_type": "markdown",
   "id": "779921d0",
   "metadata": {
    "ExecuteTime": {
     "end_time": "2022-12-22T04:19:03.134789Z",
     "start_time": "2022-12-22T04:19:03.116840Z"
    }
   },
   "source": [
    "## 지역별 심장질환 + 의료수준"
   ]
  },
  {
   "cell_type": "code",
   "execution_count": 40,
   "id": "edfeb93c",
   "metadata": {
    "ExecuteTime": {
     "end_time": "2022-12-22T05:13:06.420091Z",
     "start_time": "2022-12-22T05:13:06.408123Z"
    }
   },
   "outputs": [],
   "source": [
    "region = pd.merge(left=regionheart, right=medical, on=\"지역\")"
   ]
  },
  {
   "cell_type": "code",
   "execution_count": 41,
   "id": "23fc11c8",
   "metadata": {
    "ExecuteTime": {
     "end_time": "2022-12-22T05:13:06.480456Z",
     "start_time": "2022-12-22T05:13:06.437064Z"
    }
   },
   "outputs": [
    {
     "name": "stdout",
     "output_type": "stream",
     "text": [
      "      지역      주민등록인구  심장질환사망자  심장장애  상급종합병원  종합병원   병원  심장혈관흉부외과의원  \\\n",
      "0    강원도   1538492.0   4900.0   121       2    13   37         1.0   \n",
      "1    경기도  13565450.0  25708.0  1295       5    62  277         9.0   \n",
      "2   경상남도   3314183.0  10312.0   268       3    23  134         2.0   \n",
      "3   경상북도   2626609.0   9880.0   311       0    20   55         2.0   \n",
      "4  광주광역시   1441611.0   2712.0   140       2    21   84         3.0   \n",
      "\n",
      "   심장혈관흉부외과전문의   일반의    전문의    간호사  임상병리사   일반병실   일반병상  중환병실  중환병상  구급차  구급대원  \n",
      "0           36   220   2211   6622    661   2398   8403    53   438  128  1014  \n",
      "1          209  1039  19686  46768   5526  13890  48092   226  2209  261  1896  \n",
      "2           72   420   4856  14959   1829   6636  22556    50   555  139  1194  \n",
      "3           51   404   3167  10143    988   7635  32155    49   495  146  1279  \n",
      "4           33   148   3092   9414    941   4427  13894    27   408   30   270  \n",
      "<class 'pandas.core.frame.DataFrame'>\n",
      "Int64Index: 17 entries, 0 to 16\n",
      "Data columns (total 19 columns):\n",
      " #   Column       Non-Null Count  Dtype  \n",
      "---  ------       --------------  -----  \n",
      " 0   지역           17 non-null     object \n",
      " 1   주민등록인구       17 non-null     float64\n",
      " 2   심장질환사망자      17 non-null     float64\n",
      " 3   심장장애         17 non-null     int64  \n",
      " 4   상급종합병원       17 non-null     int64  \n",
      " 5   종합병원         17 non-null     int64  \n",
      " 6   병원           17 non-null     int64  \n",
      " 7   심장혈관흉부외과의원   17 non-null     float64\n",
      " 8   심장혈관흉부외과전문의  17 non-null     int64  \n",
      " 9   일반의          17 non-null     int64  \n",
      " 10  전문의          17 non-null     int64  \n",
      " 11  간호사          17 non-null     int64  \n",
      " 12  임상병리사        17 non-null     int64  \n",
      " 13  일반병실         17 non-null     int64  \n",
      " 14  일반병상         17 non-null     int64  \n",
      " 15  중환병실         17 non-null     int64  \n",
      " 16  중환병상         17 non-null     int64  \n",
      " 17  구급차          17 non-null     int64  \n",
      " 18  구급대원         17 non-null     int64  \n",
      "dtypes: float64(3), int64(15), object(1)\n",
      "memory usage: 2.7+ KB\n",
      "None\n",
      "2     4\n",
      "1     4\n",
      "3     3\n",
      "0     3\n",
      "5     2\n",
      "14    1\n",
      "Name: 상급종합병원, dtype: int64\n",
      "********************\n",
      "1.0     4\n",
      "2.0     3\n",
      "4.0     3\n",
      "9.0     1\n",
      "3.0     1\n",
      "10.0    1\n",
      "57.0    1\n",
      "0.0     1\n",
      "5.0     1\n",
      "8.0     1\n",
      "Name: 심장혈관흉부외과의원, dtype: int64\n",
      "********************\n"
     ]
    }
   ],
   "source": [
    "check_dataframe(region)"
   ]
  },
  {
   "cell_type": "code",
   "execution_count": 42,
   "id": "0e664708",
   "metadata": {
    "ExecuteTime": {
     "end_time": "2022-12-22T05:13:06.511377Z",
     "start_time": "2022-12-22T05:13:06.490425Z"
    }
   },
   "outputs": [],
   "source": [
    "region.to_csv(\"../data/region.csv\", index=False, encoding=\"utf-8\")"
   ]
  }
 ],
 "metadata": {
  "kernelspec": {
   "display_name": "eduvenv",
   "language": "python",
   "name": "eduvenv"
  },
  "language_info": {
   "codemirror_mode": {
    "name": "ipython",
    "version": 3
   },
   "file_extension": ".py",
   "mimetype": "text/x-python",
   "name": "python",
   "nbconvert_exporter": "python",
   "pygments_lexer": "ipython3",
   "version": "3.9.15"
  },
  "varInspector": {
   "cols": {
    "lenName": 16,
    "lenType": 16,
    "lenVar": 40
   },
   "kernels_config": {
    "python": {
     "delete_cmd_postfix": "",
     "delete_cmd_prefix": "del ",
     "library": "var_list.py",
     "varRefreshCmd": "print(var_dic_list())"
    },
    "r": {
     "delete_cmd_postfix": ") ",
     "delete_cmd_prefix": "rm(",
     "library": "var_list.r",
     "varRefreshCmd": "cat(var_dic_list()) "
    }
   },
   "types_to_exclude": [
    "module",
    "function",
    "builtin_function_or_method",
    "instance",
    "_Feature"
   ],
   "window_display": false
  }
 },
 "nbformat": 4,
 "nbformat_minor": 5
}
