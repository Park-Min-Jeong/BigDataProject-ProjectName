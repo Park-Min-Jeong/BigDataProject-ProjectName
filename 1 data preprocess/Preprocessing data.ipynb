{
 "cells": [
  {
   "cell_type": "markdown",
   "id": "10cb0c0d",
   "metadata": {},
   "source": [
    "# 심장질환"
   ]
  },
  {
   "cell_type": "markdown",
   "id": "7c8b6122",
   "metadata": {
    "ExecuteTime": {
     "end_time": "2022-12-20T03:52:44.399285Z",
     "start_time": "2022-12-20T03:52:44.385254Z"
    }
   },
   "source": [
    "## 데이터 불러오기"
   ]
  },
  {
   "cell_type": "code",
   "execution_count": 2,
   "id": "a143e084",
   "metadata": {},
   "outputs": [
    {
     "data": {
      "text/plain": [
       "(438693, 14)"
      ]
     },
     "execution_count": 2,
     "metadata": {},
     "output_type": "execute_result"
    }
   ],
   "source": [
    "import pandas as pd\n",
    "import numpy as np\n",
    "df = pd.read_csv('./data/brfss.csv')\n",
    "df.shape"
   ]
  },
  {
   "cell_type": "markdown",
   "id": "d44c4033",
   "metadata": {},
   "source": [
    "## 데이터 전처리"
   ]
  },
  {
   "cell_type": "code",
   "execution_count": 390,
   "id": "1276585f-ffec-463d-8986-27be161d3411",
   "metadata": {},
   "outputs": [
    {
     "data": {
      "text/plain": [
       "HEARTDISEASE    float64\n",
       "SEX               int64\n",
       "HEIGHT          float64\n",
       "WEIGHT          float64\n",
       "BLIND           float64\n",
       "DEAF            float64\n",
       "DIABETE         float64\n",
       "CHOLESTEROL     float64\n",
       "HYPERTENSION    float64\n",
       "KIDNEY          float64\n",
       "LIVER1          float64\n",
       "LIVER2          float64\n",
       "ALCOHOL         float64\n",
       "SMOKE           float64\n",
       "dtype: object"
      ]
     },
     "execution_count": 390,
     "metadata": {},
     "output_type": "execute_result"
    }
   ],
   "source": [
    "df.dtypes #https://jimmy-ai.tistory.com/95"
   ]
  },
  {
   "cell_type": "code",
   "execution_count": 391,
   "id": "e87c5081-8e56-43fc-8631-b1f56a52be53",
   "metadata": {},
   "outputs": [
    {
     "data": {
      "text/html": [
       "<div>\n",
       "<style scoped>\n",
       "    .dataframe tbody tr th:only-of-type {\n",
       "        vertical-align: middle;\n",
       "    }\n",
       "\n",
       "    .dataframe tbody tr th {\n",
       "        vertical-align: top;\n",
       "    }\n",
       "\n",
       "    .dataframe thead th {\n",
       "        text-align: right;\n",
       "    }\n",
       "</style>\n",
       "<table border=\"1\" class=\"dataframe\">\n",
       "  <thead>\n",
       "    <tr style=\"text-align: right;\">\n",
       "      <th></th>\n",
       "      <th>HEARTDISEASE</th>\n",
       "      <th>SEX</th>\n",
       "      <th>HEIGHT</th>\n",
       "      <th>WEIGHT</th>\n",
       "      <th>BLIND</th>\n",
       "      <th>DEAF</th>\n",
       "      <th>DIABETE</th>\n",
       "      <th>CHOLESTEROL</th>\n",
       "      <th>HYPERTENSION</th>\n",
       "      <th>KIDNEY</th>\n",
       "      <th>LIVER1</th>\n",
       "      <th>LIVER2</th>\n",
       "      <th>ALCOHOL</th>\n",
       "      <th>SMOKE</th>\n",
       "    </tr>\n",
       "  </thead>\n",
       "  <tbody>\n",
       "    <tr>\n",
       "      <th>0</th>\n",
       "      <td>2.0</td>\n",
       "      <td>2</td>\n",
       "      <td>411.0</td>\n",
       "      <td>72.0</td>\n",
       "      <td>2.0</td>\n",
       "      <td>2.0</td>\n",
       "      <td>3.0</td>\n",
       "      <td>1.0</td>\n",
       "      <td>3.0</td>\n",
       "      <td>2.0</td>\n",
       "      <td>NaN</td>\n",
       "      <td>NaN</td>\n",
       "      <td>888.0</td>\n",
       "      <td>1.0</td>\n",
       "    </tr>\n",
       "    <tr>\n",
       "      <th>1</th>\n",
       "      <td>2.0</td>\n",
       "      <td>2</td>\n",
       "      <td>506.0</td>\n",
       "      <td>7777.0</td>\n",
       "      <td>1.0</td>\n",
       "      <td>2.0</td>\n",
       "      <td>1.0</td>\n",
       "      <td>1.0</td>\n",
       "      <td>1.0</td>\n",
       "      <td>1.0</td>\n",
       "      <td>NaN</td>\n",
       "      <td>NaN</td>\n",
       "      <td>888.0</td>\n",
       "      <td>2.0</td>\n",
       "    </tr>\n",
       "    <tr>\n",
       "      <th>2</th>\n",
       "      <td>2.0</td>\n",
       "      <td>2</td>\n",
       "      <td>505.0</td>\n",
       "      <td>170.0</td>\n",
       "      <td>2.0</td>\n",
       "      <td>2.0</td>\n",
       "      <td>1.0</td>\n",
       "      <td>2.0</td>\n",
       "      <td>1.0</td>\n",
       "      <td>2.0</td>\n",
       "      <td>NaN</td>\n",
       "      <td>NaN</td>\n",
       "      <td>888.0</td>\n",
       "      <td>2.0</td>\n",
       "    </tr>\n",
       "    <tr>\n",
       "      <th>3</th>\n",
       "      <td>2.0</td>\n",
       "      <td>2</td>\n",
       "      <td>504.0</td>\n",
       "      <td>195.0</td>\n",
       "      <td>2.0</td>\n",
       "      <td>2.0</td>\n",
       "      <td>1.0</td>\n",
       "      <td>1.0</td>\n",
       "      <td>1.0</td>\n",
       "      <td>2.0</td>\n",
       "      <td>NaN</td>\n",
       "      <td>NaN</td>\n",
       "      <td>101.0</td>\n",
       "      <td>2.0</td>\n",
       "    </tr>\n",
       "    <tr>\n",
       "      <th>4</th>\n",
       "      <td>1.0</td>\n",
       "      <td>1</td>\n",
       "      <td>511.0</td>\n",
       "      <td>206.0</td>\n",
       "      <td>2.0</td>\n",
       "      <td>1.0</td>\n",
       "      <td>1.0</td>\n",
       "      <td>1.0</td>\n",
       "      <td>4.0</td>\n",
       "      <td>2.0</td>\n",
       "      <td>NaN</td>\n",
       "      <td>NaN</td>\n",
       "      <td>888.0</td>\n",
       "      <td>2.0</td>\n",
       "    </tr>\n",
       "  </tbody>\n",
       "</table>\n",
       "</div>"
      ],
      "text/plain": [
       "   HEARTDISEASE  SEX  HEIGHT  WEIGHT  BLIND  DEAF  DIABETE  CHOLESTEROL  \\\n",
       "0           2.0    2   411.0    72.0    2.0   2.0      3.0          1.0   \n",
       "1           2.0    2   506.0  7777.0    1.0   2.0      1.0          1.0   \n",
       "2           2.0    2   505.0   170.0    2.0   2.0      1.0          2.0   \n",
       "3           2.0    2   504.0   195.0    2.0   2.0      1.0          1.0   \n",
       "4           1.0    1   511.0   206.0    2.0   1.0      1.0          1.0   \n",
       "\n",
       "   HYPERTENSION  KIDNEY  LIVER1  LIVER2  ALCOHOL  SMOKE  \n",
       "0           3.0     2.0     NaN     NaN    888.0    1.0  \n",
       "1           1.0     1.0     NaN     NaN    888.0    2.0  \n",
       "2           1.0     2.0     NaN     NaN    888.0    2.0  \n",
       "3           1.0     2.0     NaN     NaN    101.0    2.0  \n",
       "4           4.0     2.0     NaN     NaN    888.0    2.0  "
      ]
     },
     "metadata": {},
     "output_type": "display_data"
    },
    {
     "data": {
      "text/html": [
       "<div>\n",
       "<style scoped>\n",
       "    .dataframe tbody tr th:only-of-type {\n",
       "        vertical-align: middle;\n",
       "    }\n",
       "\n",
       "    .dataframe tbody tr th {\n",
       "        vertical-align: top;\n",
       "    }\n",
       "\n",
       "    .dataframe thead th {\n",
       "        text-align: right;\n",
       "    }\n",
       "</style>\n",
       "<table border=\"1\" class=\"dataframe\">\n",
       "  <thead>\n",
       "    <tr style=\"text-align: right;\">\n",
       "      <th></th>\n",
       "      <th>HEARTDISEASE</th>\n",
       "      <th>SEX</th>\n",
       "      <th>HEIGHT</th>\n",
       "      <th>WEIGHT</th>\n",
       "      <th>BLIND</th>\n",
       "      <th>DEAF</th>\n",
       "      <th>DIABETE</th>\n",
       "      <th>CHOLESTEROL</th>\n",
       "      <th>HYPERTENSION</th>\n",
       "      <th>KIDNEY</th>\n",
       "      <th>LIVER1</th>\n",
       "      <th>LIVER2</th>\n",
       "      <th>ALCOHOL</th>\n",
       "      <th>SMOKE</th>\n",
       "    </tr>\n",
       "  </thead>\n",
       "  <tbody>\n",
       "    <tr>\n",
       "      <th>438688</th>\n",
       "      <td>2.0</td>\n",
       "      <td>2</td>\n",
       "      <td>502.0</td>\n",
       "      <td>135.0</td>\n",
       "      <td>2.0</td>\n",
       "      <td>2.0</td>\n",
       "      <td>2.0</td>\n",
       "      <td>2.0</td>\n",
       "      <td>1.0</td>\n",
       "      <td>2.0</td>\n",
       "      <td>NaN</td>\n",
       "      <td>NaN</td>\n",
       "      <td>204.0</td>\n",
       "      <td>1.0</td>\n",
       "    </tr>\n",
       "    <tr>\n",
       "      <th>438689</th>\n",
       "      <td>2.0</td>\n",
       "      <td>1</td>\n",
       "      <td>502.0</td>\n",
       "      <td>9999.0</td>\n",
       "      <td>1.0</td>\n",
       "      <td>2.0</td>\n",
       "      <td>1.0</td>\n",
       "      <td>2.0</td>\n",
       "      <td>1.0</td>\n",
       "      <td>2.0</td>\n",
       "      <td>NaN</td>\n",
       "      <td>NaN</td>\n",
       "      <td>888.0</td>\n",
       "      <td>2.0</td>\n",
       "    </tr>\n",
       "    <tr>\n",
       "      <th>438690</th>\n",
       "      <td>2.0</td>\n",
       "      <td>1</td>\n",
       "      <td>511.0</td>\n",
       "      <td>220.0</td>\n",
       "      <td>2.0</td>\n",
       "      <td>2.0</td>\n",
       "      <td>3.0</td>\n",
       "      <td>1.0</td>\n",
       "      <td>3.0</td>\n",
       "      <td>2.0</td>\n",
       "      <td>NaN</td>\n",
       "      <td>NaN</td>\n",
       "      <td>210.0</td>\n",
       "      <td>2.0</td>\n",
       "    </tr>\n",
       "    <tr>\n",
       "      <th>438691</th>\n",
       "      <td>2.0</td>\n",
       "      <td>1</td>\n",
       "      <td>600.0</td>\n",
       "      <td>175.0</td>\n",
       "      <td>2.0</td>\n",
       "      <td>2.0</td>\n",
       "      <td>3.0</td>\n",
       "      <td>2.0</td>\n",
       "      <td>1.0</td>\n",
       "      <td>2.0</td>\n",
       "      <td>NaN</td>\n",
       "      <td>NaN</td>\n",
       "      <td>203.0</td>\n",
       "      <td>2.0</td>\n",
       "    </tr>\n",
       "    <tr>\n",
       "      <th>438692</th>\n",
       "      <td>2.0</td>\n",
       "      <td>2</td>\n",
       "      <td>503.0</td>\n",
       "      <td>179.0</td>\n",
       "      <td>2.0</td>\n",
       "      <td>2.0</td>\n",
       "      <td>3.0</td>\n",
       "      <td>1.0</td>\n",
       "      <td>3.0</td>\n",
       "      <td>2.0</td>\n",
       "      <td>NaN</td>\n",
       "      <td>NaN</td>\n",
       "      <td>201.0</td>\n",
       "      <td>2.0</td>\n",
       "    </tr>\n",
       "  </tbody>\n",
       "</table>\n",
       "</div>"
      ],
      "text/plain": [
       "        HEARTDISEASE  SEX  HEIGHT  WEIGHT  BLIND  DEAF  DIABETE  CHOLESTEROL  \\\n",
       "438688           2.0    2   502.0   135.0    2.0   2.0      2.0          2.0   \n",
       "438689           2.0    1   502.0  9999.0    1.0   2.0      1.0          2.0   \n",
       "438690           2.0    1   511.0   220.0    2.0   2.0      3.0          1.0   \n",
       "438691           2.0    1   600.0   175.0    2.0   2.0      3.0          2.0   \n",
       "438692           2.0    2   503.0   179.0    2.0   2.0      3.0          1.0   \n",
       "\n",
       "        HYPERTENSION  KIDNEY  LIVER1  LIVER2  ALCOHOL  SMOKE  \n",
       "438688           1.0     2.0     NaN     NaN    204.0    1.0  \n",
       "438689           1.0     2.0     NaN     NaN    888.0    2.0  \n",
       "438690           3.0     2.0     NaN     NaN    210.0    2.0  \n",
       "438691           1.0     2.0     NaN     NaN    203.0    2.0  \n",
       "438692           3.0     2.0     NaN     NaN    201.0    2.0  "
      ]
     },
     "metadata": {},
     "output_type": "display_data"
    }
   ],
   "source": [
    "display(df.head())\n",
    "display(df.tail())"
   ]
  },
  {
   "cell_type": "markdown",
   "id": "c6d51754-9ee1-4176-af8c-6024ef472b3f",
   "metadata": {},
   "source": [
    "### 성별값 1, 2를 M, F로 변환"
   ]
  },
  {
   "cell_type": "code",
   "execution_count": 392,
   "id": "72b96a2b-099f-48bc-a891-bd60fd2fba91",
   "metadata": {},
   "outputs": [
    {
     "data": {
      "text/plain": [
       "array([2, 1], dtype=int64)"
      ]
     },
     "execution_count": 392,
     "metadata": {},
     "output_type": "execute_result"
    }
   ],
   "source": [
    "df['SEX'].unique()"
   ]
  },
  {
   "cell_type": "code",
   "execution_count": 393,
   "id": "e4b93802-f486-4461-ba0d-19f8d3b4bcb0",
   "metadata": {},
   "outputs": [
    {
     "data": {
      "text/plain": [
       "array(['F', 'M'], dtype=object)"
      ]
     },
     "execution_count": 393,
     "metadata": {},
     "output_type": "execute_result"
    }
   ],
   "source": [
    "type = {1:'M', 2:'F'} #1은 'M'으로, 2는 'F'로 변경\n",
    "df['SEX'].replace(type, inplace=True) #inplace=True로 원본객체 변경\n",
    "df['SEX'].unique()"
   ]
  },
  {
   "cell_type": "markdown",
   "id": "d5e76714-0b92-486c-8bf0-46ceddb19da9",
   "metadata": {},
   "source": [
    "### 키(HEIGHT)열의 원소들 피트, 인치값을 cm값으로 모두 변환"
   ]
  },
  {
   "cell_type": "markdown",
   "id": "eaf7cc4d-a908-4663-b613-b6cb10af5164",
   "metadata": {},
   "source": [
    "#### 심장질환데이터(brfss.csv)에서는 3자리수대가 100의 자리가 feet, 10과 1의 자리가 inch / 9061~9998은 cm단위 / 7777은 모르거나 확신하지 못함 / 9999는 답변을 거부 / NAN은 묻지 않았거나 데이터가 소실되었다는 뜻)"
   ]
  },
  {
   "cell_type": "code",
   "execution_count": 394,
   "id": "69c991c9-374f-472b-a8da-acd4837e18d5",
   "metadata": {},
   "outputs": [],
   "source": [
    "#df['HEIGHT'] = df['HEIGHT'].astype(int)"
   ]
  },
  {
   "cell_type": "code",
   "execution_count": 395,
   "id": "32ae3f6d-9cea-4827-8ae5-459c9d1b4a45",
   "metadata": {},
   "outputs": [
    {
     "name": "stdout",
     "output_type": "stream",
     "text": [
      "12959\n"
     ]
    }
   ],
   "source": [
    "print(df['HEIGHT'].isnull().sum()) #결측치 개수 확인"
   ]
  },
  {
   "cell_type": "code",
   "execution_count": 396,
   "id": "bc3a1bc2-48ca-4b62-84c1-80f636765d65",
   "metadata": {},
   "outputs": [
    {
     "data": {
      "text/plain": [
       "array([ 411.,  506.,  505.,  504.,  511.,  603.,  600.,  509.,  503.,\n",
       "        410.,  510.,  500.,  502.,   nan,  602.,  601.,  507., 9999.,\n",
       "        508.,  501.,  604.,  605., 7777.,  609.,  606.,  409.,  407.,\n",
       "        405.,  408.,  607.,  702.,  401.,  608.,  406.,  400., 9180.,\n",
       "       9155.,  701.,  704., 9182.,  611.,  311.,  706., 9151., 9152.,\n",
       "       9160., 9177., 9164., 9162., 9156., 9165., 9150., 9178., 9190.,\n",
       "       9175., 9170., 9185., 9183., 9153., 9169., 9168., 9167., 9172.,\n",
       "       9166., 9140., 9106., 9143., 9171., 9154., 9176., 9200., 9188.,\n",
       "       9146., 9148., 9158., 9159., 9187.,  305.,  300., 9205.,  306.,\n",
       "       9206., 9173., 9120.,  705.,  700.,  302., 9157., 9184., 9163.,\n",
       "       9174., 9125.,  402.,  708.,  403.,  308.,  404., 9105.,  703.,\n",
       "       9145., 9181., 9186.,  711.,  610., 9149., 9138., 9195., 9096.,\n",
       "       9103., 9135., 9197., 9189., 9090., 9161., 9198., 9136., 9118.,\n",
       "        301., 9134., 9144., 9147., 9179.,  310.,  307., 9127., 9192.,\n",
       "        309., 9100., 9130., 9194., 9132., 9117.,  304.,  303., 9108.,\n",
       "       9139., 9104., 9204., 9107., 9102., 9110., 9115., 9199.])"
      ]
     },
     "execution_count": 396,
     "metadata": {},
     "output_type": "execute_result"
    }
   ],
   "source": [
    "df['HEIGHT'].unique()"
   ]
  },
  {
   "cell_type": "code",
   "execution_count": 397,
   "id": "254ef1d0",
   "metadata": {},
   "outputs": [
    {
     "name": "stdout",
     "output_type": "stream",
     "text": [
      "0    411.0\n",
      "1    506.0\n",
      "2    505.0\n",
      "3    504.0\n",
      "4    511.0\n",
      "Name: HEIGHT, dtype: float64\n",
      "438688    502.0\n",
      "438689    502.0\n",
      "438690    511.0\n",
      "438691    600.0\n",
      "438692    503.0\n",
      "Name: HEIGHT, dtype: float64\n"
     ]
    }
   ],
   "source": [
    "print(df['HEIGHT'].head())\n",
    "print(df['HEIGHT'].tail())"
   ]
  },
  {
   "cell_type": "code",
   "execution_count": 398,
   "id": "768b3ba4-41d8-4336-87cd-d1befb11c8cd",
   "metadata": {},
   "outputs": [
    {
     "name": "stdout",
     "output_type": "stream",
     "text": [
      "0         False\n",
      "1         False\n",
      "2         False\n",
      "3         False\n",
      "4         False\n",
      "          ...  \n",
      "438688    False\n",
      "438689    False\n",
      "438690    False\n",
      "438691    False\n",
      "438692    False\n",
      "Name: HEIGHT, Length: 438693, dtype: bool\n"
     ]
    }
   ],
   "source": [
    "index_number = df['HEIGHT'] == 7777 #index_number는 True나 False\n",
    "print(index_number)"
   ]
  },
  {
   "cell_type": "code",
   "execution_count": 399,
   "id": "0bc8adac-0b1a-44b5-8bcf-dda82c6a6c7f",
   "metadata": {},
   "outputs": [
    {
     "data": {
      "text/plain": [
       "217       7777.0\n",
       "423       7777.0\n",
       "455       7777.0\n",
       "620       7777.0\n",
       "630       7777.0\n",
       "           ...  \n",
       "438420    7777.0\n",
       "438430    7777.0\n",
       "438467    7777.0\n",
       "438473    7777.0\n",
       "438531    7777.0\n",
       "Name: HEIGHT, Length: 4094, dtype: float64"
      ]
     },
     "execution_count": 399,
     "metadata": {},
     "output_type": "execute_result"
    }
   ],
   "source": [
    "df.HEIGHT[index_number] #index_number가 True인 경우 출력"
   ]
  },
  {
   "cell_type": "code",
   "execution_count": 400,
   "id": "b8173bfa-a8e9-4f95-bd1e-acf847296528",
   "metadata": {},
   "outputs": [
    {
     "name": "stderr",
     "output_type": "stream",
     "text": [
      "C:\\Users\\sdh\\AppData\\Local\\Temp\\ipykernel_21948\\2572194359.py:1: SettingWithCopyWarning: \n",
      "A value is trying to be set on a copy of a slice from a DataFrame\n",
      "\n",
      "See the caveats in the documentation: https://pandas.pydata.org/pandas-docs/stable/user_guide/indexing.html#returning-a-view-versus-a-copy\n",
      "  df.HEIGHT[index_number] = np.nan\n"
     ]
    },
    {
     "data": {
      "text/plain": [
       "217      NaN\n",
       "423      NaN\n",
       "455      NaN\n",
       "620      NaN\n",
       "630      NaN\n",
       "          ..\n",
       "438420   NaN\n",
       "438430   NaN\n",
       "438467   NaN\n",
       "438473   NaN\n",
       "438531   NaN\n",
       "Name: HEIGHT, Length: 4094, dtype: float64"
      ]
     },
     "execution_count": 400,
     "metadata": {},
     "output_type": "execute_result"
    }
   ],
   "source": [
    "df.HEIGHT[index_number] = np.nan\n",
    "df.HEIGHT[index_number]"
   ]
  },
  {
   "cell_type": "code",
   "execution_count": 401,
   "id": "fadc93c3-0e8a-4045-a62f-afe9d086cc06",
   "metadata": {},
   "outputs": [
    {
     "data": {
      "text/plain": [
       "51        9999.0\n",
       "90        9999.0\n",
       "329       9999.0\n",
       "382       9999.0\n",
       "734       9999.0\n",
       "           ...  \n",
       "438194    9999.0\n",
       "438254    9999.0\n",
       "438425    9999.0\n",
       "438479    9999.0\n",
       "438594    9999.0\n",
       "Name: HEIGHT, Length: 7506, dtype: float64"
      ]
     },
     "execution_count": 401,
     "metadata": {},
     "output_type": "execute_result"
    }
   ],
   "source": [
    "df.HEIGHT[df['HEIGHT'] == 9999] #값이 9999인 경우 출력"
   ]
  },
  {
   "cell_type": "code",
   "execution_count": 402,
   "id": "572b23c1-72ea-46eb-affa-54bef887a0d0",
   "metadata": {},
   "outputs": [
    {
     "name": "stdout",
     "output_type": "stream",
     "text": [
      "[ 411.  506.  505.  504.  511.  603.  600.  509.  503.  410.  510.  500.\n",
      "  502.   nan  602.  601.  507.  508.  501.  604.  605.  609.  606.  409.\n",
      "  407.  405.  408.  607.  702.  401.  608.  406.  400. 9180. 9155.  701.\n",
      "  704. 9182.  611.  311.  706. 9151. 9152. 9160. 9177. 9164. 9162. 9156.\n",
      " 9165. 9150. 9178. 9190. 9175. 9170. 9185. 9183. 9153. 9169. 9168. 9167.\n",
      " 9172. 9166. 9140. 9106. 9143. 9171. 9154. 9176. 9200. 9188. 9146. 9148.\n",
      " 9158. 9159. 9187.  305.  300. 9205.  306. 9206. 9173. 9120.  705.  700.\n",
      "  302. 9157. 9184. 9163. 9174. 9125.  402.  708.  403.  308.  404. 9105.\n",
      "  703. 9145. 9181. 9186.  711.  610. 9149. 9138. 9195. 9096. 9103. 9135.\n",
      " 9197. 9189. 9090. 9161. 9198. 9136. 9118.  301. 9134. 9144. 9147. 9179.\n",
      "  310.  307. 9127. 9192.  309. 9100. 9130. 9194. 9132. 9117.  304.  303.\n",
      " 9108. 9139. 9104. 9204. 9107. 9102. 9110. 9115. 9199.]\n"
     ]
    },
    {
     "name": "stderr",
     "output_type": "stream",
     "text": [
      "C:\\Users\\sdh\\AppData\\Local\\Temp\\ipykernel_21948\\2084706850.py:1: SettingWithCopyWarning: \n",
      "A value is trying to be set on a copy of a slice from a DataFrame\n",
      "\n",
      "See the caveats in the documentation: https://pandas.pydata.org/pandas-docs/stable/user_guide/indexing.html#returning-a-view-versus-a-copy\n",
      "  df.HEIGHT[df['HEIGHT'] == 9999] = np.nan #replace()로도 가능\n"
     ]
    }
   ],
   "source": [
    "df.HEIGHT[df['HEIGHT'] == 9999] = np.nan #replace()로도 가능\n",
    "print(df['HEIGHT'].unique())"
   ]
  },
  {
   "cell_type": "code",
   "execution_count": 403,
   "id": "1f343759-5019-49e9-b018-3b1a94a9a249",
   "metadata": {},
   "outputs": [
    {
     "data": {
      "text/plain": [
       "0         True\n",
       "1         True\n",
       "2         True\n",
       "3         True\n",
       "4         True\n",
       "          ... \n",
       "438688    True\n",
       "438689    True\n",
       "438690    True\n",
       "438691    True\n",
       "438692    True\n",
       "Name: HEIGHT, Length: 438693, dtype: bool"
      ]
     },
     "execution_count": 403,
     "metadata": {},
     "output_type": "execute_result"
    }
   ],
   "source": [
    "index_number = df['HEIGHT'] < 1000 #피트와 인치법으로 키를 측정한 사람들인지 아닌지(True면 피트와 인치법)\n",
    "index_number"
   ]
  },
  {
   "cell_type": "code",
   "execution_count": 404,
   "id": "15400e66-03d2-47a9-b653-a4809017f035",
   "metadata": {},
   "outputs": [
    {
     "data": {
      "text/plain": [
       "0         4.0\n",
       "1         5.0\n",
       "2         5.0\n",
       "3         5.0\n",
       "4         5.0\n",
       "         ... \n",
       "438688    5.0\n",
       "438689    5.0\n",
       "438690    5.0\n",
       "438691    6.0\n",
       "438692    5.0\n",
       "Name: HEIGHT, Length: 411543, dtype: float64"
      ]
     },
     "execution_count": 404,
     "metadata": {},
     "output_type": "execute_result"
    }
   ],
   "source": [
    "ft = df.HEIGHT[index_number]//100 #앞에 한 자리는 피트 값\n",
    "ft"
   ]
  },
  {
   "cell_type": "code",
   "execution_count": 405,
   "id": "0685dffc-fd29-43de-838a-a0a1bb27545c",
   "metadata": {},
   "outputs": [
    {
     "data": {
      "text/plain": [
       "0         11.0\n",
       "1          6.0\n",
       "2          5.0\n",
       "3          4.0\n",
       "4         11.0\n",
       "          ... \n",
       "438688     2.0\n",
       "438689     2.0\n",
       "438690    11.0\n",
       "438691     0.0\n",
       "438692     3.0\n",
       "Name: HEIGHT, Length: 411543, dtype: float64"
      ]
     },
     "execution_count": 405,
     "metadata": {},
     "output_type": "execute_result"
    }
   ],
   "source": [
    "inch = df.HEIGHT[index_number]%100 #뒤에 두 자리는 인치값\n",
    "inch"
   ]
  },
  {
   "cell_type": "code",
   "execution_count": 406,
   "id": "bb1ba142-7992-4a9e-b847-76b44d3fb750",
   "metadata": {},
   "outputs": [
    {
     "name": "stdout",
     "output_type": "stream",
     "text": [
      "0         149.86\n",
      "1         167.64\n",
      "2         165.10\n",
      "3         162.56\n",
      "4         180.34\n",
      "           ...  \n",
      "438688    157.48\n",
      "438689    157.48\n",
      "438690    180.34\n",
      "438691    182.88\n",
      "438692    160.02\n",
      "Name: HEIGHT, Length: 438693, dtype: float64\n"
     ]
    },
    {
     "name": "stderr",
     "output_type": "stream",
     "text": [
      "C:\\Users\\sdh\\AppData\\Local\\Temp\\ipykernel_21948\\245011458.py:1: SettingWithCopyWarning: \n",
      "A value is trying to be set on a copy of a slice from a DataFrame\n",
      "\n",
      "See the caveats in the documentation: https://pandas.pydata.org/pandas-docs/stable/user_guide/indexing.html#returning-a-view-versus-a-copy\n",
      "  df.HEIGHT[index_number] = ft*30.48+inch*2.54 #피트와 인치를 cm값으로 변경 #https://www.rapidtables.org/ko/convert/length/feet-inch-to-cm.html\n"
     ]
    }
   ],
   "source": [
    "df.HEIGHT[index_number] = ft*30.48+inch*2.54 #피트와 인치를 cm값으로 변경 #https://www.rapidtables.org/ko/convert/length/feet-inch-to-cm.html\n",
    "print(df['HEIGHT'])"
   ]
  },
  {
   "cell_type": "code",
   "execution_count": 407,
   "id": "968b99f3-ff5f-42a0-a52f-6d5ca333b1f6",
   "metadata": {},
   "outputs": [
    {
     "data": {
      "text/plain": [
       "0         False\n",
       "1         False\n",
       "2         False\n",
       "3         False\n",
       "4         False\n",
       "          ...  \n",
       "438688    False\n",
       "438689    False\n",
       "438690    False\n",
       "438691    False\n",
       "438692    False\n",
       "Name: HEIGHT, Length: 438693, dtype: bool"
      ]
     },
     "execution_count": 407,
     "metadata": {},
     "output_type": "execute_result"
    }
   ],
   "source": [
    "index_number = df['HEIGHT'] > 9000 #남은 4자리 수는 cm법으로 키를 표기한 사람들.(9061~9998)\n",
    "index_number"
   ]
  },
  {
   "cell_type": "code",
   "execution_count": 408,
   "id": "aced6314-77da-4edf-b9e6-2199677cdf88",
   "metadata": {},
   "outputs": [
    {
     "data": {
      "text/plain": [
       "3814      180.0\n",
       "3999      155.0\n",
       "5338      182.0\n",
       "10642     180.0\n",
       "10858     151.0\n",
       "          ...  \n",
       "431886    164.0\n",
       "432322    161.0\n",
       "432843    177.0\n",
       "433192    167.0\n",
       "435887    152.0\n",
       "Name: HEIGHT, Length: 2591, dtype: float64"
      ]
     },
     "execution_count": 408,
     "metadata": {},
     "output_type": "execute_result"
    }
   ],
   "source": [
    "cm = df.HEIGHT[index_number]%9000 #맨 앞의 9는 metric value라는 뜻으로 붙인 것이므로 빼고 계산\n",
    "cm"
   ]
  },
  {
   "cell_type": "code",
   "execution_count": 409,
   "id": "1a16bf29-cc54-4cc0-81ed-bfe4ab899ac4",
   "metadata": {},
   "outputs": [
    {
     "name": "stderr",
     "output_type": "stream",
     "text": [
      "C:\\Users\\sdh\\AppData\\Local\\Temp\\ipykernel_21948\\2909654864.py:1: SettingWithCopyWarning: \n",
      "A value is trying to be set on a copy of a slice from a DataFrame\n",
      "\n",
      "See the caveats in the documentation: https://pandas.pydata.org/pandas-docs/stable/user_guide/indexing.html#returning-a-view-versus-a-copy\n",
      "  df.HEIGHT[index_number] = cm\n"
     ]
    }
   ],
   "source": [
    "df.HEIGHT[index_number] = cm"
   ]
  },
  {
   "cell_type": "code",
   "execution_count": 410,
   "id": "0e9363f5-1fd4-4b6f-9848-dab04c04ba23",
   "metadata": {},
   "outputs": [
    {
     "name": "stdout",
     "output_type": "stream",
     "text": [
      "[149.86 167.64 165.1  162.56 180.34 190.5  182.88 175.26 160.02 147.32\n",
      " 177.8  152.4  157.48    nan 187.96 185.42 170.18 172.72 154.94 193.04\n",
      " 195.58 205.74 198.12 144.78 139.7  134.62 142.24 200.66 218.44 124.46\n",
      " 203.2  137.16 121.92 180.   155.   215.9  223.52 182.   210.82 119.38\n",
      " 228.6  151.   152.   160.   177.   164.   162.   156.   165.   150.\n",
      " 178.   190.   175.   170.   185.   183.   153.   169.   168.   167.\n",
      " 172.   166.   140.   106.   143.   171.   154.   176.   200.   188.\n",
      " 146.   148.   158.   159.   187.   104.14  91.44 205.   106.68 206.\n",
      " 173.   120.   226.06 213.36  96.52 157.   184.   163.   174.   125.\n",
      " 127.   233.68 129.54 111.76 132.08 105.   220.98 145.   181.   186.\n",
      " 241.3  208.28 149.   138.   195.    96.   103.   135.   197.   189.\n",
      "  90.   161.   198.   136.   118.    93.98 134.   144.   147.   179.\n",
      " 116.84 109.22 192.   114.3  100.   130.   194.   132.   117.   101.6\n",
      "  99.06 108.   139.   104.   204.   107.   102.   110.   115.   199.  ]\n"
     ]
    }
   ],
   "source": [
    "print(df['HEIGHT'].unique())"
   ]
  },
  {
   "cell_type": "code",
   "execution_count": 411,
   "id": "598e7d1a-776e-4fbb-91a3-7fc1cff86977",
   "metadata": {},
   "outputs": [
    {
     "name": "stdout",
     "output_type": "stream",
     "text": [
      "0    149.86\n",
      "1    167.64\n",
      "2    165.10\n",
      "3    162.56\n",
      "4    180.34\n",
      "Name: HEIGHT, dtype: float64\n",
      "438688    157.48\n",
      "438689    157.48\n",
      "438690    180.34\n",
      "438691    182.88\n",
      "438692    160.02\n",
      "Name: HEIGHT, dtype: float64\n"
     ]
    }
   ],
   "source": [
    "print(df['HEIGHT'].head())\n",
    "print(df['HEIGHT'].tail())"
   ]
  },
  {
   "cell_type": "markdown",
   "id": "119abc1b-f2e0-4703-a7fe-d9057ee7deab",
   "metadata": {},
   "source": [
    "### 몸무게(WEIGHT)열 값들 파운드에서 kg으로 모두 변환"
   ]
  },
  {
   "cell_type": "markdown",
   "id": "d89a2611-c60e-4f83-ad7c-0784a8c53530",
   "metadata": {},
   "source": [
    "#### 심장질환데이터(brfss.csv)에서는 3자리수대가 파운드 / 9023~9352은 kg / 7777은 모르거나 확신하지 못함 / 9999는 답변을 거부 / NAN은 묻지 않았거나 데이터가 소실되었다는 뜻)"
   ]
  },
  {
   "cell_type": "code",
   "execution_count": 412,
   "id": "bacb7261-1a09-4629-8582-fa0d3da1b316",
   "metadata": {},
   "outputs": [
    {
     "data": {
      "text/plain": [
       "array([  72., 7777.,  170.,  195.,  206.,  340.,  154.,  240.,  160.,\n",
       "        134.,  202.,  165., 9999.,  104.,  162.,  200.,  185.,  150.,\n",
       "        250.,  115.,  256.,  220.,  180.,  230.,  175.,  123.,  275.,\n",
       "        179.,  155.,   nan,  248.,  325.,  187.,  225.,  215.,  142.,\n",
       "        208.,  145.,  135.,  194.,  265.,  110.,  188.,  153.,  137.,\n",
       "        198.,  147.,  190.,  159.,  193.,  138.,  167.,  196.,  203.,\n",
       "        125.,  176.,  140.,  130.,  122.,  253.,  100.,  163.,  120.,\n",
       "        148.,  276.,  171.,  212.,  210.,  255.,  182.,  300.,  174.,\n",
       "        156.,  211.,  118.,  192.,  183.,  272.,  218.,  161.,  169.,\n",
       "        178.,  151.,  158.,  184.,  270.,  143.,  128.,  164.,  181.,\n",
       "        105.,  219.,  189.,  239.,  201.,  127.,  139.,  101.,   98.,\n",
       "        260.,  237.,  280.,  235.,  238.,  197.,  205.,  117.,  172.,\n",
       "        289.,  216.,  186.,  245.,  112.,  126.,  177.,  168.,  252.,\n",
       "        144.,  214.,  149.,  166.,  233.,  244.,  191.,  152.,  113.,\n",
       "        136.,  236.,   94.,   90.,  224.,  199.,  290.,  217.,  173.,\n",
       "        132.,  243.,  133.,  209.,  107.,  283.,  213.,  259.,  226.,\n",
       "        102.,  242.,  129.,  295.,  264.,  350.,  116.,  330.,  108.,\n",
       "        258.,  121.,   73.,  114.,  204.,   75.,   99.,   85.,  232.,\n",
       "        321.,  234.,  146.,  268.,  124.,  308.,  274.,  221.,  111.,\n",
       "        228.,  157.,  305.,  316.,  223.,  229.,  320.,  207.,   95.,\n",
       "        109.,  103.,  266.,  293.,  285.,  247.,  370.,  315.,  141.,\n",
       "        358.,  390.,  246.,  302.,  375.,  269.,  294.,  387.,  335.,\n",
       "        261.,  267.,  292.,  360.,  299.,  263.,  227.,  380.,  345.,\n",
       "        273.,   96.,  347.,  131.,  400.,  106.,  277.,  282.,  319.,\n",
       "        251.,  222.,  309.,  254.,  249.,  460.,  374.,  310.,  281.,\n",
       "        337.,  301.,  288.,  271.,  313.,   93.,  328.,  314.,  291.,\n",
       "        262.,  257.,  334.,  303., 9072.,  373.,   97.,  354.,  231.,\n",
       "        287.,  323., 9065., 9073.,  119.,  297.,  307.,   80.,  286.,\n",
       "       9090.,  503.,  368.,  327.,   76.,  317.,  385.,  324.,  296.,\n",
       "        520.,  355., 9105., 9075., 9109., 9095.,  365.,  475.,  504.,\n",
       "         81.,  284.,   78.,   88., 9078.,  241.,  450., 9085.,  312.,\n",
       "        318., 9055., 9079.,  430.,  356.,   82.,  410., 9061., 9060.,\n",
       "       9045.,  278.,   61., 9082.,  304., 9070., 9064., 9100., 9063.,\n",
       "        279.,  298., 9051., 9074.,  332., 9083.,  417., 9097., 9054.,\n",
       "       9080.,  362., 9110.,  342.,   62., 9052., 9067., 9068.,  500.,\n",
       "       9062., 9076.,  420.,  399.,  415.,  440.,   92., 9043.,   84.,\n",
       "       9096., 9087.,  336., 9058.,  306., 9118.,  490.,  364.,  338.,\n",
       "       9084., 9086.,  580.,   86.,  402.,  501.,  344.,   87.,  414.,\n",
       "        371., 9136.,  366.,  470., 9089., 9066.,   89., 9081., 9115.,\n",
       "        465., 9050., 9048., 9077.,  343.,   56.,   65.,   58.,  495.,\n",
       "        395.,  352.,  389.,   77.,   70.,  462.,  333.,   83.,  480.,\n",
       "        322., 9140., 9130.,  485.,  311., 9092.,   91.,   71.,   74.,\n",
       "        357., 9094., 9098.,  404.,  680., 9053.,  425., 9158., 9088.,\n",
       "       9047., 9120., 9039.,  405., 9056.,  600.,  378.,  456.,   59.,\n",
       "        383.,   60., 9200., 9069.,  777., 9101.,  398., 9126.,  550.,\n",
       "       9059.,  397.,  429.,  388.,  367.,  407.,  515.,  339., 9049.,\n",
       "         51.,  384., 9035.,   64.,  411.,  542., 9046., 9040., 9104.,\n",
       "        445.,  326.,  610.,  359., 9134.,  348.,  423.,  601.,   53.,\n",
       "        510.,  401., 9093.,  620.,  329., 9114.,  341.,  349.,  540.,\n",
       "        435.,  396.,  437.,   54., 9159.,  464.,  530.,  737.,  630.,\n",
       "        392.,   63., 9119., 9150.,  372.,  351.,  369.,  538.,  361.,\n",
       "        382.,  502., 9099.,  443.,  506.,  484.,  477.,  513.,  386.,\n",
       "        507.,  646.,  442.,  432.,  421.,  469.,  331.,  376.,  505.,\n",
       "        394.,   79.,  377.,  346.,  602., 9025., 9176., 9057., 9165.,\n",
       "       9071.,  412., 9103.,  750.,  733.,  560.,   50.,  511.,   68.,\n",
       "       9230.,  525.,  454.,  603.,  474.,  413., 9182., 9153.,  363.,\n",
       "         66., 9107.,  439.,  408.,  418.,  499.,  447.,  483., 9160.,\n",
       "         55.,  448.,  452.,  406.,  463.,  419., 9116.,  381.,  701.,\n",
       "        471.,  650.,  488., 9154.,   67., 9102.,  657.,  455., 9135.,\n",
       "       9198.,  700., 9352., 9108.,  416., 9106.,  509.,  391.,  790.,\n",
       "       9112., 9032.,  660.,  353., 9195.,  486., 9239.,  409., 9041.,\n",
       "        403.,  605.,  458., 9180., 9175.,  379., 9212., 9141.,  491.,\n",
       "        570.,  449., 9240., 9113.,  431.,  422.,  476.,  424.,  393.,\n",
       "        568.,  472., 9117.,  524., 9172., 9185.,  545.,  427., 9127.,\n",
       "       9030., 9250.,  556., 9138., 9280., 9044.,  625.,  585.,  497.,\n",
       "       9091., 9265., 9042.])"
      ]
     },
     "execution_count": 412,
     "metadata": {},
     "output_type": "execute_result"
    }
   ],
   "source": [
    "df['WEIGHT'].unique()"
   ]
  },
  {
   "cell_type": "code",
   "execution_count": 413,
   "id": "36abe004-70fa-49f6-a280-420d16db13ad",
   "metadata": {},
   "outputs": [
    {
     "data": {
      "text/plain": [
       "array([  72.,   nan,  170.,  195.,  206.,  340.,  154.,  240.,  160.,\n",
       "        134.,  202.,  165.,  104.,  162.,  200.,  185.,  150.,  250.,\n",
       "        115.,  256.,  220.,  180.,  230.,  175.,  123.,  275.,  179.,\n",
       "        155.,  248.,  325.,  187.,  225.,  215.,  142.,  208.,  145.,\n",
       "        135.,  194.,  265.,  110.,  188.,  153.,  137.,  198.,  147.,\n",
       "        190.,  159.,  193.,  138.,  167.,  196.,  203.,  125.,  176.,\n",
       "        140.,  130.,  122.,  253.,  100.,  163.,  120.,  148.,  276.,\n",
       "        171.,  212.,  210.,  255.,  182.,  300.,  174.,  156.,  211.,\n",
       "        118.,  192.,  183.,  272.,  218.,  161.,  169.,  178.,  151.,\n",
       "        158.,  184.,  270.,  143.,  128.,  164.,  181.,  105.,  219.,\n",
       "        189.,  239.,  201.,  127.,  139.,  101.,   98.,  260.,  237.,\n",
       "        280.,  235.,  238.,  197.,  205.,  117.,  172.,  289.,  216.,\n",
       "        186.,  245.,  112.,  126.,  177.,  168.,  252.,  144.,  214.,\n",
       "        149.,  166.,  233.,  244.,  191.,  152.,  113.,  136.,  236.,\n",
       "         94.,   90.,  224.,  199.,  290.,  217.,  173.,  132.,  243.,\n",
       "        133.,  209.,  107.,  283.,  213.,  259.,  226.,  102.,  242.,\n",
       "        129.,  295.,  264.,  350.,  116.,  330.,  108.,  258.,  121.,\n",
       "         73.,  114.,  204.,   75.,   99.,   85.,  232.,  321.,  234.,\n",
       "        146.,  268.,  124.,  308.,  274.,  221.,  111.,  228.,  157.,\n",
       "        305.,  316.,  223.,  229.,  320.,  207.,   95.,  109.,  103.,\n",
       "        266.,  293.,  285.,  247.,  370.,  315.,  141.,  358.,  390.,\n",
       "        246.,  302.,  375.,  269.,  294.,  387.,  335.,  261.,  267.,\n",
       "        292.,  360.,  299.,  263.,  227.,  380.,  345.,  273.,   96.,\n",
       "        347.,  131.,  400.,  106.,  277.,  282.,  319.,  251.,  222.,\n",
       "        309.,  254.,  249.,  460.,  374.,  310.,  281.,  337.,  301.,\n",
       "        288.,  271.,  313.,   93.,  328.,  314.,  291.,  262.,  257.,\n",
       "        334.,  303., 9072.,  373.,   97.,  354.,  231.,  287.,  323.,\n",
       "       9065., 9073.,  119.,  297.,  307.,   80.,  286., 9090.,  503.,\n",
       "        368.,  327.,   76.,  317.,  385.,  324.,  296.,  520.,  355.,\n",
       "       9105., 9075., 9109., 9095.,  365.,  475.,  504.,   81.,  284.,\n",
       "         78.,   88., 9078.,  241.,  450., 9085.,  312.,  318., 9055.,\n",
       "       9079.,  430.,  356.,   82.,  410., 9061., 9060., 9045.,  278.,\n",
       "         61., 9082.,  304., 9070., 9064., 9100., 9063.,  279.,  298.,\n",
       "       9051., 9074.,  332., 9083.,  417., 9097., 9054., 9080.,  362.,\n",
       "       9110.,  342.,   62., 9052., 9067., 9068.,  500., 9062., 9076.,\n",
       "        420.,  399.,  415.,  440.,   92., 9043.,   84., 9096., 9087.,\n",
       "        336., 9058.,  306., 9118.,  490.,  364.,  338., 9084., 9086.,\n",
       "        580.,   86.,  402.,  501.,  344.,   87.,  414.,  371., 9136.,\n",
       "        366.,  470., 9089., 9066.,   89., 9081., 9115.,  465., 9050.,\n",
       "       9048., 9077.,  343.,   56.,   65.,   58.,  495.,  395.,  352.,\n",
       "        389.,   77.,   70.,  462.,  333.,   83.,  480.,  322., 9140.,\n",
       "       9130.,  485.,  311., 9092.,   91.,   71.,   74.,  357., 9094.,\n",
       "       9098.,  404.,  680., 9053.,  425., 9158., 9088., 9047., 9120.,\n",
       "       9039.,  405., 9056.,  600.,  378.,  456.,   59.,  383.,   60.,\n",
       "       9200., 9069.,  777., 9101.,  398., 9126.,  550., 9059.,  397.,\n",
       "        429.,  388.,  367.,  407.,  515.,  339., 9049.,   51.,  384.,\n",
       "       9035.,   64.,  411.,  542., 9046., 9040., 9104.,  445.,  326.,\n",
       "        610.,  359., 9134.,  348.,  423.,  601.,   53.,  510.,  401.,\n",
       "       9093.,  620.,  329., 9114.,  341.,  349.,  540.,  435.,  396.,\n",
       "        437.,   54., 9159.,  464.,  530.,  737.,  630.,  392.,   63.,\n",
       "       9119., 9150.,  372.,  351.,  369.,  538.,  361.,  382.,  502.,\n",
       "       9099.,  443.,  506.,  484.,  477.,  513.,  386.,  507.,  646.,\n",
       "        442.,  432.,  421.,  469.,  331.,  376.,  505.,  394.,   79.,\n",
       "        377.,  346.,  602., 9025., 9176., 9057., 9165., 9071.,  412.,\n",
       "       9103.,  750.,  733.,  560.,   50.,  511.,   68., 9230.,  525.,\n",
       "        454.,  603.,  474.,  413., 9182., 9153.,  363.,   66., 9107.,\n",
       "        439.,  408.,  418.,  499.,  447.,  483., 9160.,   55.,  448.,\n",
       "        452.,  406.,  463.,  419., 9116.,  381.,  701.,  471.,  650.,\n",
       "        488., 9154.,   67., 9102.,  657.,  455., 9135., 9198.,  700.,\n",
       "       9352., 9108.,  416., 9106.,  509.,  391.,  790., 9112., 9032.,\n",
       "        660.,  353., 9195.,  486., 9239.,  409., 9041.,  403.,  605.,\n",
       "        458., 9180., 9175.,  379., 9212., 9141.,  491.,  570.,  449.,\n",
       "       9240., 9113.,  431.,  422.,  476.,  424.,  393.,  568.,  472.,\n",
       "       9117.,  524., 9172., 9185.,  545.,  427., 9127., 9030., 9250.,\n",
       "        556., 9138., 9280., 9044.,  625.,  585.,  497., 9091., 9265.,\n",
       "       9042.])"
      ]
     },
     "execution_count": 413,
     "metadata": {},
     "output_type": "execute_result"
    }
   ],
   "source": [
    "type = {7777:np.nan, 9999:np.nan} #777과 999는 NAN으로 변경\n",
    "df['WEIGHT'].replace(type, inplace=True) #inplace=True로 원본객체 변경\n",
    "df['WEIGHT'].unique()"
   ]
  },
  {
   "cell_type": "code",
   "execution_count": 414,
   "id": "1b063d09-9c09-4a8c-9c41-61a9de5d8ff5",
   "metadata": {},
   "outputs": [
    {
     "data": {
      "text/plain": [
       "0          True\n",
       "1         False\n",
       "2          True\n",
       "3          True\n",
       "4          True\n",
       "          ...  \n",
       "438688     True\n",
       "438689    False\n",
       "438690     True\n",
       "438691     True\n",
       "438692     True\n",
       "Name: WEIGHT, Length: 438693, dtype: bool"
      ]
     },
     "execution_count": 414,
     "metadata": {},
     "output_type": "execute_result"
    }
   ],
   "source": [
    "index_number = df['WEIGHT'] < 1000 #True일 경우 파운드로 몸무게가 기록된 사람들\n",
    "index_number"
   ]
  },
  {
   "cell_type": "code",
   "execution_count": 415,
   "id": "1244c0f9-4feb-487a-807a-c1706ce5d503",
   "metadata": {},
   "outputs": [
    {
     "name": "stdout",
     "output_type": "stream",
     "text": [
      "0         32.658651\n",
      "2         77.110703\n",
      "3         88.450512\n",
      "4         93.440028\n",
      "5         88.450512\n",
      "            ...    \n",
      "438687    69.853225\n",
      "438688    61.234970\n",
      "438690    99.790321\n",
      "438691    79.378665\n",
      "438692    81.193034\n",
      "Name: WEIGHT, Length: 396734, dtype: float64\n"
     ]
    },
    {
     "name": "stderr",
     "output_type": "stream",
     "text": [
      "C:\\Users\\sdh\\AppData\\Local\\Temp\\ipykernel_21948\\39705853.py:1: SettingWithCopyWarning: \n",
      "A value is trying to be set on a copy of a slice from a DataFrame\n",
      "\n",
      "See the caveats in the documentation: https://pandas.pydata.org/pandas-docs/stable/user_guide/indexing.html#returning-a-view-versus-a-copy\n",
      "  df.WEIGHT[index_number] = df.WEIGHT[index_number]*0.45359237 #파운드를 kg로 변환\n"
     ]
    }
   ],
   "source": [
    "df.WEIGHT[index_number] = df.WEIGHT[index_number]*0.45359237 #파운드를 kg로 변환\n",
    "print(df.WEIGHT[index_number])"
   ]
  },
  {
   "cell_type": "code",
   "execution_count": 416,
   "id": "8532cd21-3191-496b-a0cc-3e1c9b3a23fe",
   "metadata": {},
   "outputs": [
    {
     "data": {
      "text/plain": [
       "3814      9072.0\n",
       "4484      9065.0\n",
       "4571      9073.0\n",
       "5338      9090.0\n",
       "6570      9105.0\n",
       "           ...  \n",
       "433192    9063.0\n",
       "433269    9062.0\n",
       "437585    9050.0\n",
       "438111    9060.0\n",
       "438534    9075.0\n",
       "Name: WEIGHT, Length: 1384, dtype: float64"
      ]
     },
     "execution_count": 416,
     "metadata": {},
     "output_type": "execute_result"
    }
   ],
   "source": [
    "index_number = df['WEIGHT'] > 9000 #True일 경우 kg로 몸무게가 기록된 사람들\n",
    "df.WEIGHT[index_number] #kg으로 몸무게가 기록된 사람들 출력(맨 앞에 9는 kg이라는 뜻)"
   ]
  },
  {
   "cell_type": "code",
   "execution_count": 417,
   "id": "563e9717-3cc7-4c4c-8ba2-edf2d12ba4a4",
   "metadata": {},
   "outputs": [
    {
     "name": "stdout",
     "output_type": "stream",
     "text": [
      "3814       72.0\n",
      "4484       65.0\n",
      "4571       73.0\n",
      "5338       90.0\n",
      "6570      105.0\n",
      "          ...  \n",
      "433192     63.0\n",
      "433269     62.0\n",
      "437585     50.0\n",
      "438111     60.0\n",
      "438534     75.0\n",
      "Name: WEIGHT, Length: 1384, dtype: float64\n"
     ]
    },
    {
     "name": "stderr",
     "output_type": "stream",
     "text": [
      "C:\\Users\\sdh\\AppData\\Local\\Temp\\ipykernel_21948\\1467237082.py:1: SettingWithCopyWarning: \n",
      "A value is trying to be set on a copy of a slice from a DataFrame\n",
      "\n",
      "See the caveats in the documentation: https://pandas.pydata.org/pandas-docs/stable/user_guide/indexing.html#returning-a-view-versus-a-copy\n",
      "  df.WEIGHT[index_number] = df.WEIGHT[index_number]%9000 #맨 앞에 9는 kg단위라는 뜻이므로 9000으로 나눈 나머지를 계산\n"
     ]
    }
   ],
   "source": [
    "df.WEIGHT[index_number] = df.WEIGHT[index_number]%9000 #맨 앞에 9는 kg단위라는 뜻이므로 9000으로 나눈 나머지를 계산\n",
    "print(df.WEIGHT[index_number])"
   ]
  },
  {
   "cell_type": "code",
   "execution_count": 418,
   "id": "e0c86baa-0a8b-4b1e-b042-9a731d40eae9",
   "metadata": {},
   "outputs": [
    {
     "data": {
      "text/plain": [
       "array([ 32.65865064,          nan,  77.1107029 ,  88.45051215,\n",
       "        93.44002822, 154.2214058 ,  69.85322498, 108.8621688 ,\n",
       "        72.5747792 ,  60.78137758,  91.62565874,  74.84274105,\n",
       "        47.17360648,  73.48196394,  90.718474  ,  83.91458845,\n",
       "        68.0388555 , 113.3980925 ,  52.16312255, 116.11964672,\n",
       "        99.7903214 ,  81.6466266 , 104.3262451 ,  79.37866475,\n",
       "        55.79186151, 124.73790175,  81.19303423,  70.30681735,\n",
       "       112.49090776, 147.41752025,  84.82177319, 102.05828325,\n",
       "        97.52235955,  64.41011654,  94.34721296,  65.77089365,\n",
       "        61.23496995,  87.99691978, 120.20197805,  49.8951607 ,\n",
       "        85.27536556,  69.39963261,  62.14215469,  89.81128926,\n",
       "        66.67807839,  86.1825503 ,  72.12118683,  87.54332741,\n",
       "        62.59574706,  75.74992579,  88.90410452,  92.07925111,\n",
       "        56.69904625,  79.83225712,  63.5029318 ,  58.9670081 ,\n",
       "        55.33826914, 114.75886961,  45.359237  ,  73.93555631,\n",
       "        54.4310844 ,  67.13167076, 125.19149412,  77.56429527,\n",
       "        96.16158244,  95.2543977 , 115.66605435,  82.55381134,\n",
       "       136.077711  ,  78.92507238,  70.76040972,  95.70799007,\n",
       "        53.52389966,  87.08973504,  83.00740371, 123.37712464,\n",
       "        98.88313666,  73.02837157,  76.65711053,  80.73944186,\n",
       "        68.49244787,  71.66759446,  83.46099608, 122.4699399 ,\n",
       "        64.86370891,  58.05982336,  74.38914868,  82.10021897,\n",
       "        47.62719885,  99.33672903,  85.72895793, 108.40857643,\n",
       "        91.17206637,  57.60623099,  63.04933943,  45.81282937,\n",
       "        44.45205226, 117.9340162 , 107.50139169, 127.0058636 ,\n",
       "       106.59420695, 107.95498406,  89.35769689,  92.98643585,\n",
       "        53.07030729,  78.01788764, 131.08819493,  97.97595192,\n",
       "        84.36818082, 111.13013065,  50.80234544,  57.15263862,\n",
       "        80.28584949,  76.20351816, 114.30527724,  65.31730128,\n",
       "        97.06876718,  67.58526313,  75.29633342, 105.68702221,\n",
       "       110.67653828,  86.63614267,  68.94604024,  51.25593781,\n",
       "        61.68856232, 107.04779932,  42.63768278,  40.8233133 ,\n",
       "       101.60469088,  90.26488163, 131.5417873 ,  98.42954429,\n",
       "        78.47148001,  59.87419284, 110.22294591,  60.32778521,\n",
       "        94.80080533,  48.53438359, 128.36664071,  96.61517481,\n",
       "       117.48042383, 102.51187562,  46.26642174, 109.76935354,\n",
       "        58.51341573, 133.80974915, 119.74838568, 158.7573295 ,\n",
       "        52.61671492, 149.6854821 ,  48.98797596, 117.02683146,\n",
       "        54.88467677,  33.11224301,  51.70953018,  92.53284348,\n",
       "        34.01942775,  44.90564463,  38.55535145, 105.23342984,\n",
       "       145.60315077, 106.14061458,  66.22448602, 121.56275516,\n",
       "        56.24545388, 139.70644996, 124.28430938, 100.24391377,\n",
       "        50.34875307, 103.41906036,  71.21400209, 138.34567285,\n",
       "       143.33518892, 101.15109851, 103.87265273, 145.1495584 ,\n",
       "        93.89362059,  43.09127515,  49.44156833,  46.72001411,\n",
       "       120.65557042, 132.90256441, 129.27382545, 112.03731539,\n",
       "       167.8291769 , 142.88159655,  63.95652417, 162.38606846,\n",
       "       176.9010243 , 111.58372302, 136.98489574, 170.09713875,\n",
       "       122.01634753, 133.35615678, 175.54024719, 151.95344395,\n",
       "       118.38760857, 121.10916279, 132.44897204, 163.2932532 ,\n",
       "       135.62411863, 119.29479331, 102.96546799, 172.3651006 ,\n",
       "       156.48936765, 123.83071701,  43.54486752, 157.39655239,\n",
       "        59.42060047, 181.436948  ,  48.08079122, 125.64508649,\n",
       "       127.91304834, 144.69596603, 113.85168487, 100.69750614,\n",
       "       140.16004233, 115.21246198, 112.94450013, 208.6524902 ,\n",
       "       169.64354638, 140.6136347 , 127.45945597, 152.86062869,\n",
       "       136.53130337, 130.63460256, 122.92353227, 141.97441181,\n",
       "        42.18409041, 148.77829736, 142.42800418, 131.99537967,\n",
       "       118.84120094, 116.57323909, 151.49985158, 137.43848811,\n",
       "        72.        , 169.18995401,  43.99845989, 160.57169898,\n",
       "       104.77983747, 130.18101019, 146.51033551,  65.        ,\n",
       "        73.        ,  53.97749203, 134.71693389, 139.25285759,\n",
       "        36.2873896 , 129.72741782,  90.        , 228.15696211,\n",
       "       166.92199216, 148.32470499,  34.47302012, 143.78878129,\n",
       "       174.63306245, 146.96392788, 134.26334152, 235.8680324 ,\n",
       "       161.02529135, 105.        ,  75.        , 109.        ,\n",
       "        95.        , 165.56121505, 215.45637575, 228.61055448,\n",
       "        36.74098197, 128.82023308,  35.38020486,  39.91612856,\n",
       "        78.        , 109.31576117, 204.1165665 ,  85.        ,\n",
       "       141.52081944, 144.24237366,  55.        ,  79.        ,\n",
       "       195.0447191 , 161.47888372,  37.19457434, 185.9728717 ,\n",
       "        61.        ,  60.        ,  45.        , 126.09867886,\n",
       "        27.66913457,  82.        , 137.89208048,  70.        ,\n",
       "        64.        , 100.        ,  63.        , 126.55227123,\n",
       "       135.17052626,  51.        ,  74.        , 150.59266684,\n",
       "        83.        , 189.14801829,  97.        ,  54.        ,\n",
       "        80.        , 164.20043794, 110.        , 155.12859054,\n",
       "        28.12272694,  52.        ,  67.        ,  68.        ,\n",
       "       226.796185  ,  62.        ,  76.        , 190.5087954 ,\n",
       "       180.98335563, 188.24083355, 199.5806428 ,  41.73049804,\n",
       "        43.        ,  38.10175908,  96.        ,  87.        ,\n",
       "       152.40703632,  58.        , 138.79926522, 118.        ,\n",
       "       222.2602613 , 165.10762268, 153.31422106,  84.        ,\n",
       "        86.        , 263.0835746 ,  39.00894382, 182.34413274,\n",
       "       227.24977737, 156.03577528,  39.46253619, 187.78724118,\n",
       "       168.28276927, 136.        , 166.01480742, 213.1884139 ,\n",
       "        89.        ,  66.        ,  40.36972093,  81.        ,\n",
       "       115.        , 210.92045205,  50.        ,  48.        ,\n",
       "        77.        , 155.58218291,  25.40117272,  29.48350405,\n",
       "        26.30835746, 224.52822315, 179.16898615, 159.66451424,\n",
       "       176.44743193,  34.92661249,  31.7514659 , 209.55967494,\n",
       "       151.04625921,  37.64816671, 217.7243376 , 146.05674314,\n",
       "       140.        , 130.        , 219.99229945, 141.06722707,\n",
       "        92.        ,  41.27690567,  32.20505827,  33.56583538,\n",
       "       161.93247609,  94.        ,  98.        , 183.25131748,\n",
       "       308.4428116 ,  53.        , 192.77675725, 158.        ,\n",
       "        88.        ,  47.        , 120.        ,  39.        ,\n",
       "       183.70490985,  56.        , 272.155422  , 171.45791586,\n",
       "       206.83812072,  26.76194983, 173.72587771,  27.2155422 ,\n",
       "       200.        ,  69.        , 352.44127149, 101.        ,\n",
       "       180.52976326, 126.        , 249.4758035 ,  59.        ,\n",
       "       180.07617089, 194.59112673, 175.99383956, 166.46839979,\n",
       "       184.61209459, 233.60007055, 153.76781343,  49.        ,\n",
       "        23.13321087, 174.17947008,  35.        ,  29.02991168,\n",
       "       186.42646407, 245.84706454,  46.        ,  40.        ,\n",
       "       104.        , 201.84860465, 147.87111262, 276.6913457 ,\n",
       "       162.83966083, 134.        , 157.85014476, 191.86957251,\n",
       "       272.60901437,  24.04039561, 231.3321087 , 181.89054037,\n",
       "        93.        , 281.2272694 , 149.23188973, 114.        ,\n",
       "       154.67499817, 158.30373713, 244.9398798 , 197.31268095,\n",
       "       179.62257852, 198.21986569,  24.49398798, 159.        ,\n",
       "       210.46685968, 240.4039561 , 334.29757669, 285.7631931 ,\n",
       "       177.80820904,  28.57631931, 119.        , 150.        ,\n",
       "       168.73636164, 159.21092187, 167.37558453, 244.03269506,\n",
       "       163.74684557, 173.27228534, 227.70336974,  99.        ,\n",
       "       200.94141991, 229.51773922, 219.53870708, 216.36356049,\n",
       "       232.69288581, 175.08665482, 229.97133159, 293.02067102,\n",
       "       200.48782754, 195.95190384, 190.96238777, 212.73482153,\n",
       "       150.13907447, 170.55073112, 229.06414685, 178.71539378,\n",
       "        35.83379723, 171.00432349, 156.94296002, 273.06260674,\n",
       "        25.        , 176.        ,  57.        , 165.        ,\n",
       "        71.        , 186.88005644, 103.        , 340.1942775 ,\n",
       "       332.48320721, 254.0117272 ,  22.6796185 , 231.78570107,\n",
       "        30.84428116, 230.        , 238.13599425, 205.93093598,\n",
       "       273.51619911, 215.00278338, 187.33364881, 182.        ,\n",
       "       153.        , 164.65403031,  29.93709642, 107.        ,\n",
       "       199.12705043, 185.06568696, 189.60161066, 226.34259263,\n",
       "       202.75578939, 219.08511471, 160.        ,  24.94758035,\n",
       "       203.20938176, 205.02375124, 184.15850222, 210.01326731,\n",
       "       190.05520303, 116.        , 172.81869297, 317.96825137,\n",
       "       213.64200627, 294.8350405 , 221.35307656, 154.        ,\n",
       "        30.39068879, 102.        , 298.01018709, 206.38452835,\n",
       "       135.        , 198.        , 317.514659  , 352.        ,\n",
       "       108.        , 188.69442592, 106.        , 230.87851633,\n",
       "       177.35461667, 358.3379723 , 112.        ,  32.        ,\n",
       "       299.3709642 , 160.11810661, 195.        , 220.44589182,\n",
       "       239.        , 185.51927933,  41.        , 182.79772511,\n",
       "       274.42338385, 207.74530546, 180.        , 175.        ,\n",
       "       171.91150823, 212.        , 141.        , 222.71385367,\n",
       "       258.5476509 , 203.66297413, 240.        , 113.        ,\n",
       "       195.49831147, 191.41598014, 215.90996812, 192.32316488,\n",
       "       178.26180141, 257.64046616, 214.09559864, 117.        ,\n",
       "       237.68240188, 172.        , 185.        , 247.20784165,\n",
       "       193.68394199, 127.        ,  30.        , 250.        ,\n",
       "       252.19735772, 138.        , 280.        ,  44.        ,\n",
       "       283.49523125, 265.35153645, 225.43540789,  91.        ,\n",
       "       265.        ,  42.        ])"
      ]
     },
     "execution_count": 418,
     "metadata": {},
     "output_type": "execute_result"
    }
   ],
   "source": [
    "df.WEIGHT.unique()"
   ]
  },
  {
   "cell_type": "markdown",
   "id": "e417051c-310b-4a58-87e1-d69ad0b1181d",
   "metadata": {},
   "source": [
    "### 음주 데이터(건강검진 데이터에서는 0: 마시지 않는다. 1:마신다.)\n",
    "#### 심장질환데이터(brfss.csv)에서는 100번대가 매주 마신다 / 200번대는 달마다 마신다 / 777은 모른다 / 888은 지난 한달간 마시지 않았다. / 999는 답변을 거절했다. / NAN은 묻지 않았거나 데이터가 소실되었다는 뜻)"
   ]
  },
  {
   "cell_type": "code",
   "execution_count": 419,
   "id": "bdc57e95-26f6-42a6-b603-e52ca175036b",
   "metadata": {},
   "outputs": [
    {
     "data": {
      "text/plain": [
       "array([888., 101., 203., 102., 999., 204., 230., 202., 103.,  nan, 201.,\n",
       "       210., 205., 105., 217., 212., 104., 216., 777., 220., 206., 225.,\n",
       "       107., 215., 207., 228., 209., 208., 106., 211., 229., 227., 214.,\n",
       "       224., 221., 223., 218., 226., 222., 213., 219.])"
      ]
     },
     "execution_count": 419,
     "metadata": {},
     "output_type": "execute_result"
    }
   ],
   "source": [
    "df['ALCOHOL'].unique()"
   ]
  },
  {
   "cell_type": "code",
   "execution_count": 420,
   "id": "82d89826-cd5e-4f57-aeef-f3c3e208d32f",
   "metadata": {},
   "outputs": [
    {
     "name": "stdout",
     "output_type": "stream",
     "text": [
      "0    888.0\n",
      "1    888.0\n",
      "2    888.0\n",
      "3    101.0\n",
      "4    888.0\n",
      "Name: ALCOHOL, dtype: float64\n",
      "438688    204.0\n",
      "438689    888.0\n",
      "438690    210.0\n",
      "438691    203.0\n",
      "438692    201.0\n",
      "Name: ALCOHOL, dtype: float64\n"
     ]
    }
   ],
   "source": [
    "print(df['ALCOHOL'].head())\n",
    "print(df['ALCOHOL'].tail())"
   ]
  },
  {
   "cell_type": "code",
   "execution_count": 421,
   "id": "27db2092-3596-4237-a06b-d56230031681",
   "metadata": {},
   "outputs": [
    {
     "data": {
      "text/plain": [
       "array([  0., 101., 203., 102.,  nan, 204., 230., 202., 103., 201., 210.,\n",
       "       205., 105., 217., 212., 104., 216., 220., 206., 225., 107., 215.,\n",
       "       207., 228., 209., 208., 106., 211., 229., 227., 214., 224., 221.,\n",
       "       223., 218., 226., 222., 213., 219.])"
      ]
     },
     "execution_count": 421,
     "metadata": {},
     "output_type": "execute_result"
    }
   ],
   "source": [
    "type = {777:np.nan, 888: 0, 999:np.nan} #777과 999는 NAN으로 변경\n",
    "df['ALCOHOL'].replace(type, inplace=True) #inplace=True로 원본객체 변경\n",
    "df['ALCOHOL'].unique()"
   ]
  },
  {
   "cell_type": "code",
   "execution_count": 422,
   "id": "9627c4be-3754-4740-88ef-83b59c302847",
   "metadata": {},
   "outputs": [
    {
     "data": {
      "text/plain": [
       "0         False\n",
       "1         False\n",
       "2         False\n",
       "3          True\n",
       "4         False\n",
       "          ...  \n",
       "438688     True\n",
       "438689    False\n",
       "438690     True\n",
       "438691     True\n",
       "438692     True\n",
       "Name: ALCOHOL, Length: 438693, dtype: bool"
      ]
     },
     "execution_count": 422,
     "metadata": {},
     "output_type": "execute_result"
    }
   ],
   "source": [
    "index_number = (df['ALCOHOL'] > 100) & (df['ALCOHOL'] < 300) #술을 마신 사람들의 인덱스 정보 #https://stackoverflow.com/questions/22591174/pandas-multiple-conditions-while-indexing-data-frame-unexpected-behavior\n",
    "index_number\n",
    "## 아니면 아래처럼 하면 괄호 안 줘도 됨\n",
    "#c1 = location_period[\"ccbaPcd1_item\"].isnull()  # 시대가 결측값\n",
    "#c2 = location_period[\"ccbaPcd1_item\"] == \"60\"  # 시대가 미상\n",
    "#c3 = location_period[\"ccbaPcd1_item\"] == \"00\"  # 시대가 선사시대 이전\n",
    "#c4 = location_period[\"longitude_item\"] == \"0\"  # 경도가 결측값\n",
    "#c5 = location_period[\"latitude_item\"] == \"0\"  # 위도가 결측값\n",
    "#condition = c1 | c2 | c3 | c4 | c5"
   ]
  },
  {
   "cell_type": "code",
   "execution_count": 423,
   "id": "0f28cb5b-7511-47e4-9283-39b6c2f145af",
   "metadata": {},
   "outputs": [
    {
     "name": "stderr",
     "output_type": "stream",
     "text": [
      "C:\\Users\\sdh\\AppData\\Local\\Temp\\ipykernel_21948\\1135333750.py:1: SettingWithCopyWarning: \n",
      "A value is trying to be set on a copy of a slice from a DataFrame\n",
      "\n",
      "See the caveats in the documentation: https://pandas.pydata.org/pandas-docs/stable/user_guide/indexing.html#returning-a-view-versus-a-copy\n",
      "  df.ALCOHOL[index_number] = 1 #술 마신 경우 데이터를 1을 저장\n"
     ]
    },
    {
     "data": {
      "text/plain": [
       "array([ 0.,  1., nan])"
      ]
     },
     "execution_count": 423,
     "metadata": {},
     "output_type": "execute_result"
    }
   ],
   "source": [
    "df.ALCOHOL[index_number] = 1 #술 마신 경우 데이터를 1을 저장\n",
    "df.ALCOHOL.unique()"
   ]
  },
  {
   "cell_type": "code",
   "execution_count": 424,
   "id": "776ed073-f10d-4fe9-8739-d15962a39ae9",
   "metadata": {},
   "outputs": [
    {
     "name": "stdout",
     "output_type": "stream",
     "text": [
      "0    0.0\n",
      "1    0.0\n",
      "2    0.0\n",
      "3    1.0\n",
      "4    0.0\n",
      "Name: ALCOHOL, dtype: float64\n",
      "438688    1.0\n",
      "438689    0.0\n",
      "438690    1.0\n",
      "438691    1.0\n",
      "438692    1.0\n",
      "Name: ALCOHOL, dtype: float64\n"
     ]
    }
   ],
   "source": [
    "print(df['ALCOHOL'].head())\n",
    "print(df['ALCOHOL'].tail())"
   ]
  },
  {
   "cell_type": "markdown",
   "id": "9e60ad84-0c9c-4955-99c0-44b4119bd2ba",
   "metadata": {},
   "source": [
    "### 흡연 여부(건강검진 데이터에서는 0: 피운 적 없다. 1:피운 적 있다.)\n",
    "#### 심장질환데이터(brfss.csv)에서는 1: Yes / 2: No / 7: 모른다, 확신못함 / 9: 답변거절)"
   ]
  },
  {
   "cell_type": "code",
   "execution_count": 425,
   "id": "0bb0b6b3-b046-4b06-84e6-d517c42688a7",
   "metadata": {},
   "outputs": [
    {
     "data": {
      "text/plain": [
       "array([ 1.,  2., nan,  7.,  9.])"
      ]
     },
     "execution_count": 425,
     "metadata": {},
     "output_type": "execute_result"
    }
   ],
   "source": [
    "df['SMOKE'].unique()"
   ]
  },
  {
   "cell_type": "code",
   "execution_count": 426,
   "id": "6d419212-6873-462f-a143-f33aa00484d0",
   "metadata": {},
   "outputs": [
    {
     "name": "stdout",
     "output_type": "stream",
     "text": [
      "0    1.0\n",
      "1    2.0\n",
      "2    2.0\n",
      "3    2.0\n",
      "4    2.0\n",
      "Name: SMOKE, dtype: float64\n",
      "438688    1.0\n",
      "438689    2.0\n",
      "438690    2.0\n",
      "438691    2.0\n",
      "438692    2.0\n",
      "Name: SMOKE, dtype: float64\n"
     ]
    }
   ],
   "source": [
    "print(df['SMOKE'].head())\n",
    "print(df['SMOKE'].tail())"
   ]
  },
  {
   "cell_type": "code",
   "execution_count": 427,
   "id": "0f84c6a0-c788-41d7-a208-fa2983b3f190",
   "metadata": {},
   "outputs": [
    {
     "data": {
      "text/plain": [
       "array([ 1.,  0., nan])"
      ]
     },
     "execution_count": 427,
     "metadata": {},
     "output_type": "execute_result"
    }
   ],
   "source": [
    "type = {2:0, 7:np.nan, 9:np.nan} #2는 0으로, 7과 9는 NAN으로 변경\n",
    "df['SMOKE'].replace(type, inplace=True) #inplace=True로 원본객체 변경\n",
    "df['SMOKE'].unique()"
   ]
  },
  {
   "cell_type": "code",
   "execution_count": 428,
   "id": "f3943756-5935-4e90-ae20-6192fc0ab7f7",
   "metadata": {},
   "outputs": [
    {
     "name": "stdout",
     "output_type": "stream",
     "text": [
      "0    1.0\n",
      "1    0.0\n",
      "2    0.0\n",
      "3    0.0\n",
      "4    0.0\n",
      "Name: SMOKE, dtype: float64\n",
      "438688    1.0\n",
      "438689    0.0\n",
      "438690    0.0\n",
      "438691    0.0\n",
      "438692    0.0\n",
      "Name: SMOKE, dtype: float64\n"
     ]
    }
   ],
   "source": [
    "print(df['SMOKE'].head())\n",
    "print(df['SMOKE'].tail())"
   ]
  },
  {
   "cell_type": "markdown",
   "id": "2300ae97-f85e-4198-a886-9b7d20a54693",
   "metadata": {},
   "source": [
    "### 나머지 데이터들 값 변환"
   ]
  },
  {
   "cell_type": "code",
   "execution_count": 429,
   "id": "f4ed01d4-5e47-4dac-8fe9-f90363513728",
   "metadata": {},
   "outputs": [],
   "source": [
    "def replace_value(col, replace):\n",
    "    print(\"=\"*10, col, \"=\"*10)\n",
    "    # before replacing\n",
    "    print(df[col].value_counts())\n",
    "    \n",
    "    df[col].replace(replace, inplace=True)\n",
    "    \n",
    "    # after replacing\n",
    "    print(df[col].value_counts())"
   ]
  },
  {
   "cell_type": "code",
   "execution_count": 430,
   "id": "deba63ec-1ee8-4da2-acd2-eec9b3ea5739",
   "metadata": {},
   "outputs": [
    {
     "name": "stdout",
     "output_type": "stream",
     "text": [
      "========== BLIND ==========\n",
      "2.0    399597\n",
      "1.0     21745\n",
      "7.0       952\n",
      "9.0       655\n",
      "Name: BLIND, dtype: int64\n",
      "0.0    399597\n",
      "1.0     21745\n",
      "Name: BLIND, dtype: int64\n",
      "========== DEAF ==========\n",
      "2.0    384717\n",
      "1.0     37578\n",
      "7.0      1113\n",
      "9.0       683\n",
      "Name: DEAF, dtype: int64\n",
      "0.0    384717\n",
      "1.0     37578\n",
      "Name: DEAF, dtype: int64\n",
      "========== KIDNEY ==========\n",
      "2.0    419779\n",
      "1.0     17101\n",
      "7.0      1488\n",
      "9.0       322\n",
      "Name: KIDNEY, dtype: int64\n",
      "0.0    419779\n",
      "1.0     17101\n",
      "Name: KIDNEY, dtype: int64\n",
      "========== LIVER1 ==========\n",
      "2.0    10580\n",
      "1.0      163\n",
      "7.0       48\n",
      "9.0       13\n",
      "Name: LIVER1, dtype: int64\n",
      "0.0    10580\n",
      "1.0      163\n",
      "Name: LIVER1, dtype: int64\n",
      "========== LIVER2 ==========\n",
      "2.0    10602\n",
      "1.0       95\n",
      "7.0       63\n",
      "9.0       19\n",
      "Name: LIVER2, dtype: int64\n",
      "0.0    10602\n",
      "1.0       95\n",
      "Name: LIVER2, dtype: int64\n",
      "========== HEARTDISEASE ==========\n",
      "2.0    413207\n",
      "1.0     22831\n",
      "7.0      2319\n",
      "9.0       334\n",
      "Name: HEARTDISEASE, dtype: int64\n",
      "0.0    413207\n",
      "1.0     22831\n",
      "Name: HEARTDISEASE, dtype: int64\n"
     ]
    }
   ],
   "source": [
    "# type1: BLIND, DEAF, KIDNEY, LIVER1, LIVER2, HEARTDISEASE\n",
    "# 1 -> 1\n",
    "# 2 -> 0\n",
    "# 7, 9 -> np.nan\n",
    "type1 = {1: 1, 2: 0, 7: np.nan, 9: np.nan}\n",
    "\n",
    "replace_value(\"BLIND\", type1)\n",
    "replace_value(\"DEAF\", type1)\n",
    "replace_value(\"KIDNEY\", type1)\n",
    "replace_value(\"LIVER1\", type1)\n",
    "replace_value(\"LIVER2\", type1)\n",
    "replace_value(\"HEARTDISEASE\", type1)"
   ]
  },
  {
   "cell_type": "code",
   "execution_count": 431,
   "id": "f53aa946-189f-4bba-a65f-518d51060584",
   "metadata": {},
   "outputs": [
    {
     "name": "stdout",
     "output_type": "stream",
     "text": [
      "========== DIABETE ==========\n",
      "3.0    366342\n",
      "1.0     57616\n",
      "4.0      9942\n",
      "2.0      3808\n",
      "7.0       613\n",
      "9.0       369\n",
      "Name: DIABETE, dtype: int64\n",
      "0.0    380092\n",
      "1.0     57616\n",
      "Name: DIABETE, dtype: int64\n",
      "========== HYPERTENSION ==========\n",
      "3.0    256603\n",
      "1.0    172133\n",
      "4.0      4571\n",
      "2.0      3474\n",
      "7.0      1191\n",
      "9.0       719\n",
      "Name: HYPERTENSION, dtype: int64\n",
      "0.0    264648\n",
      "1.0    172133\n",
      "Name: HYPERTENSION, dtype: int64\n"
     ]
    }
   ],
   "source": [
    "# type2: DIABETE, HYPERTENSION\n",
    "# 1 -> 1\n",
    "# 2, 3, 4 -> 0\n",
    "# 7, 9 -> np.nan\n",
    "type2 = {1: 1, 2: 0, 3: 0, 4: 0, 7: np.nan, 9: np.nan}\n",
    "\n",
    "replace_value(\"DIABETE\", type2)\n",
    "replace_value(\"HYPERTENSION\", type2)"
   ]
  },
  {
   "cell_type": "markdown",
   "id": "30aecb30-c90f-4a50-a5fb-0cd19f441494",
   "metadata": {},
   "source": [
    "### 데이터 변경 전체 확인"
   ]
  },
  {
   "cell_type": "code",
   "execution_count": 432,
   "id": "4b687eaa-47d0-407b-8d45-4796dc2d4128",
   "metadata": {},
   "outputs": [
    {
     "data": {
      "text/html": [
       "<div>\n",
       "<style scoped>\n",
       "    .dataframe tbody tr th:only-of-type {\n",
       "        vertical-align: middle;\n",
       "    }\n",
       "\n",
       "    .dataframe tbody tr th {\n",
       "        vertical-align: top;\n",
       "    }\n",
       "\n",
       "    .dataframe thead th {\n",
       "        text-align: right;\n",
       "    }\n",
       "</style>\n",
       "<table border=\"1\" class=\"dataframe\">\n",
       "  <thead>\n",
       "    <tr style=\"text-align: right;\">\n",
       "      <th></th>\n",
       "      <th>HEARTDISEASE</th>\n",
       "      <th>SEX</th>\n",
       "      <th>HEIGHT</th>\n",
       "      <th>WEIGHT</th>\n",
       "      <th>BLIND</th>\n",
       "      <th>DEAF</th>\n",
       "      <th>DIABETE</th>\n",
       "      <th>CHOLESTEROL</th>\n",
       "      <th>HYPERTENSION</th>\n",
       "      <th>KIDNEY</th>\n",
       "      <th>LIVER1</th>\n",
       "      <th>LIVER2</th>\n",
       "      <th>ALCOHOL</th>\n",
       "      <th>SMOKE</th>\n",
       "    </tr>\n",
       "  </thead>\n",
       "  <tbody>\n",
       "    <tr>\n",
       "      <th>0</th>\n",
       "      <td>0.0</td>\n",
       "      <td>F</td>\n",
       "      <td>149.86</td>\n",
       "      <td>32.658651</td>\n",
       "      <td>0.0</td>\n",
       "      <td>0.0</td>\n",
       "      <td>0.0</td>\n",
       "      <td>1.0</td>\n",
       "      <td>0.0</td>\n",
       "      <td>0.0</td>\n",
       "      <td>NaN</td>\n",
       "      <td>NaN</td>\n",
       "      <td>0.0</td>\n",
       "      <td>1.0</td>\n",
       "    </tr>\n",
       "    <tr>\n",
       "      <th>1</th>\n",
       "      <td>0.0</td>\n",
       "      <td>F</td>\n",
       "      <td>167.64</td>\n",
       "      <td>NaN</td>\n",
       "      <td>1.0</td>\n",
       "      <td>0.0</td>\n",
       "      <td>1.0</td>\n",
       "      <td>1.0</td>\n",
       "      <td>1.0</td>\n",
       "      <td>1.0</td>\n",
       "      <td>NaN</td>\n",
       "      <td>NaN</td>\n",
       "      <td>0.0</td>\n",
       "      <td>0.0</td>\n",
       "    </tr>\n",
       "    <tr>\n",
       "      <th>2</th>\n",
       "      <td>0.0</td>\n",
       "      <td>F</td>\n",
       "      <td>165.10</td>\n",
       "      <td>77.110703</td>\n",
       "      <td>0.0</td>\n",
       "      <td>0.0</td>\n",
       "      <td>1.0</td>\n",
       "      <td>2.0</td>\n",
       "      <td>1.0</td>\n",
       "      <td>0.0</td>\n",
       "      <td>NaN</td>\n",
       "      <td>NaN</td>\n",
       "      <td>0.0</td>\n",
       "      <td>0.0</td>\n",
       "    </tr>\n",
       "    <tr>\n",
       "      <th>3</th>\n",
       "      <td>0.0</td>\n",
       "      <td>F</td>\n",
       "      <td>162.56</td>\n",
       "      <td>88.450512</td>\n",
       "      <td>0.0</td>\n",
       "      <td>0.0</td>\n",
       "      <td>1.0</td>\n",
       "      <td>1.0</td>\n",
       "      <td>1.0</td>\n",
       "      <td>0.0</td>\n",
       "      <td>NaN</td>\n",
       "      <td>NaN</td>\n",
       "      <td>1.0</td>\n",
       "      <td>0.0</td>\n",
       "    </tr>\n",
       "    <tr>\n",
       "      <th>4</th>\n",
       "      <td>1.0</td>\n",
       "      <td>M</td>\n",
       "      <td>180.34</td>\n",
       "      <td>93.440028</td>\n",
       "      <td>0.0</td>\n",
       "      <td>1.0</td>\n",
       "      <td>1.0</td>\n",
       "      <td>1.0</td>\n",
       "      <td>0.0</td>\n",
       "      <td>0.0</td>\n",
       "      <td>NaN</td>\n",
       "      <td>NaN</td>\n",
       "      <td>0.0</td>\n",
       "      <td>0.0</td>\n",
       "    </tr>\n",
       "  </tbody>\n",
       "</table>\n",
       "</div>"
      ],
      "text/plain": [
       "   HEARTDISEASE SEX  HEIGHT     WEIGHT  BLIND  DEAF  DIABETE  CHOLESTEROL  \\\n",
       "0           0.0   F  149.86  32.658651    0.0   0.0      0.0          1.0   \n",
       "1           0.0   F  167.64        NaN    1.0   0.0      1.0          1.0   \n",
       "2           0.0   F  165.10  77.110703    0.0   0.0      1.0          2.0   \n",
       "3           0.0   F  162.56  88.450512    0.0   0.0      1.0          1.0   \n",
       "4           1.0   M  180.34  93.440028    0.0   1.0      1.0          1.0   \n",
       "\n",
       "   HYPERTENSION  KIDNEY  LIVER1  LIVER2  ALCOHOL  SMOKE  \n",
       "0           0.0     0.0     NaN     NaN      0.0    1.0  \n",
       "1           1.0     1.0     NaN     NaN      0.0    0.0  \n",
       "2           1.0     0.0     NaN     NaN      0.0    0.0  \n",
       "3           1.0     0.0     NaN     NaN      1.0    0.0  \n",
       "4           0.0     0.0     NaN     NaN      0.0    0.0  "
      ]
     },
     "metadata": {},
     "output_type": "display_data"
    },
    {
     "data": {
      "text/html": [
       "<div>\n",
       "<style scoped>\n",
       "    .dataframe tbody tr th:only-of-type {\n",
       "        vertical-align: middle;\n",
       "    }\n",
       "\n",
       "    .dataframe tbody tr th {\n",
       "        vertical-align: top;\n",
       "    }\n",
       "\n",
       "    .dataframe thead th {\n",
       "        text-align: right;\n",
       "    }\n",
       "</style>\n",
       "<table border=\"1\" class=\"dataframe\">\n",
       "  <thead>\n",
       "    <tr style=\"text-align: right;\">\n",
       "      <th></th>\n",
       "      <th>HEARTDISEASE</th>\n",
       "      <th>SEX</th>\n",
       "      <th>HEIGHT</th>\n",
       "      <th>WEIGHT</th>\n",
       "      <th>BLIND</th>\n",
       "      <th>DEAF</th>\n",
       "      <th>DIABETE</th>\n",
       "      <th>CHOLESTEROL</th>\n",
       "      <th>HYPERTENSION</th>\n",
       "      <th>KIDNEY</th>\n",
       "      <th>LIVER1</th>\n",
       "      <th>LIVER2</th>\n",
       "      <th>ALCOHOL</th>\n",
       "      <th>SMOKE</th>\n",
       "    </tr>\n",
       "  </thead>\n",
       "  <tbody>\n",
       "    <tr>\n",
       "      <th>438688</th>\n",
       "      <td>0.0</td>\n",
       "      <td>F</td>\n",
       "      <td>157.48</td>\n",
       "      <td>61.234970</td>\n",
       "      <td>0.0</td>\n",
       "      <td>0.0</td>\n",
       "      <td>0.0</td>\n",
       "      <td>2.0</td>\n",
       "      <td>1.0</td>\n",
       "      <td>0.0</td>\n",
       "      <td>NaN</td>\n",
       "      <td>NaN</td>\n",
       "      <td>1.0</td>\n",
       "      <td>1.0</td>\n",
       "    </tr>\n",
       "    <tr>\n",
       "      <th>438689</th>\n",
       "      <td>0.0</td>\n",
       "      <td>M</td>\n",
       "      <td>157.48</td>\n",
       "      <td>NaN</td>\n",
       "      <td>1.0</td>\n",
       "      <td>0.0</td>\n",
       "      <td>1.0</td>\n",
       "      <td>2.0</td>\n",
       "      <td>1.0</td>\n",
       "      <td>0.0</td>\n",
       "      <td>NaN</td>\n",
       "      <td>NaN</td>\n",
       "      <td>0.0</td>\n",
       "      <td>0.0</td>\n",
       "    </tr>\n",
       "    <tr>\n",
       "      <th>438690</th>\n",
       "      <td>0.0</td>\n",
       "      <td>M</td>\n",
       "      <td>180.34</td>\n",
       "      <td>99.790321</td>\n",
       "      <td>0.0</td>\n",
       "      <td>0.0</td>\n",
       "      <td>0.0</td>\n",
       "      <td>1.0</td>\n",
       "      <td>0.0</td>\n",
       "      <td>0.0</td>\n",
       "      <td>NaN</td>\n",
       "      <td>NaN</td>\n",
       "      <td>1.0</td>\n",
       "      <td>0.0</td>\n",
       "    </tr>\n",
       "    <tr>\n",
       "      <th>438691</th>\n",
       "      <td>0.0</td>\n",
       "      <td>M</td>\n",
       "      <td>182.88</td>\n",
       "      <td>79.378665</td>\n",
       "      <td>0.0</td>\n",
       "      <td>0.0</td>\n",
       "      <td>0.0</td>\n",
       "      <td>2.0</td>\n",
       "      <td>1.0</td>\n",
       "      <td>0.0</td>\n",
       "      <td>NaN</td>\n",
       "      <td>NaN</td>\n",
       "      <td>1.0</td>\n",
       "      <td>0.0</td>\n",
       "    </tr>\n",
       "    <tr>\n",
       "      <th>438692</th>\n",
       "      <td>0.0</td>\n",
       "      <td>F</td>\n",
       "      <td>160.02</td>\n",
       "      <td>81.193034</td>\n",
       "      <td>0.0</td>\n",
       "      <td>0.0</td>\n",
       "      <td>0.0</td>\n",
       "      <td>1.0</td>\n",
       "      <td>0.0</td>\n",
       "      <td>0.0</td>\n",
       "      <td>NaN</td>\n",
       "      <td>NaN</td>\n",
       "      <td>1.0</td>\n",
       "      <td>0.0</td>\n",
       "    </tr>\n",
       "  </tbody>\n",
       "</table>\n",
       "</div>"
      ],
      "text/plain": [
       "        HEARTDISEASE SEX  HEIGHT     WEIGHT  BLIND  DEAF  DIABETE  \\\n",
       "438688           0.0   F  157.48  61.234970    0.0   0.0      0.0   \n",
       "438689           0.0   M  157.48        NaN    1.0   0.0      1.0   \n",
       "438690           0.0   M  180.34  99.790321    0.0   0.0      0.0   \n",
       "438691           0.0   M  182.88  79.378665    0.0   0.0      0.0   \n",
       "438692           0.0   F  160.02  81.193034    0.0   0.0      0.0   \n",
       "\n",
       "        CHOLESTEROL  HYPERTENSION  KIDNEY  LIVER1  LIVER2  ALCOHOL  SMOKE  \n",
       "438688          2.0           1.0     0.0     NaN     NaN      1.0    1.0  \n",
       "438689          2.0           1.0     0.0     NaN     NaN      0.0    0.0  \n",
       "438690          1.0           0.0     0.0     NaN     NaN      1.0    0.0  \n",
       "438691          2.0           1.0     0.0     NaN     NaN      1.0    0.0  \n",
       "438692          1.0           0.0     0.0     NaN     NaN      1.0    0.0  "
      ]
     },
     "metadata": {},
     "output_type": "display_data"
    }
   ],
   "source": [
    "display(df.head())\n",
    "display(df.tail())"
   ]
  },
  {
   "cell_type": "markdown",
   "id": "d19826a4-eaed-4ff0-88f0-c7dd481941e1",
   "metadata": {},
   "source": [
    "## 수정한 데이터를 csv 파일로 저장"
   ]
  },
  {
   "cell_type": "code",
   "execution_count": 433,
   "id": "e72e4185-ad35-4567-93dd-bda8860fcf16",
   "metadata": {},
   "outputs": [],
   "source": [
    "df.to_csv('./data/edit_brfss.csv', index=False) #https://velog.io/@holi/Pandas-Write-Files"
   ]
  },
  {
   "cell_type": "markdown",
   "id": "ceff45ce",
   "metadata": {
    "ExecuteTime": {
     "end_time": "2022-12-20T03:50:21.060184Z",
     "start_time": "2022-12-20T03:50:21.045915Z"
    }
   },
   "source": [
    "# 건강검진정보"
   ]
  },
  {
   "cell_type": "markdown",
   "id": "95c1ce47-2248-4833-90ad-890a82aef6f2",
   "metadata": {},
   "source": [
    "## 값 맞는지 확인"
   ]
  },
  {
   "cell_type": "code",
   "execution_count": 5,
   "id": "2fe2d354-b118-446a-8486-871e84790cf4",
   "metadata": {},
   "outputs": [
    {
     "data": {
      "text/html": [
       "<div>\n",
       "<style scoped>\n",
       "    .dataframe tbody tr th:only-of-type {\n",
       "        vertical-align: middle;\n",
       "    }\n",
       "\n",
       "    .dataframe tbody tr th {\n",
       "        vertical-align: top;\n",
       "    }\n",
       "\n",
       "    .dataframe thead th {\n",
       "        text-align: right;\n",
       "    }\n",
       "</style>\n",
       "<table border=\"1\" class=\"dataframe\">\n",
       "  <thead>\n",
       "    <tr style=\"text-align: right;\">\n",
       "      <th></th>\n",
       "      <th>지역</th>\n",
       "      <th>심장혈관흉부외과의원</th>\n",
       "    </tr>\n",
       "  </thead>\n",
       "  <tbody>\n",
       "    <tr>\n",
       "      <th>0</th>\n",
       "      <td>강원도</td>\n",
       "      <td>1.0</td>\n",
       "    </tr>\n",
       "    <tr>\n",
       "      <th>1</th>\n",
       "      <td>경기도</td>\n",
       "      <td>9.0</td>\n",
       "    </tr>\n",
       "    <tr>\n",
       "      <th>2</th>\n",
       "      <td>경상남도</td>\n",
       "      <td>2.0</td>\n",
       "    </tr>\n",
       "    <tr>\n",
       "      <th>3</th>\n",
       "      <td>경상북도</td>\n",
       "      <td>2.0</td>\n",
       "    </tr>\n",
       "    <tr>\n",
       "      <th>4</th>\n",
       "      <td>광주광역시</td>\n",
       "      <td>NaN</td>\n",
       "    </tr>\n",
       "    <tr>\n",
       "      <th>5</th>\n",
       "      <td>대구광역시</td>\n",
       "      <td>3.0</td>\n",
       "    </tr>\n",
       "    <tr>\n",
       "      <th>6</th>\n",
       "      <td>대전광역시</td>\n",
       "      <td>4.0</td>\n",
       "    </tr>\n",
       "    <tr>\n",
       "      <th>7</th>\n",
       "      <td>부산광역시</td>\n",
       "      <td>8.0</td>\n",
       "    </tr>\n",
       "    <tr>\n",
       "      <th>8</th>\n",
       "      <td>서울특별시</td>\n",
       "      <td>10.0</td>\n",
       "    </tr>\n",
       "    <tr>\n",
       "      <th>9</th>\n",
       "      <td>세종특별자치시</td>\n",
       "      <td>NaN</td>\n",
       "    </tr>\n",
       "    <tr>\n",
       "      <th>10</th>\n",
       "      <td>울산광역시</td>\n",
       "      <td>5.0</td>\n",
       "    </tr>\n",
       "    <tr>\n",
       "      <th>11</th>\n",
       "      <td>인천광역시</td>\n",
       "      <td>1.0</td>\n",
       "    </tr>\n",
       "    <tr>\n",
       "      <th>12</th>\n",
       "      <td>전라남도</td>\n",
       "      <td>2.0</td>\n",
       "    </tr>\n",
       "    <tr>\n",
       "      <th>13</th>\n",
       "      <td>전라북도</td>\n",
       "      <td>1.0</td>\n",
       "    </tr>\n",
       "    <tr>\n",
       "      <th>14</th>\n",
       "      <td>제주특별자치도</td>\n",
       "      <td>1.0</td>\n",
       "    </tr>\n",
       "    <tr>\n",
       "      <th>15</th>\n",
       "      <td>충청남도</td>\n",
       "      <td>4.0</td>\n",
       "    </tr>\n",
       "    <tr>\n",
       "      <th>16</th>\n",
       "      <td>충청북도</td>\n",
       "      <td>4.0</td>\n",
       "    </tr>\n",
       "  </tbody>\n",
       "</table>\n",
       "</div>"
      ],
      "text/plain": [
       "         지역  심장혈관흉부외과의원\n",
       "0       강원도         1.0\n",
       "1       경기도         9.0\n",
       "2      경상남도         2.0\n",
       "3      경상북도         2.0\n",
       "4     광주광역시         NaN\n",
       "5     대구광역시         3.0\n",
       "6     대전광역시         4.0\n",
       "7     부산광역시         8.0\n",
       "8     서울특별시        10.0\n",
       "9   세종특별자치시         NaN\n",
       "10    울산광역시         5.0\n",
       "11    인천광역시         1.0\n",
       "12     전라남도         2.0\n",
       "13     전라북도         1.0\n",
       "14  제주특별자치도         1.0\n",
       "15     충청남도         4.0\n",
       "16     충청북도         4.0"
      ]
     },
     "metadata": {},
     "output_type": "display_data"
    }
   ],
   "source": [
    "df = pd.read_csv('./data/region.csv')\n",
    "display(df[['지역','심장혈관흉부외과의원']]) #지역별의원표시과목현황.xls와 비교"
   ]
  },
  {
   "cell_type": "code",
   "execution_count": 6,
   "id": "7a6986c7-daa7-43dc-8272-4904d753e0c9",
   "metadata": {},
   "outputs": [
    {
     "data": {
      "text/html": [
       "<div>\n",
       "<style scoped>\n",
       "    .dataframe tbody tr th:only-of-type {\n",
       "        vertical-align: middle;\n",
       "    }\n",
       "\n",
       "    .dataframe tbody tr th {\n",
       "        vertical-align: top;\n",
       "    }\n",
       "\n",
       "    .dataframe thead th {\n",
       "        text-align: right;\n",
       "    }\n",
       "</style>\n",
       "<table border=\"1\" class=\"dataframe\">\n",
       "  <thead>\n",
       "    <tr style=\"text-align: right;\">\n",
       "      <th></th>\n",
       "      <th>지역</th>\n",
       "      <th>상급종합병원</th>\n",
       "      <th>종합병원</th>\n",
       "      <th>병원</th>\n",
       "    </tr>\n",
       "  </thead>\n",
       "  <tbody>\n",
       "    <tr>\n",
       "      <th>0</th>\n",
       "      <td>강원도</td>\n",
       "      <td>2</td>\n",
       "      <td>13</td>\n",
       "      <td>37</td>\n",
       "    </tr>\n",
       "    <tr>\n",
       "      <th>1</th>\n",
       "      <td>경기도</td>\n",
       "      <td>5</td>\n",
       "      <td>62</td>\n",
       "      <td>277</td>\n",
       "    </tr>\n",
       "    <tr>\n",
       "      <th>2</th>\n",
       "      <td>경상남도</td>\n",
       "      <td>3</td>\n",
       "      <td>23</td>\n",
       "      <td>134</td>\n",
       "    </tr>\n",
       "    <tr>\n",
       "      <th>3</th>\n",
       "      <td>경상북도</td>\n",
       "      <td>0</td>\n",
       "      <td>20</td>\n",
       "      <td>55</td>\n",
       "    </tr>\n",
       "    <tr>\n",
       "      <th>4</th>\n",
       "      <td>광주광역시</td>\n",
       "      <td>2</td>\n",
       "      <td>21</td>\n",
       "      <td>84</td>\n",
       "    </tr>\n",
       "    <tr>\n",
       "      <th>5</th>\n",
       "      <td>대구광역시</td>\n",
       "      <td>5</td>\n",
       "      <td>13</td>\n",
       "      <td>88</td>\n",
       "    </tr>\n",
       "    <tr>\n",
       "      <th>6</th>\n",
       "      <td>대전광역시</td>\n",
       "      <td>1</td>\n",
       "      <td>9</td>\n",
       "      <td>46</td>\n",
       "    </tr>\n",
       "    <tr>\n",
       "      <th>7</th>\n",
       "      <td>부산광역시</td>\n",
       "      <td>3</td>\n",
       "      <td>25</td>\n",
       "      <td>136</td>\n",
       "    </tr>\n",
       "    <tr>\n",
       "      <th>8</th>\n",
       "      <td>서울특별시</td>\n",
       "      <td>14</td>\n",
       "      <td>42</td>\n",
       "      <td>222</td>\n",
       "    </tr>\n",
       "    <tr>\n",
       "      <th>9</th>\n",
       "      <td>세종특별자치시</td>\n",
       "      <td>0</td>\n",
       "      <td>2</td>\n",
       "      <td>1</td>\n",
       "    </tr>\n",
       "    <tr>\n",
       "      <th>10</th>\n",
       "      <td>울산광역시</td>\n",
       "      <td>1</td>\n",
       "      <td>8</td>\n",
       "      <td>33</td>\n",
       "    </tr>\n",
       "    <tr>\n",
       "      <th>11</th>\n",
       "      <td>인천광역시</td>\n",
       "      <td>3</td>\n",
       "      <td>17</td>\n",
       "      <td>56</td>\n",
       "    </tr>\n",
       "    <tr>\n",
       "      <th>12</th>\n",
       "      <td>전라남도</td>\n",
       "      <td>1</td>\n",
       "      <td>24</td>\n",
       "      <td>74</td>\n",
       "    </tr>\n",
       "    <tr>\n",
       "      <th>13</th>\n",
       "      <td>전라북도</td>\n",
       "      <td>2</td>\n",
       "      <td>11</td>\n",
       "      <td>64</td>\n",
       "    </tr>\n",
       "    <tr>\n",
       "      <th>14</th>\n",
       "      <td>제주특별자치도</td>\n",
       "      <td>0</td>\n",
       "      <td>6</td>\n",
       "      <td>7</td>\n",
       "    </tr>\n",
       "    <tr>\n",
       "      <th>15</th>\n",
       "      <td>충청남도</td>\n",
       "      <td>2</td>\n",
       "      <td>11</td>\n",
       "      <td>46</td>\n",
       "    </tr>\n",
       "    <tr>\n",
       "      <th>16</th>\n",
       "      <td>충청북도</td>\n",
       "      <td>1</td>\n",
       "      <td>12</td>\n",
       "      <td>37</td>\n",
       "    </tr>\n",
       "  </tbody>\n",
       "</table>\n",
       "</div>"
      ],
      "text/plain": [
       "         지역  상급종합병원  종합병원   병원\n",
       "0       강원도       2    13   37\n",
       "1       경기도       5    62  277\n",
       "2      경상남도       3    23  134\n",
       "3      경상북도       0    20   55\n",
       "4     광주광역시       2    21   84\n",
       "5     대구광역시       5    13   88\n",
       "6     대전광역시       1     9   46\n",
       "7     부산광역시       3    25  136\n",
       "8     서울특별시      14    42  222\n",
       "9   세종특별자치시       0     2    1\n",
       "10    울산광역시       1     8   33\n",
       "11    인천광역시       3    17   56\n",
       "12     전라남도       1    24   74\n",
       "13     전라북도       2    11   64\n",
       "14  제주특별자치도       0     6    7\n",
       "15     충청남도       2    11   46\n",
       "16     충청북도       1    12   37"
      ]
     },
     "metadata": {},
     "output_type": "display_data"
    }
   ],
   "source": [
    "display(df[['지역','상급종합병원','종합병원','병원',]]) #지역별종별요양기관수현황.xls과 비교"
   ]
  },
  {
   "cell_type": "markdown",
   "id": "919b06a5",
   "metadata": {},
   "source": [
    "## 데이터 불러오기"
   ]
  },
  {
   "cell_type": "code",
   "execution_count": null,
   "id": "0e5701e5-5205-47b7-bc41-657c4e0d698d",
   "metadata": {},
   "outputs": [],
   "source": []
  },
  {
   "cell_type": "markdown",
   "id": "f28d69f0",
   "metadata": {},
   "source": [
    "### 2020년 데이터"
   ]
  },
  {
   "cell_type": "code",
   "execution_count": 1,
   "id": "a8e33001",
   "metadata": {
    "ExecuteTime": {
     "end_time": "2022-12-20T05:12:05.290557Z",
     "start_time": "2022-12-20T05:12:05.285518Z"
    }
   },
   "outputs": [],
   "source": [
    "# API 키 불러오기\n",
    "import json\n",
    "\n",
    "with open(\"./secret.json\", \"r\") as f:\n",
    "    KEY = json.load(f)"
   ]
  },
  {
   "cell_type": "code",
   "execution_count": 10,
   "id": "58ab4837",
   "metadata": {
    "ExecuteTime": {
     "end_time": "2022-12-20T05:20:18.506728Z",
     "start_time": "2022-12-20T05:20:18.487903Z"
    }
   },
   "outputs": [],
   "source": [
    "import requests\n",
    "from urllib import request\n",
    "from bs4 import BeautifulSoup\n",
    "\n",
    "import pandas as pd\n",
    "\n",
    "API = \"https://api.odcloud.kr/api/15007122/v1/uddi:95d6cbf2-f800-4ce3-a4f7-f57823274732?\""
   ]
  },
  {
   "cell_type": "code",
   "execution_count": 26,
   "id": "112863bf",
   "metadata": {
    "ExecuteTime": {
     "end_time": "2022-12-20T05:27:11.335721Z",
     "start_time": "2022-12-20T05:27:11.091750Z"
    }
   },
   "outputs": [
    {
     "name": "stdout",
     "output_type": "stream",
     "text": [
      "<class 'pandas.core.frame.DataFrame'>\n",
      "RangeIndex: 4 entries, 0 to 3\n",
      "Data columns (total 1 columns):\n",
      " #   Column  Non-Null Count  Dtype \n",
      "---  ------  --------------  ----- \n",
      " 0   <html>  4 non-null      object\n",
      "dtypes: object(1)\n",
      "memory usage: 160.0+ bytes\n"
     ]
    }
   ],
   "source": [
    "pageNum = 1\n",
    "df = pd.DataFrame()\n",
    "\n",
    "while True:\n",
    "    print(f\"page {pageNum}\", end=\" \")\n",
    "    url = API + f\"serviceKey={KEY['ENCODING']}&perPage={1000}&page={pageNum}\"\n",
    "    \n",
    "    result = request.urlopen(url)\n",
    "    soup = BeautifulSoup(result, \"html.parser\")\n",
    "    json_data = json.loads(str(soup))\n",
    "    \n",
    "    if json_data[\"currentCount\"] == 0:\n",
    "        break\n",
    "    \n",
    "    df = pd.concat([df, pd.DataFrame(json_data[\"data\"])], axis=0, ignore_index=True)\n",
    "    \n",
    "    pageNum = pageNum + 1\n",
    "    \n",
    "df.info()"
   ]
  },
  {
   "cell_type": "markdown",
   "id": "0a5684ea",
   "metadata": {
    "ExecuteTime": {
     "end_time": "2022-12-20T05:28:20.607369Z",
     "start_time": "2022-12-20T05:28:20.596362Z"
    }
   },
   "source": [
    "### 2019년 데이터"
   ]
  },
  {
   "cell_type": "code",
   "execution_count": null,
   "id": "c1c9ad31",
   "metadata": {},
   "outputs": [],
   "source": [
    "path = \"SCR_2019_1백만20210119수정.csv\""
   ]
  },
  {
   "cell_type": "markdown",
   "id": "4e937904",
   "metadata": {
    "ExecuteTime": {
     "end_time": "2022-12-20T03:51:27.383532Z",
     "start_time": "2022-12-20T03:51:27.371532Z"
    }
   },
   "source": [
    "# 의료 수준"
   ]
  },
  {
   "cell_type": "code",
   "execution_count": null,
   "id": "50a12fa0",
   "metadata": {},
   "outputs": [],
   "source": []
  }
 ],
 "metadata": {
  "kernelspec": {
   "display_name": "eduvenv",
   "language": "python",
   "name": "eduvenv"
  },
  "language_info": {
   "codemirror_mode": {
    "name": "ipython",
    "version": 3
   },
   "file_extension": ".py",
   "mimetype": "text/x-python",
   "name": "python",
   "nbconvert_exporter": "python",
   "pygments_lexer": "ipython3",
   "version": "3.9.15"
  },
  "varInspector": {
   "cols": {
    "lenName": 16,
    "lenType": 16,
    "lenVar": 40
   },
   "kernels_config": {
    "python": {
     "delete_cmd_postfix": "",
     "delete_cmd_prefix": "del ",
     "library": "var_list.py",
     "varRefreshCmd": "print(var_dic_list())"
    },
    "r": {
     "delete_cmd_postfix": ") ",
     "delete_cmd_prefix": "rm(",
     "library": "var_list.r",
     "varRefreshCmd": "cat(var_dic_list()) "
    }
   },
   "types_to_exclude": [
    "module",
    "function",
    "builtin_function_or_method",
    "instance",
    "_Feature"
   ],
   "window_display": false
  }
 },
 "nbformat": 4,
 "nbformat_minor": 5
}
